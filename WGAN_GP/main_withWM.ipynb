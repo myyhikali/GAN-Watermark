{
 "cells": [
  {
   "cell_type": "code",
   "execution_count": 1,
   "metadata": {},
   "outputs": [],
   "source": [
    "import os\n",
    "\n",
    "## GAN Variants\n",
    "# from GAN import GAN\n",
    "# from CGAN import CGAN\n",
    "# from infoGAN import infoGAN\n",
    "# from ACGAN import ACGAN\n",
    "# from EBGAN import EBGAN\n",
    "# from WGAN import WGAN\n",
    "from WGAN_GP_withWM import WGAN_GP\n",
    "# from DRAGAN import DRAGAN\n",
    "# from LSGAN import LSGAN\n",
    "# from BEGAN import BEGAN\n",
    "\n",
    "## VAE Variants\n",
    "# from VAE import VAE\n",
    "# from CVAE import CVAE\n",
    "\n",
    "from utils_withWM import show_all_variables\n",
    "from utils_withWM import check_folder\n",
    "\n",
    "import tensorflow as tf\n",
    "import argparse\n",
    "\n",
    "import numpy as np\n",
    "\n",
    "os.environ[\"CUDA_VISIBLE_DEVICES\"] = \"1\"\n",
    "config = tf.ConfigProto()\n",
    "#config.gpu_options.per_process_gpu_memory_fraction = 0.9  # 程序最多只能占用指定gpu90%的显存\n",
    "#config.gpu_options.allow_growth = True      #程序按需申请内存\n",
    "sess = tf.Session(config = config)"
   ]
  },
  {
   "cell_type": "code",
   "execution_count": 2,
   "metadata": {},
   "outputs": [],
   "source": [
    "\"\"\"parsing and configuration\"\"\"\n",
    "def parse_args():\n",
    "    desc = \"Tensorflow implementation of GAN collections\"\n",
    "    parser = argparse.ArgumentParser(description=desc)\n",
    "    \n",
    "    #args = parser.parse_args(args=[])\n",
    "    \n",
    "    parser.add_argument('--gan_type', type=str, default='GAN',\n",
    "                        choices=['GAN', 'CGAN', 'infoGAN', 'ACGAN', 'EBGAN', 'BEGAN', 'WGAN', 'WGAN_GP', 'DRAGAN', 'LSGAN', 'VAE', 'CVAE'],\n",
    "                        help='The type of GAN')\n",
    "                        #help='The type of GAN', required=True)\n",
    "    parser.add_argument('--dataset', type=str, default='mnist', choices=['mnist', 'fashion-mnist', 'celebA', 'Anime'],\n",
    "                        help='The name of dataset')\n",
    "    parser.add_argument('--epoch', type=int, default=200, help='The number of epochs to run')\n",
    "    parser.add_argument('--batch_size', type=int, default=128, help='The size of batch')\n",
    "    parser.add_argument('--z_dim', type=int, default=128, help='Dimension of noise vector')\n",
    "    parser.add_argument('--checkpoint_dir', type=str, default='./ResultWithWM/checkpoint',\n",
    "                        help='Directory name to save the checkpoints')\n",
    "    parser.add_argument('--result_dir', type=str, default='./ResultWithWM/results',\n",
    "                        help='Directory name to save the generated images')\n",
    "    parser.add_argument('--log_dir', type=str, default='./ResultWithWM/logs',\n",
    "                        help='Directory name to save training logs')\n",
    "    parser.add_argument('--mode', type=str, default='train',\n",
    "                        help='train or infer')\n",
    "    parser.add_argument('--testing_tags', type=str, default='./AnimeDataset/sample_testing_text.txt',\n",
    "                        help='train or infer')\n",
    "    return check_args(parser.parse_args(args=['--gan_type','WGAN_GP','--dataset','Anime','--mode','train',\n",
    "                                              '--testing_tags','./extra_data/test']))\n",
    "    #return check_args(parser.parse_args())\n",
    "\n",
    "\"\"\"checking arguments\"\"\"\n",
    "def check_args(args): \n",
    "    # --checkpoint_dir\n",
    "    check_folder(args.checkpoint_dir)\n",
    "\n",
    "    # --result_dir\n",
    "    check_folder(args.result_dir)\n",
    "\n",
    "    # --result_dir\n",
    "    check_folder(args.log_dir)\n",
    "\n",
    "    # --epoch\n",
    "    assert args.epoch >= 1, 'number of epochs must be larger than or equal to one'\n",
    "\n",
    "    # --batch_size\n",
    "    assert args.batch_size >= 1, 'batch size must be larger than or equal to one'\n",
    "\n",
    "    # --z_dim\n",
    "    assert args.z_dim >= 1, 'dimension of noise vector must be larger than or equal to one'\n",
    "\n",
    "    return args"
   ]
  },
  {
   "cell_type": "code",
   "execution_count": 3,
   "metadata": {},
   "outputs": [
    {
     "name": "stdout",
     "output_type": "stream",
     "text": [
      "finish\n"
     ]
    }
   ],
   "source": [
    "\"\"\"main\"\"\"\n",
    "def main():\n",
    "    # Fix random seed.\n",
    "    tf.set_random_seed(9487)\n",
    "    #tf.random.set_seed(9487)\n",
    "    \n",
    "    # parse arguments\n",
    "    args = parse_args()\n",
    "    if args is None:\n",
    "          exit()\n",
    "\n",
    "    # open session\n",
    "    # models = [GAN, CGAN, infoGAN, ACGAN, EBGAN, WGAN, WGAN_GP, DRAGAN,\n",
    "    #           LSGAN, BEGAN, VAE, CVAE]\n",
    "    models = [WGAN_GP] \n",
    "    #with tf.Session(config=tf.ConfigProto(allow_soft_placement=True)) as sess:\n",
    "    with tf.compat.v1.Session(config=tf.compat.v1.ConfigProto(allow_soft_placement=True)) as sess:    \n",
    "        # declare instance for GAN\n",
    "\n",
    "        gan = None\n",
    "        for model in models: # 查找该模型属于哪一个GAN\n",
    "            if args.gan_type == model.model_name:\n",
    "                gan = model(sess,\n",
    "                            epoch=args.epoch,\n",
    "                            batch_size=args.batch_size,\n",
    "                            z_dim=args.z_dim,\n",
    "                            dataset_name=args.dataset,\n",
    "                            checkpoint_dir=args.checkpoint_dir,\n",
    "                            result_dir=args.result_dir,\n",
    "                            log_dir=args.log_dir, \n",
    "                            mode=args.mode)\n",
    "        if gan is None:\n",
    "            raise Exception(\"[!] There is no option for \" + args.gan_type)\n",
    "\n",
    "        # build graph\n",
    "        gan.build_model()\n",
    "\n",
    "        # show network architecture\n",
    "        show_all_variables()\n",
    "        if args.mode == 'train':\n",
    "            # launch the graph in a session\n",
    "            gan.train()\n",
    "            print(\" [*] Training finished!\")\n",
    "\n",
    "            # # visualize learned generator\n",
    "            # gan.visualize_results(args.epoch-1)\n",
    "            # print(\" [*] Testing finished!\")\n",
    "        elif args.mode == 'infer': # 我找到测试的代码了\n",
    "            tag_dict = ['orange hair', 'white hair', 'aqua hair', 'gray hair', 'green hair', 'red hair', 'purple hair', \n",
    "                        'pink hair', 'blue hair', 'black hair', 'brown hair', 'blonde hair', 'no hair',\n",
    "                        'gray eyes', 'black eyes', 'orange eyes', 'pink eyes', 'yellow eyes',\n",
    "                        'aqua eyes', 'purple eyes', 'green eyes', 'brown eyes', 'red eyes', 'blue eyes','no eyes']\n",
    "            testing_tags_txt = open(args.testing_tags, 'r').readlines()\n",
    "\n",
    "            test_labels = np.zeros((args.batch_size, len(tag_dict)))\n",
    "            for line in testing_tags_txt:\n",
    "                id, tags = line.split(',')\n",
    "                label = np.zeros(len(tag_dict))\n",
    "                \n",
    "                for i in range(len(tag_dict)):\n",
    "                    if tag_dict[i] in tags:\n",
    "                        label[i] = 1\n",
    "                test_labels[int(id) - 1] = label\n",
    "                \n",
    "            # visualize learned generator\n",
    "            gan.infer(test_labels)\n",
    "            print(\" [*] Infer finished!\")\n",
    "\n",
    "print(\"finish\")"
   ]
  },
  {
   "cell_type": "code",
   "execution_count": 4,
   "metadata": {
    "scrolled": true
   },
   "outputs": [
    {
     "name": "stdout",
     "output_type": "stream",
     "text": [
      "[Tip 14] Train discriminator more (sometimes)\n",
      "images.shape:  (36940, 64, 64, 3)\n",
      "labels.shape:  (36940, 25)\n",
      "Loading images to numpy array...\n",
      "Random shuffling images and labels...\n",
      "[Tip 1] Normalize the images between -1 and 1.\n"
     ]
    },
    {
     "name": "stderr",
     "output_type": "stream",
     "text": [
      "WARNING: Logging before flag parsing goes to stderr.\n",
      "W0410 12:52:00.041800 140670769506112 deprecation_wrapper.py:119] From /tf/notebooks/anime_myy/WGAN_GP_withWM.py:160: The name tf.set_random_seed is deprecated. Please use tf.compat.v1.set_random_seed instead.\n",
      "\n",
      "W0410 12:52:00.043135 140670769506112 deprecation_wrapper.py:119] From /tf/notebooks/anime_myy/WGAN_GP_withWM.py:168: The name tf.placeholder is deprecated. Please use tf.compat.v1.placeholder instead.\n",
      "\n",
      "W0410 12:52:00.103230 140670769506112 deprecation_wrapper.py:119] From /tf/notebooks/anime_myy/WGAN_GP_withWM.py:173: The name tf.random_uniform is deprecated. Please use tf.random.uniform instead.\n",
      "\n",
      "W0410 12:52:00.149402 140670769506112 deprecation_wrapper.py:119] From /tf/notebooks/anime_myy/WGAN_GP_withWM.py:132: The name tf.variable_scope is deprecated. Please use tf.compat.v1.variable_scope instead.\n",
      "\n"
     ]
    },
    {
     "name": "stdout",
     "output_type": "stream",
     "text": [
      "[Tip Hung-yi Lee] Data Augmentation (flip images horizontally + rotate images)\n",
      "[Tip 4] BatchNorm\n",
      "[Tip 5] Avoid Sparse Gradients: ReLU, MaxPool\n"
     ]
    },
    {
     "name": "stderr",
     "output_type": "stream",
     "text": [
      "W0410 12:52:00.466180 140670769506112 deprecation.py:323] From /tf/notebooks/anime_myy/WGAN_GP_withWM.py:141: batch_normalization (from tensorflow.python.layers.normalization) is deprecated and will be removed in a future version.\n",
      "Instructions for updating:\n",
      "Use keras.layers.BatchNormalization instead.  In particular, `tf.control_dependencies(tf.GraphKeys.UPDATE_OPS)` should not be used (consult the `tf.keras.layers.batch_normalization` documentation).\n",
      "W0410 12:52:01.477191 140670769506112 deprecation_wrapper.py:119] From /tf/notebooks/anime_myy/WGAN_GP_withWM.py:198: The name tf.AUTO_REUSE is deprecated. Please use tf.compat.v1.AUTO_REUSE instead.\n",
      "\n"
     ]
    },
    {
     "name": "stdout",
     "output_type": "stream",
     "text": [
      "[Tip 5] Avoid Sparse Gradients: ReLU, MaxPool\n"
     ]
    },
    {
     "name": "stderr",
     "output_type": "stream",
     "text": [
      "W0410 12:52:01.686436 140670769506112 deprecation.py:323] From /usr/local/lib/python3.6/dist-packages/tensorflow/contrib/layers/python/layers/layers.py:1634: flatten (from tensorflow.python.layers.core) is deprecated and will be removed in a future version.\n",
      "Instructions for updating:\n",
      "Use keras.layers.flatten instead.\n",
      "W0410 12:52:02.067687 140670769506112 deprecation.py:323] From /usr/local/lib/python3.6/dist-packages/tensorflow/python/ops/nn_impl.py:180: add_dispatch_support.<locals>.wrapper (from tensorflow.python.ops.array_ops) is deprecated and will be removed in a future version.\n",
      "Instructions for updating:\n",
      "Use tf.where in 2.0, which has the same broadcast rule as np.where\n"
     ]
    },
    {
     "name": "stdout",
     "output_type": "stream",
     "text": [
      "[Tip 5] Avoid Sparse Gradients: ReLU, MaxPool\n",
      "[Tip 5] Avoid Sparse Gradients: ReLU, MaxPool\n",
      "[Tip 5] Avoid Sparse Gradients: ReLU, MaxPool\n",
      "[Tip 5] Avoid Sparse Gradients: ReLU, MaxPool\n"
     ]
    },
    {
     "name": "stderr",
     "output_type": "stream",
     "text": [
      "W0410 12:52:02.220255 140670769506112 deprecation_wrapper.py:119] From /tf/notebooks/anime_myy/WGAN_GP_withWM.py:240: The name tf.train.AdamOptimizer is deprecated. Please use tf.compat.v1.train.AdamOptimizer instead.\n",
      "\n",
      "W0410 12:52:03.860618 140670769506112 deprecation_wrapper.py:119] From /tf/notebooks/anime_myy/WGAN_GP_withWM.py:252: The name tf.summary.scalar is deprecated. Please use tf.compat.v1.summary.scalar instead.\n",
      "\n",
      "W0410 12:52:03.865795 140670769506112 deprecation_wrapper.py:119] From /tf/notebooks/anime_myy/WGAN_GP_withWM.py:258: The name tf.summary.merge is deprecated. Please use tf.compat.v1.summary.merge instead.\n",
      "\n"
     ]
    },
    {
     "name": "stdout",
     "output_type": "stream",
     "text": [
      "[Tip 5] Avoid Sparse Gradients: ReLU, MaxPool\n",
      "---------\n",
      "Variables: name (type shape) [size]\n",
      "---------\n",
      "generator/fully_connected/weights:0 (float32_ref 153x6144) [940032, bytes: 3760128]\n",
      "generator/fully_connected/biases:0 (float32_ref 6144) [6144, bytes: 24576]\n",
      "generator/batch_normalization/gamma:0 (float32_ref 6144) [6144, bytes: 24576]\n",
      "generator/batch_normalization/beta:0 (float32_ref 6144) [6144, bytes: 24576]\n",
      "generator/Conv2d_transpose/weights:0 (float32_ref 5x5x256x384) [2457600, bytes: 9830400]\n",
      "generator/Conv2d_transpose/biases:0 (float32_ref 256) [256, bytes: 1024]\n",
      "generator/batch_normalization_1/gamma:0 (float32_ref 256) [256, bytes: 1024]\n",
      "generator/batch_normalization_1/beta:0 (float32_ref 256) [256, bytes: 1024]\n",
      "generator/Conv2d_transpose_1/weights:0 (float32_ref 5x5x128x256) [819200, bytes: 3276800]\n",
      "generator/Conv2d_transpose_1/biases:0 (float32_ref 128) [128, bytes: 512]\n",
      "generator/batch_normalization_2/gamma:0 (float32_ref 128) [128, bytes: 512]\n",
      "generator/batch_normalization_2/beta:0 (float32_ref 128) [128, bytes: 512]\n",
      "generator/Conv2d_transpose_2/weights:0 (float32_ref 5x5x64x128) [204800, bytes: 819200]\n",
      "generator/Conv2d_transpose_2/biases:0 (float32_ref 64) [64, bytes: 256]\n",
      "generator/batch_normalization_3/gamma:0 (float32_ref 64) [64, bytes: 256]\n",
      "generator/batch_normalization_3/beta:0 (float32_ref 64) [64, bytes: 256]\n",
      "generator/Conv2d_transpose_3/weights:0 (float32_ref 5x5x3x64) [4800, bytes: 19200]\n",
      "generator/Conv2d_transpose_3/biases:0 (float32_ref 3) [3, bytes: 12]\n",
      "discriminator/Conv/weights:0 (float32_ref 5x5x3x64) [4800, bytes: 19200]\n",
      "discriminator/Conv/biases:0 (float32_ref 64) [64, bytes: 256]\n",
      "discriminator/Conv_1/weights:0 (float32_ref 5x5x64x128) [204800, bytes: 819200]\n",
      "discriminator/Conv_1/biases:0 (float32_ref 128) [128, bytes: 512]\n",
      "discriminator/Conv_2/weights:0 (float32_ref 5x5x128x256) [819200, bytes: 3276800]\n",
      "discriminator/Conv_2/biases:0 (float32_ref 256) [256, bytes: 1024]\n",
      "discriminator/Conv_3/weights:0 (float32_ref 5x5x256x384) [2457600, bytes: 9830400]\n",
      "discriminator/Conv_3/biases:0 (float32_ref 384) [384, bytes: 1536]\n",
      "discriminator/Conv_4/weights:0 (float32_ref 1x1x409x384) [157056, bytes: 628224]\n",
      "discriminator/Conv_4/biases:0 (float32_ref 384) [384, bytes: 1536]\n",
      "discriminator/fully_connected/weights:0 (float32_ref 6144x1) [6144, bytes: 24576]\n",
      "discriminator/fully_connected/biases:0 (float32_ref 1) [1, bytes: 4]\n",
      "Total size of variables: 8097028\n",
      "Total bytes of variables: 32388112\n"
     ]
    },
    {
     "name": "stderr",
     "output_type": "stream",
     "text": [
      "W0410 12:52:04.773036 140670769506112 deprecation_wrapper.py:119] From /tf/notebooks/anime_myy/WGAN_GP_withWM.py:307: The name tf.train.Saver is deprecated. Please use tf.compat.v1.train.Saver instead.\n",
      "\n",
      "W0410 12:52:04.886444 140670769506112 deprecation_wrapper.py:119] From /tf/notebooks/anime_myy/WGAN_GP_withWM.py:310: The name tf.summary.FileWriter is deprecated. Please use tf.compat.v1.summary.FileWriter instead.\n",
      "\n"
     ]
    },
    {
     "name": "stdout",
     "output_type": "stream",
     "text": [
      "[Tip 3] Use a spherical Z\n",
      " [*] Reading checkpoints...\n",
      " [*] Failed to find a checkpoint\n",
      " [!] Load failed...\n",
      "Epoch: [   0/ 200] [ 287/ 288] time: 91.2290, d_loss: 1.53720939, g_loss: 0.84266555\n"
     ]
    },
    {
     "name": "stderr",
     "output_type": "stream",
     "text": [
      "W0410 12:53:37.038137 140670769506112 util.py:42] Lossy conversion from float64 to uint8. Range [0, 1]. Convert image to uint8 prior to saving to suppress this warning.\n"
     ]
    },
    {
     "name": "stdout",
     "output_type": "stream",
     "text": [
      "Epoch: [   1/ 200] [ 287/ 288] time: 184.8932, d_loss: 1.38940072, g_loss: 0.93192321\n"
     ]
    },
    {
     "name": "stderr",
     "output_type": "stream",
     "text": [
      "W0410 12:55:10.545433 140670769506112 util.py:42] Lossy conversion from float64 to uint8. Range [0, 1]. Convert image to uint8 prior to saving to suppress this warning.\n"
     ]
    },
    {
     "name": "stdout",
     "output_type": "stream",
     "text": [
      "Epoch: [   2/ 200] [ 287/ 288] time: 279.3891, d_loss: 1.28841639, g_loss: 0.59026277\n"
     ]
    },
    {
     "name": "stderr",
     "output_type": "stream",
     "text": [
      "W0410 12:56:45.049117 140670769506112 util.py:42] Lossy conversion from float64 to uint8. Range [0, 1]. Convert image to uint8 prior to saving to suppress this warning.\n"
     ]
    },
    {
     "name": "stdout",
     "output_type": "stream",
     "text": [
      "Epoch: [   3/ 200] [ 287/ 288] time: 374.6365, d_loss: 1.23858583, g_loss: 0.46795219\n"
     ]
    },
    {
     "name": "stderr",
     "output_type": "stream",
     "text": [
      "W0410 12:58:20.290391 140670769506112 util.py:42] Lossy conversion from float64 to uint8. Range [0, 1]. Convert image to uint8 prior to saving to suppress this warning.\n"
     ]
    },
    {
     "name": "stdout",
     "output_type": "stream",
     "text": [
      "Epoch: [   4/ 200] [ 287/ 288] time: 468.4685, d_loss: 1.18095279, g_loss: 0.67126942\n"
     ]
    },
    {
     "name": "stderr",
     "output_type": "stream",
     "text": [
      "W0410 12:59:54.121434 140670769506112 util.py:42] Lossy conversion from float64 to uint8. Range [0, 1]. Convert image to uint8 prior to saving to suppress this warning.\n"
     ]
    },
    {
     "name": "stdout",
     "output_type": "stream",
     "text": [
      "Epoch: [   5/ 200] [ 287/ 288] time: 561.9559, d_loss: 1.08601654, g_loss: 0.65628070\n"
     ]
    },
    {
     "name": "stderr",
     "output_type": "stream",
     "text": [
      "W0410 13:01:27.591335 140670769506112 util.py:42] Lossy conversion from float64 to uint8. Range [0, 1]. Convert image to uint8 prior to saving to suppress this warning.\n"
     ]
    },
    {
     "name": "stdout",
     "output_type": "stream",
     "text": [
      "Epoch: [   6/ 200] [ 287/ 288] time: 654.6025, d_loss: 0.98604506, g_loss: 0.86541975\n"
     ]
    },
    {
     "name": "stderr",
     "output_type": "stream",
     "text": [
      "W0410 13:03:00.399668 140670769506112 util.py:42] Lossy conversion from float64 to uint8. Range [0, 1]. Convert image to uint8 prior to saving to suppress this warning.\n"
     ]
    },
    {
     "name": "stdout",
     "output_type": "stream",
     "text": [
      "Epoch: [   7/ 200] [ 287/ 288] time: 748.2791, d_loss: 0.95804566, g_loss: 0.57862663\n"
     ]
    },
    {
     "name": "stderr",
     "output_type": "stream",
     "text": [
      "W0410 13:04:34.102442 140670769506112 util.py:42] Lossy conversion from float64 to uint8. Range [0, 1]. Convert image to uint8 prior to saving to suppress this warning.\n"
     ]
    },
    {
     "name": "stdout",
     "output_type": "stream",
     "text": [
      "Epoch: [   8/ 200] [ 287/ 288] time: 842.3925, d_loss: 0.89696527, g_loss: 0.58781397\n"
     ]
    },
    {
     "name": "stderr",
     "output_type": "stream",
     "text": [
      "W0410 13:06:08.239525 140670769506112 util.py:42] Lossy conversion from float64 to uint8. Range [0, 1]. Convert image to uint8 prior to saving to suppress this warning.\n"
     ]
    },
    {
     "name": "stdout",
     "output_type": "stream",
     "text": [
      "Epoch: [   9/ 200] [ 287/ 288] time: 935.6118, d_loss: 1.18378389, g_loss: 0.56528395\n"
     ]
    },
    {
     "name": "stderr",
     "output_type": "stream",
     "text": [
      "W0410 13:07:41.253691 140670769506112 util.py:42] Lossy conversion from float64 to uint8. Range [0, 1]. Convert image to uint8 prior to saving to suppress this warning.\n"
     ]
    },
    {
     "name": "stdout",
     "output_type": "stream",
     "text": [
      "Epoch: [  10/ 200] [ 287/ 288] time: 1029.0229, d_loss: 0.92786241, g_loss: 0.97178811\n"
     ]
    },
    {
     "name": "stderr",
     "output_type": "stream",
     "text": [
      "W0410 13:09:14.881054 140670769506112 util.py:42] Lossy conversion from float64 to uint8. Range [0, 1]. Convert image to uint8 prior to saving to suppress this warning.\n"
     ]
    },
    {
     "name": "stdout",
     "output_type": "stream",
     "text": [
      "Epoch: [  11/ 200] [ 287/ 288] time: 1121.2618, d_loss: 1.03195858, g_loss: 0.86014873\n"
     ]
    },
    {
     "name": "stderr",
     "output_type": "stream",
     "text": [
      "W0410 13:10:46.900696 140670769506112 util.py:42] Lossy conversion from float64 to uint8. Range [0, 1]. Convert image to uint8 prior to saving to suppress this warning.\n"
     ]
    },
    {
     "name": "stdout",
     "output_type": "stream",
     "text": [
      "Epoch: [  12/ 200] [ 287/ 288] time: 1215.1660, d_loss: 0.86900175, g_loss: 1.49601412\n"
     ]
    },
    {
     "name": "stderr",
     "output_type": "stream",
     "text": [
      "W0410 13:12:20.848791 140670769506112 util.py:42] Lossy conversion from float64 to uint8. Range [0, 1]. Convert image to uint8 prior to saving to suppress this warning.\n"
     ]
    },
    {
     "name": "stdout",
     "output_type": "stream",
     "text": [
      "Epoch: [  13/ 200] [ 287/ 288] time: 1309.3292, d_loss: 0.83534300, g_loss: 0.49879259\n"
     ]
    },
    {
     "name": "stderr",
     "output_type": "stream",
     "text": [
      "W0410 13:13:54.982959 140670769506112 util.py:42] Lossy conversion from float64 to uint8. Range [0, 1]. Convert image to uint8 prior to saving to suppress this warning.\n"
     ]
    },
    {
     "name": "stdout",
     "output_type": "stream",
     "text": [
      "Epoch: [  14/ 200] [ 287/ 288] time: 1401.7873, d_loss: 0.86097050, g_loss: 0.80766088\n"
     ]
    },
    {
     "name": "stderr",
     "output_type": "stream",
     "text": [
      "W0410 13:15:27.437179 140670769506112 util.py:42] Lossy conversion from float64 to uint8. Range [0, 1]. Convert image to uint8 prior to saving to suppress this warning.\n"
     ]
    },
    {
     "name": "stdout",
     "output_type": "stream",
     "text": [
      "Epoch: [  15/ 200] [ 287/ 288] time: 1494.7708, d_loss: 0.75186050, g_loss: 0.57317597\n"
     ]
    },
    {
     "name": "stderr",
     "output_type": "stream",
     "text": [
      "W0410 13:17:00.468114 140670769506112 util.py:42] Lossy conversion from float64 to uint8. Range [0, 1]. Convert image to uint8 prior to saving to suppress this warning.\n"
     ]
    },
    {
     "name": "stdout",
     "output_type": "stream",
     "text": [
      "Epoch: [  16/ 200] [ 287/ 288] time: 1586.9184, d_loss: 0.81441635, g_loss: 0.30839014\n"
     ]
    },
    {
     "name": "stderr",
     "output_type": "stream",
     "text": [
      "W0410 13:18:32.723860 140670769506112 util.py:42] Lossy conversion from float64 to uint8. Range [0, 1]. Convert image to uint8 prior to saving to suppress this warning.\n"
     ]
    },
    {
     "name": "stdout",
     "output_type": "stream",
     "text": [
      "Epoch: [  17/ 200] [ 287/ 288] time: 1680.6420, d_loss: 0.78962249, g_loss: 0.85040152\n"
     ]
    },
    {
     "name": "stderr",
     "output_type": "stream",
     "text": [
      "W0410 13:20:06.494606 140670769506112 util.py:42] Lossy conversion from float64 to uint8. Range [0, 1]. Convert image to uint8 prior to saving to suppress this warning.\n"
     ]
    },
    {
     "name": "stdout",
     "output_type": "stream",
     "text": [
      "Epoch: [  18/ 200] [ 287/ 288] time: 1772.8017, d_loss: 0.78545767, g_loss: 0.63926965\n"
     ]
    },
    {
     "name": "stderr",
     "output_type": "stream",
     "text": [
      "W0410 13:21:38.450607 140670769506112 util.py:42] Lossy conversion from float64 to uint8. Range [0, 1]. Convert image to uint8 prior to saving to suppress this warning.\n"
     ]
    },
    {
     "name": "stdout",
     "output_type": "stream",
     "text": [
      "Epoch: [  19/ 200] [ 287/ 288] time: 1865.9763, d_loss: 0.73348391, g_loss: 0.58437645\n"
     ]
    },
    {
     "name": "stderr",
     "output_type": "stream",
     "text": [
      "W0410 13:23:11.627219 140670769506112 util.py:42] Lossy conversion from float64 to uint8. Range [0, 1]. Convert image to uint8 prior to saving to suppress this warning.\n"
     ]
    },
    {
     "name": "stdout",
     "output_type": "stream",
     "text": [
      "Epoch: [  20/ 200] [ 287/ 288] time: 1959.8289, d_loss: 0.85772836, g_loss: 0.56057543\n"
     ]
    },
    {
     "name": "stderr",
     "output_type": "stream",
     "text": [
      "W0410 13:24:45.487246 140670769506112 util.py:42] Lossy conversion from float64 to uint8. Range [0, 1]. Convert image to uint8 prior to saving to suppress this warning.\n"
     ]
    },
    {
     "name": "stdout",
     "output_type": "stream",
     "text": [
      "Epoch: [  21/ 200] [ 287/ 288] time: 2053.3562, d_loss: 0.73411459, g_loss: 0.86278337\n"
     ]
    },
    {
     "name": "stderr",
     "output_type": "stream",
     "text": [
      "W0410 13:26:18.991580 140670769506112 util.py:42] Lossy conversion from float64 to uint8. Range [0, 1]. Convert image to uint8 prior to saving to suppress this warning.\n"
     ]
    },
    {
     "name": "stdout",
     "output_type": "stream",
     "text": [
      "Epoch: [  22/ 200] [ 287/ 288] time: 2145.5984, d_loss: 0.69843352, g_loss: 0.95692581\n"
     ]
    },
    {
     "name": "stderr",
     "output_type": "stream",
     "text": [
      "W0410 13:27:51.314122 140670769506112 util.py:42] Lossy conversion from float64 to uint8. Range [0, 1]. Convert image to uint8 prior to saving to suppress this warning.\n"
     ]
    },
    {
     "name": "stdout",
     "output_type": "stream",
     "text": [
      "Epoch: [  23/ 200] [ 287/ 288] time: 2238.4197, d_loss: 0.65367472, g_loss: 0.56665707\n"
     ]
    },
    {
     "name": "stderr",
     "output_type": "stream",
     "text": [
      "W0410 13:29:24.235407 140670769506112 util.py:42] Lossy conversion from float64 to uint8. Range [0, 1]. Convert image to uint8 prior to saving to suppress this warning.\n"
     ]
    },
    {
     "name": "stdout",
     "output_type": "stream",
     "text": [
      "Epoch: [  24/ 200] [ 287/ 288] time: 2331.8320, d_loss: 0.76386690, g_loss: 1.15339255\n"
     ]
    },
    {
     "name": "stderr",
     "output_type": "stream",
     "text": [
      "W0410 13:30:57.664088 140670769506112 util.py:42] Lossy conversion from float64 to uint8. Range [0, 1]. Convert image to uint8 prior to saving to suppress this warning.\n"
     ]
    },
    {
     "name": "stdout",
     "output_type": "stream",
     "text": [
      "Epoch: [  25/ 200] [ 287/ 288] time: 2425.4177, d_loss: 0.69397867, g_loss: 1.31652737\n"
     ]
    },
    {
     "name": "stderr",
     "output_type": "stream",
     "text": [
      "W0410 13:32:31.077911 140670769506112 util.py:42] Lossy conversion from float64 to uint8. Range [0, 1]. Convert image to uint8 prior to saving to suppress this warning.\n"
     ]
    },
    {
     "name": "stdout",
     "output_type": "stream",
     "text": [
      "Epoch: [  26/ 200] [ 287/ 288] time: 2517.6030, d_loss: 0.69431633, g_loss: 1.13965583\n"
     ]
    },
    {
     "name": "stderr",
     "output_type": "stream",
     "text": [
      "W0410 13:34:03.253360 140670769506112 util.py:42] Lossy conversion from float64 to uint8. Range [0, 1]. Convert image to uint8 prior to saving to suppress this warning.\n"
     ]
    },
    {
     "name": "stdout",
     "output_type": "stream",
     "text": [
      "Epoch: [  27/ 200] [ 287/ 288] time: 2611.1881, d_loss: 0.75700474, g_loss: 0.77750123\n"
     ]
    },
    {
     "name": "stderr",
     "output_type": "stream",
     "text": [
      "W0410 13:35:36.819827 140670769506112 util.py:42] Lossy conversion from float64 to uint8. Range [0, 1]. Convert image to uint8 prior to saving to suppress this warning.\n"
     ]
    },
    {
     "name": "stdout",
     "output_type": "stream",
     "text": [
      "Epoch: [  28/ 200] [ 287/ 288] time: 2705.3582, d_loss: 0.80152225, g_loss: 0.66199064\n"
     ]
    },
    {
     "name": "stderr",
     "output_type": "stream",
     "text": [
      "W0410 13:37:11.019351 140670769506112 util.py:42] Lossy conversion from float64 to uint8. Range [0, 1]. Convert image to uint8 prior to saving to suppress this warning.\n"
     ]
    },
    {
     "name": "stdout",
     "output_type": "stream",
     "text": [
      "Epoch: [  29/ 200] [ 287/ 288] time: 2797.8973, d_loss: 0.61062312, g_loss: 1.69326186\n"
     ]
    },
    {
     "name": "stderr",
     "output_type": "stream",
     "text": [
      "W0410 13:38:43.712858 140670769506112 util.py:42] Lossy conversion from float64 to uint8. Range [0, 1]. Convert image to uint8 prior to saving to suppress this warning.\n"
     ]
    },
    {
     "name": "stdout",
     "output_type": "stream",
     "text": [
      "Epoch: [  30/ 200] [ 287/ 288] time: 2890.4391, d_loss: 0.74754679, g_loss: 1.11816347\n"
     ]
    },
    {
     "name": "stderr",
     "output_type": "stream",
     "text": [
      "W0410 13:40:16.120018 140670769506112 util.py:42] Lossy conversion from float64 to uint8. Range [0, 1]. Convert image to uint8 prior to saving to suppress this warning.\n"
     ]
    },
    {
     "name": "stdout",
     "output_type": "stream",
     "text": [
      "Epoch: [  31/ 200] [ 287/ 288] time: 2982.9450, d_loss: 0.67587316, g_loss: 1.06441057\n"
     ]
    },
    {
     "name": "stderr",
     "output_type": "stream",
     "text": [
      "W0410 13:41:48.598241 140670769506112 util.py:42] Lossy conversion from float64 to uint8. Range [0, 1]. Convert image to uint8 prior to saving to suppress this warning.\n"
     ]
    },
    {
     "name": "stdout",
     "output_type": "stream",
     "text": [
      "Epoch: [  32/ 200] [ 287/ 288] time: 3076.2923, d_loss: 0.82070017, g_loss: 0.64500517\n"
     ]
    },
    {
     "name": "stderr",
     "output_type": "stream",
     "text": [
      "W0410 13:43:21.978375 140670769506112 util.py:42] Lossy conversion from float64 to uint8. Range [0, 1]. Convert image to uint8 prior to saving to suppress this warning.\n"
     ]
    },
    {
     "name": "stdout",
     "output_type": "stream",
     "text": [
      "Epoch: [  33/ 200] [ 287/ 288] time: 3170.4470, d_loss: 0.65149021, g_loss: 0.51630586\n"
     ]
    },
    {
     "name": "stderr",
     "output_type": "stream",
     "text": [
      "W0410 13:44:56.094366 140670769506112 util.py:42] Lossy conversion from float64 to uint8. Range [0, 1]. Convert image to uint8 prior to saving to suppress this warning.\n"
     ]
    },
    {
     "name": "stdout",
     "output_type": "stream",
     "text": [
      "Epoch: [  34/ 200] [ 287/ 288] time: 3263.0468, d_loss: 0.64717728, g_loss: 1.11157024\n"
     ]
    },
    {
     "name": "stderr",
     "output_type": "stream",
     "text": [
      "W0410 13:46:28.696073 140670769506112 util.py:42] Lossy conversion from float64 to uint8. Range [0, 1]. Convert image to uint8 prior to saving to suppress this warning.\n"
     ]
    },
    {
     "name": "stdout",
     "output_type": "stream",
     "text": [
      "Epoch: [  35/ 200] [ 287/ 288] time: 3357.8173, d_loss: 0.68046939, g_loss: 1.31055140\n"
     ]
    },
    {
     "name": "stderr",
     "output_type": "stream",
     "text": [
      "W0410 13:48:03.470818 140670769506112 util.py:42] Lossy conversion from float64 to uint8. Range [0, 1]. Convert image to uint8 prior to saving to suppress this warning.\n"
     ]
    },
    {
     "name": "stdout",
     "output_type": "stream",
     "text": [
      "Epoch: [  36/ 200] [ 287/ 288] time: 3450.4332, d_loss: 0.59002388, g_loss: 1.36425054\n"
     ]
    },
    {
     "name": "stderr",
     "output_type": "stream",
     "text": [
      "W0410 13:49:36.331039 140670769506112 util.py:42] Lossy conversion from float64 to uint8. Range [0, 1]. Convert image to uint8 prior to saving to suppress this warning.\n"
     ]
    },
    {
     "name": "stdout",
     "output_type": "stream",
     "text": [
      "Epoch: [  37/ 200] [ 287/ 288] time: 3543.6323, d_loss: 0.96796334, g_loss: 0.40900809\n"
     ]
    },
    {
     "name": "stderr",
     "output_type": "stream",
     "text": [
      "W0410 13:51:09.435633 140670769506112 util.py:42] Lossy conversion from float64 to uint8. Range [0, 1]. Convert image to uint8 prior to saving to suppress this warning.\n"
     ]
    },
    {
     "name": "stdout",
     "output_type": "stream",
     "text": [
      "Epoch: [  38/ 200] [ 287/ 288] time: 3635.8988, d_loss: 0.56455797, g_loss: 1.13211370\n"
     ]
    },
    {
     "name": "stderr",
     "output_type": "stream",
     "text": [
      "W0410 13:52:41.578251 140670769506112 util.py:42] Lossy conversion from float64 to uint8. Range [0, 1]. Convert image to uint8 prior to saving to suppress this warning.\n"
     ]
    },
    {
     "name": "stdout",
     "output_type": "stream",
     "text": [
      "Epoch: [  39/ 200] [ 287/ 288] time: 3729.1201, d_loss: 0.64986050, g_loss: 1.08689988\n"
     ]
    },
    {
     "name": "stderr",
     "output_type": "stream",
     "text": [
      "W0410 13:54:14.906657 140670769506112 util.py:42] Lossy conversion from float64 to uint8. Range [0, 1]. Convert image to uint8 prior to saving to suppress this warning.\n"
     ]
    },
    {
     "name": "stdout",
     "output_type": "stream",
     "text": [
      "Epoch: [  40/ 200] [ 287/ 288] time: 3821.9526, d_loss: 0.60913867, g_loss: 1.04676378\n"
     ]
    },
    {
     "name": "stderr",
     "output_type": "stream",
     "text": [
      "W0410 13:55:47.600286 140670769506112 util.py:42] Lossy conversion from float64 to uint8. Range [0, 1]. Convert image to uint8 prior to saving to suppress this warning.\n"
     ]
    },
    {
     "name": "stdout",
     "output_type": "stream",
     "text": [
      "Epoch: [  41/ 200] [ 287/ 288] time: 3914.9287, d_loss: 0.60145873, g_loss: 1.52872849\n"
     ]
    },
    {
     "name": "stderr",
     "output_type": "stream",
     "text": [
      "W0410 13:57:20.587387 140670769506112 util.py:42] Lossy conversion from float64 to uint8. Range [0, 1]. Convert image to uint8 prior to saving to suppress this warning.\n"
     ]
    },
    {
     "name": "stdout",
     "output_type": "stream",
     "text": [
      "Epoch: [  42/ 200] [ 287/ 288] time: 4009.1565, d_loss: 0.64645308, g_loss: 1.04150462\n"
     ]
    },
    {
     "name": "stderr",
     "output_type": "stream",
     "text": [
      "W0410 13:58:54.809571 140670769506112 util.py:42] Lossy conversion from float64 to uint8. Range [0, 1]. Convert image to uint8 prior to saving to suppress this warning.\n"
     ]
    },
    {
     "name": "stdout",
     "output_type": "stream",
     "text": [
      "Epoch: [  43/ 200] [ 287/ 288] time: 4102.2063, d_loss: 0.61133164, g_loss: 1.38156092\n"
     ]
    },
    {
     "name": "stderr",
     "output_type": "stream",
     "text": [
      "W0410 14:00:28.077061 140670769506112 util.py:42] Lossy conversion from float64 to uint8. Range [0, 1]. Convert image to uint8 prior to saving to suppress this warning.\n"
     ]
    },
    {
     "name": "stdout",
     "output_type": "stream",
     "text": [
      "Epoch: [  44/ 200] [ 287/ 288] time: 4193.5823, d_loss: 0.69493639, g_loss: 0.65913963\n"
     ]
    },
    {
     "name": "stderr",
     "output_type": "stream",
     "text": [
      "W0410 14:01:59.240557 140670769506112 util.py:42] Lossy conversion from float64 to uint8. Range [0, 1]. Convert image to uint8 prior to saving to suppress this warning.\n"
     ]
    },
    {
     "name": "stdout",
     "output_type": "stream",
     "text": [
      "Epoch: [  45/ 200] [ 287/ 288] time: 4287.9542, d_loss: 0.61364532, g_loss: 1.06164694\n"
     ]
    },
    {
     "name": "stderr",
     "output_type": "stream",
     "text": [
      "W0410 14:03:33.596073 140670769506112 util.py:42] Lossy conversion from float64 to uint8. Range [0, 1]. Convert image to uint8 prior to saving to suppress this warning.\n"
     ]
    },
    {
     "name": "stdout",
     "output_type": "stream",
     "text": [
      "Epoch: [  46/ 200] [ 287/ 288] time: 4381.2441, d_loss: 0.56539524, g_loss: 0.86508632\n"
     ]
    },
    {
     "name": "stderr",
     "output_type": "stream",
     "text": [
      "W0410 14:05:06.895697 140670769506112 util.py:42] Lossy conversion from float64 to uint8. Range [0, 1]. Convert image to uint8 prior to saving to suppress this warning.\n"
     ]
    },
    {
     "name": "stdout",
     "output_type": "stream",
     "text": [
      "Epoch: [  47/ 200] [ 287/ 288] time: 4474.6231, d_loss: 0.51594442, g_loss: 1.85763609\n"
     ]
    },
    {
     "name": "stderr",
     "output_type": "stream",
     "text": [
      "W0410 14:06:40.269517 140670769506112 util.py:42] Lossy conversion from float64 to uint8. Range [0, 1]. Convert image to uint8 prior to saving to suppress this warning.\n"
     ]
    },
    {
     "name": "stdout",
     "output_type": "stream",
     "text": [
      "Epoch: [  48/ 200] [ 287/ 288] time: 4568.7444, d_loss: 0.64654899, g_loss: 0.89982063\n"
     ]
    },
    {
     "name": "stderr",
     "output_type": "stream",
     "text": [
      "W0410 14:08:14.397370 140670769506112 util.py:42] Lossy conversion from float64 to uint8. Range [0, 1]. Convert image to uint8 prior to saving to suppress this warning.\n"
     ]
    },
    {
     "name": "stdout",
     "output_type": "stream",
     "text": [
      "Epoch: [  49/ 200] [ 287/ 288] time: 4663.2465, d_loss: 0.65656877, g_loss: 1.94251025\n"
     ]
    },
    {
     "name": "stderr",
     "output_type": "stream",
     "text": [
      "W0410 14:09:48.896086 140670769506112 util.py:42] Lossy conversion from float64 to uint8. Range [0, 1]. Convert image to uint8 prior to saving to suppress this warning.\n"
     ]
    },
    {
     "name": "stdout",
     "output_type": "stream",
     "text": [
      "Epoch: [  50/ 200] [ 286/ 288] time: 4756.4979, d_loss: 0.52914262, g_loss: 1.12244713\r"
     ]
    },
    {
     "name": "stderr",
     "output_type": "stream",
     "text": [
      "W0410 14:11:22.292095 140670769506112 deprecation.py:323] From /usr/local/lib/python3.6/dist-packages/tensorflow/python/training/saver.py:960: remove_checkpoint (from tensorflow.python.training.checkpoint_management) is deprecated and will be removed in a future version.\n",
      "Instructions for updating:\n",
      "Use standard file APIs to delete files with this prefix.\n"
     ]
    },
    {
     "name": "stdout",
     "output_type": "stream",
     "text": [
      "Epoch: [  50/ 200] [ 287/ 288] time: 4756.8189, d_loss: 0.48128226, g_loss: 1.22594726\r\n"
     ]
    },
    {
     "name": "stderr",
     "output_type": "stream",
     "text": [
      "W0410 14:11:22.480895 140670769506112 util.py:42] Lossy conversion from float64 to uint8. Range [0, 1]. Convert image to uint8 prior to saving to suppress this warning.\n"
     ]
    },
    {
     "name": "stdout",
     "output_type": "stream",
     "text": [
      "Epoch: [  51/ 200] [ 287/ 288] time: 4849.2098, d_loss: 0.54042810, g_loss: 0.85856414\n"
     ]
    },
    {
     "name": "stderr",
     "output_type": "stream",
     "text": [
      "W0410 14:12:55.059551 140670769506112 util.py:42] Lossy conversion from float64 to uint8. Range [0, 1]. Convert image to uint8 prior to saving to suppress this warning.\n"
     ]
    },
    {
     "name": "stdout",
     "output_type": "stream",
     "text": [
      "Epoch: [  52/ 200] [ 287/ 288] time: 4942.3938, d_loss: 0.57065892, g_loss: 0.72235161\n"
     ]
    },
    {
     "name": "stderr",
     "output_type": "stream",
     "text": [
      "W0410 14:14:28.260864 140670769506112 util.py:42] Lossy conversion from float64 to uint8. Range [0, 1]. Convert image to uint8 prior to saving to suppress this warning.\n"
     ]
    },
    {
     "name": "stdout",
     "output_type": "stream",
     "text": [
      "Epoch: [  53/ 200] [ 287/ 288] time: 5035.3831, d_loss: 0.53104848, g_loss: 2.33412385\n"
     ]
    },
    {
     "name": "stderr",
     "output_type": "stream",
     "text": [
      "W0410 14:16:01.026805 140670769506112 util.py:42] Lossy conversion from float64 to uint8. Range [0, 1]. Convert image to uint8 prior to saving to suppress this warning.\n"
     ]
    },
    {
     "name": "stdout",
     "output_type": "stream",
     "text": [
      "Epoch: [  54/ 200] [ 287/ 288] time: 5129.6937, d_loss: 0.63357431, g_loss: 1.02868104\n"
     ]
    },
    {
     "name": "stderr",
     "output_type": "stream",
     "text": [
      "W0410 14:17:35.355689 140670769506112 util.py:42] Lossy conversion from float64 to uint8. Range [0, 1]. Convert image to uint8 prior to saving to suppress this warning.\n"
     ]
    },
    {
     "name": "stdout",
     "output_type": "stream",
     "text": [
      "Epoch: [  55/ 200] [ 287/ 288] time: 5223.9235, d_loss: 0.54168320, g_loss: 0.95613277\n"
     ]
    },
    {
     "name": "stderr",
     "output_type": "stream",
     "text": [
      "W0410 14:19:09.580132 140670769506112 util.py:42] Lossy conversion from float64 to uint8. Range [0, 1]. Convert image to uint8 prior to saving to suppress this warning.\n"
     ]
    },
    {
     "name": "stdout",
     "output_type": "stream",
     "text": [
      "Epoch: [  56/ 200] [ 287/ 288] time: 5317.5389, d_loss: 0.66572225, g_loss: 0.56071794\n"
     ]
    },
    {
     "name": "stderr",
     "output_type": "stream",
     "text": [
      "W0410 14:20:43.185527 140670769506112 util.py:42] Lossy conversion from float64 to uint8. Range [0, 1]. Convert image to uint8 prior to saving to suppress this warning.\n"
     ]
    },
    {
     "name": "stdout",
     "output_type": "stream",
     "text": [
      "Epoch: [  57/ 200] [ 287/ 288] time: 5411.3452, d_loss: 0.58981800, g_loss: 1.16238570\n"
     ]
    },
    {
     "name": "stderr",
     "output_type": "stream",
     "text": [
      "W0410 14:22:17.015146 140670769506112 util.py:42] Lossy conversion from float64 to uint8. Range [0, 1]. Convert image to uint8 prior to saving to suppress this warning.\n"
     ]
    },
    {
     "name": "stdout",
     "output_type": "stream",
     "text": [
      "Epoch: [  58/ 200] [ 287/ 288] time: 5503.5707, d_loss: 0.55960381, g_loss: 1.81504846\n"
     ]
    },
    {
     "name": "stderr",
     "output_type": "stream",
     "text": [
      "W0410 14:23:49.405406 140670769506112 util.py:42] Lossy conversion from float64 to uint8. Range [0, 1]. Convert image to uint8 prior to saving to suppress this warning.\n"
     ]
    },
    {
     "name": "stdout",
     "output_type": "stream",
     "text": [
      "Epoch: [  59/ 200] [ 287/ 288] time: 5597.8253, d_loss: 0.47915941, g_loss: 2.19399834\n"
     ]
    },
    {
     "name": "stderr",
     "output_type": "stream",
     "text": [
      "W0410 14:25:23.485302 140670769506112 util.py:42] Lossy conversion from float64 to uint8. Range [0, 1]. Convert image to uint8 prior to saving to suppress this warning.\n"
     ]
    },
    {
     "name": "stdout",
     "output_type": "stream",
     "text": [
      "Epoch: [  60/ 200] [ 287/ 288] time: 5690.7346, d_loss: 0.50558335, g_loss: 1.26252520\n"
     ]
    },
    {
     "name": "stderr",
     "output_type": "stream",
     "text": [
      "W0410 14:26:56.648493 140670769506112 util.py:42] Lossy conversion from float64 to uint8. Range [0, 1]. Convert image to uint8 prior to saving to suppress this warning.\n"
     ]
    },
    {
     "name": "stdout",
     "output_type": "stream",
     "text": [
      "Epoch: [  61/ 200] [ 287/ 288] time: 5784.3846, d_loss: 0.46722031, g_loss: 1.85864425\n"
     ]
    },
    {
     "name": "stderr",
     "output_type": "stream",
     "text": [
      "W0410 14:28:30.052667 140670769506112 util.py:42] Lossy conversion from float64 to uint8. Range [0, 1]. Convert image to uint8 prior to saving to suppress this warning.\n"
     ]
    },
    {
     "name": "stdout",
     "output_type": "stream",
     "text": [
      "Epoch: [  62/ 200] [ 287/ 288] time: 5878.5742, d_loss: 0.48968112, g_loss: 3.15086651\n"
     ]
    },
    {
     "name": "stderr",
     "output_type": "stream",
     "text": [
      "W0410 14:30:04.234300 140670769506112 util.py:42] Lossy conversion from float64 to uint8. Range [0, 1]. Convert image to uint8 prior to saving to suppress this warning.\n"
     ]
    },
    {
     "name": "stdout",
     "output_type": "stream",
     "text": [
      "Epoch: [  63/ 200] [ 287/ 288] time: 5971.6943, d_loss: 0.48207882, g_loss: 1.64058650\n"
     ]
    },
    {
     "name": "stderr",
     "output_type": "stream",
     "text": [
      "W0410 14:31:37.357627 140670769506112 util.py:42] Lossy conversion from float64 to uint8. Range [0, 1]. Convert image to uint8 prior to saving to suppress this warning.\n"
     ]
    },
    {
     "name": "stdout",
     "output_type": "stream",
     "text": [
      "Epoch: [  64/ 200] [ 287/ 288] time: 6065.5067, d_loss: 0.44041419, g_loss: 2.58824968\n"
     ]
    },
    {
     "name": "stderr",
     "output_type": "stream",
     "text": [
      "W0410 14:33:11.164214 140670769506112 util.py:42] Lossy conversion from float64 to uint8. Range [0, 1]. Convert image to uint8 prior to saving to suppress this warning.\n"
     ]
    },
    {
     "name": "stdout",
     "output_type": "stream",
     "text": [
      "Epoch: [  65/ 200] [ 287/ 288] time: 6158.3088, d_loss: 0.42522794, g_loss: 1.50652635\n"
     ]
    },
    {
     "name": "stderr",
     "output_type": "stream",
     "text": [
      "W0410 14:34:43.944966 140670769506112 util.py:42] Lossy conversion from float64 to uint8. Range [0, 1]. Convert image to uint8 prior to saving to suppress this warning.\n"
     ]
    },
    {
     "name": "stdout",
     "output_type": "stream",
     "text": [
      "Epoch: [  66/ 200] [ 287/ 288] time: 6250.8889, d_loss: 0.45033494, g_loss: 1.36952424\n"
     ]
    },
    {
     "name": "stderr",
     "output_type": "stream",
     "text": [
      "W0410 14:36:16.541342 140670769506112 util.py:42] Lossy conversion from float64 to uint8. Range [0, 1]. Convert image to uint8 prior to saving to suppress this warning.\n"
     ]
    },
    {
     "name": "stdout",
     "output_type": "stream",
     "text": [
      "Epoch: [  67/ 200] [ 287/ 288] time: 6345.2730, d_loss: 0.63810992, g_loss: 2.61182451\n"
     ]
    },
    {
     "name": "stderr",
     "output_type": "stream",
     "text": [
      "W0410 14:37:51.254409 140670769506112 util.py:42] Lossy conversion from float64 to uint8. Range [0, 1]. Convert image to uint8 prior to saving to suppress this warning.\n"
     ]
    },
    {
     "name": "stdout",
     "output_type": "stream",
     "text": [
      "Epoch: [  68/ 200] [ 287/ 288] time: 6438.2830, d_loss: 0.51244527, g_loss: 2.41430306\n"
     ]
    },
    {
     "name": "stderr",
     "output_type": "stream",
     "text": [
      "W0410 14:39:24.191621 140670769506112 util.py:42] Lossy conversion from float64 to uint8. Range [0, 1]. Convert image to uint8 prior to saving to suppress this warning.\n"
     ]
    },
    {
     "name": "stdout",
     "output_type": "stream",
     "text": [
      "Epoch: [  69/ 200] [ 287/ 288] time: 6531.7732, d_loss: 0.42689940, g_loss: 0.90764475\n"
     ]
    },
    {
     "name": "stderr",
     "output_type": "stream",
     "text": [
      "W0410 14:40:57.417455 140670769506112 util.py:42] Lossy conversion from float64 to uint8. Range [0, 1]. Convert image to uint8 prior to saving to suppress this warning.\n"
     ]
    },
    {
     "name": "stdout",
     "output_type": "stream",
     "text": [
      "Epoch: [  70/ 200] [ 287/ 288] time: 6625.7378, d_loss: 0.97395599, g_loss: 1.31791735\n"
     ]
    },
    {
     "name": "stderr",
     "output_type": "stream",
     "text": [
      "W0410 14:42:31.401823 140670769506112 util.py:42] Lossy conversion from float64 to uint8. Range [0, 1]. Convert image to uint8 prior to saving to suppress this warning.\n"
     ]
    },
    {
     "name": "stdout",
     "output_type": "stream",
     "text": [
      "Epoch: [  71/ 200] [ 287/ 288] time: 6718.3855, d_loss: 0.56091452, g_loss: 0.61972737\n"
     ]
    },
    {
     "name": "stderr",
     "output_type": "stream",
     "text": [
      "W0410 14:44:04.287837 140670769506112 util.py:42] Lossy conversion from float64 to uint8. Range [0, 1]. Convert image to uint8 prior to saving to suppress this warning.\n"
     ]
    },
    {
     "name": "stdout",
     "output_type": "stream",
     "text": [
      "Epoch: [  72/ 200] [ 287/ 288] time: 6811.1213, d_loss: 0.54859638, g_loss: 1.07901728\n"
     ]
    },
    {
     "name": "stderr",
     "output_type": "stream",
     "text": [
      "W0410 14:45:36.775667 140670769506112 util.py:42] Lossy conversion from float64 to uint8. Range [0, 1]. Convert image to uint8 prior to saving to suppress this warning.\n"
     ]
    },
    {
     "name": "stdout",
     "output_type": "stream",
     "text": [
      "Epoch: [  73/ 200] [ 287/ 288] time: 6904.6108, d_loss: 0.72730339, g_loss: 1.03368330\n"
     ]
    },
    {
     "name": "stderr",
     "output_type": "stream",
     "text": [
      "W0410 14:47:10.519347 140670769506112 util.py:42] Lossy conversion from float64 to uint8. Range [0, 1]. Convert image to uint8 prior to saving to suppress this warning.\n"
     ]
    },
    {
     "name": "stdout",
     "output_type": "stream",
     "text": [
      "Epoch: [  74/ 200] [ 287/ 288] time: 6999.1247, d_loss: 0.59033060, g_loss: 1.14296782\n"
     ]
    },
    {
     "name": "stderr",
     "output_type": "stream",
     "text": [
      "W0410 14:48:44.783097 140670769506112 util.py:42] Lossy conversion from float64 to uint8. Range [0, 1]. Convert image to uint8 prior to saving to suppress this warning.\n"
     ]
    },
    {
     "name": "stdout",
     "output_type": "stream",
     "text": [
      "Epoch: [  75/ 200] [ 287/ 288] time: 7092.2674, d_loss: 0.38037363, g_loss: 1.46528280\n"
     ]
    },
    {
     "name": "stderr",
     "output_type": "stream",
     "text": [
      "W0410 14:50:18.526993 140670769506112 util.py:42] Lossy conversion from float64 to uint8. Range [0, 1]. Convert image to uint8 prior to saving to suppress this warning.\n"
     ]
    },
    {
     "name": "stdout",
     "output_type": "stream",
     "text": [
      "Epoch: [  76/ 200] [ 287/ 288] time: 7184.0873, d_loss: 0.45710531, g_loss: 1.98785949\n"
     ]
    },
    {
     "name": "stderr",
     "output_type": "stream",
     "text": [
      "W0410 14:51:49.731638 140670769506112 util.py:42] Lossy conversion from float64 to uint8. Range [0, 1]. Convert image to uint8 prior to saving to suppress this warning.\n"
     ]
    },
    {
     "name": "stdout",
     "output_type": "stream",
     "text": [
      "Epoch: [  77/ 200] [ 287/ 288] time: 7278.2964, d_loss: 0.60242796, g_loss: 0.84746957\n"
     ]
    },
    {
     "name": "stderr",
     "output_type": "stream",
     "text": [
      "W0410 14:53:23.953569 140670769506112 util.py:42] Lossy conversion from float64 to uint8. Range [0, 1]. Convert image to uint8 prior to saving to suppress this warning.\n"
     ]
    },
    {
     "name": "stdout",
     "output_type": "stream",
     "text": [
      "Epoch: [  78/ 200] [ 287/ 288] time: 7372.4539, d_loss: 0.49257433, g_loss: 2.18401384\n"
     ]
    },
    {
     "name": "stderr",
     "output_type": "stream",
     "text": [
      "W0410 14:54:58.285202 140670769506112 util.py:42] Lossy conversion from float64 to uint8. Range [0, 1]. Convert image to uint8 prior to saving to suppress this warning.\n"
     ]
    },
    {
     "name": "stdout",
     "output_type": "stream",
     "text": [
      "Epoch: [  79/ 200] [ 287/ 288] time: 7465.6022, d_loss: 0.49091160, g_loss: 1.19740307\n"
     ]
    },
    {
     "name": "stderr",
     "output_type": "stream",
     "text": [
      "W0410 14:56:31.250901 140670769506112 util.py:42] Lossy conversion from float64 to uint8. Range [0, 1]. Convert image to uint8 prior to saving to suppress this warning.\n"
     ]
    },
    {
     "name": "stdout",
     "output_type": "stream",
     "text": [
      "Epoch: [  80/ 200] [ 287/ 288] time: 7559.6160, d_loss: 0.50131363, g_loss: 1.96081400\n"
     ]
    },
    {
     "name": "stderr",
     "output_type": "stream",
     "text": [
      "W0410 14:58:05.277288 140670769506112 util.py:42] Lossy conversion from float64 to uint8. Range [0, 1]. Convert image to uint8 prior to saving to suppress this warning.\n"
     ]
    },
    {
     "name": "stdout",
     "output_type": "stream",
     "text": [
      "Epoch: [  81/ 200] [ 287/ 288] time: 7654.6283, d_loss: 0.55327356, g_loss: 1.93373084\n"
     ]
    },
    {
     "name": "stderr",
     "output_type": "stream",
     "text": [
      "W0410 14:59:40.276957 140670769506112 util.py:42] Lossy conversion from float64 to uint8. Range [0, 1]. Convert image to uint8 prior to saving to suppress this warning.\n"
     ]
    },
    {
     "name": "stdout",
     "output_type": "stream",
     "text": [
      "Epoch: [  82/ 200] [ 287/ 288] time: 7747.3755, d_loss: 0.66763127, g_loss: 1.60539758\n"
     ]
    },
    {
     "name": "stderr",
     "output_type": "stream",
     "text": [
      "W0410 15:01:13.034915 140670769506112 util.py:42] Lossy conversion from float64 to uint8. Range [0, 1]. Convert image to uint8 prior to saving to suppress this warning.\n"
     ]
    },
    {
     "name": "stdout",
     "output_type": "stream",
     "text": [
      "Epoch: [  83/ 200] [ 287/ 288] time: 7840.7228, d_loss: 0.91568959, g_loss: 1.20630074\n"
     ]
    },
    {
     "name": "stderr",
     "output_type": "stream",
     "text": [
      "W0410 15:02:46.668815 140670769506112 util.py:42] Lossy conversion from float64 to uint8. Range [0, 1]. Convert image to uint8 prior to saving to suppress this warning.\n"
     ]
    },
    {
     "name": "stdout",
     "output_type": "stream",
     "text": [
      "Epoch: [  84/ 200] [ 287/ 288] time: 7934.1602, d_loss: 0.66808718, g_loss: 2.27231407\n"
     ]
    },
    {
     "name": "stderr",
     "output_type": "stream",
     "text": [
      "W0410 15:04:19.819396 140670769506112 util.py:42] Lossy conversion from float64 to uint8. Range [0, 1]. Convert image to uint8 prior to saving to suppress this warning.\n"
     ]
    },
    {
     "name": "stdout",
     "output_type": "stream",
     "text": [
      "Epoch: [  85/ 200] [ 287/ 288] time: 8025.9100, d_loss: 0.46182337, g_loss: 1.76007700\n"
     ]
    },
    {
     "name": "stderr",
     "output_type": "stream",
     "text": [
      "W0410 15:05:51.750870 140670769506112 util.py:42] Lossy conversion from float64 to uint8. Range [0, 1]. Convert image to uint8 prior to saving to suppress this warning.\n"
     ]
    },
    {
     "name": "stdout",
     "output_type": "stream",
     "text": [
      "Epoch: [  86/ 200] [ 287/ 288] time: 8118.3612, d_loss: 0.39263025, g_loss: 1.98312259\n"
     ]
    },
    {
     "name": "stderr",
     "output_type": "stream",
     "text": [
      "W0410 15:07:24.235437 140670769506112 util.py:42] Lossy conversion from float64 to uint8. Range [0, 1]. Convert image to uint8 prior to saving to suppress this warning.\n"
     ]
    },
    {
     "name": "stdout",
     "output_type": "stream",
     "text": [
      "Epoch: [  87/ 200] [ 287/ 288] time: 8211.5365, d_loss: 0.56896448, g_loss: 0.49187964\n"
     ]
    },
    {
     "name": "stderr",
     "output_type": "stream",
     "text": [
      "W0410 15:08:57.183378 140670769506112 util.py:42] Lossy conversion from float64 to uint8. Range [0, 1]. Convert image to uint8 prior to saving to suppress this warning.\n"
     ]
    },
    {
     "name": "stdout",
     "output_type": "stream",
     "text": [
      "Epoch: [  88/ 200] [ 287/ 288] time: 8304.7841, d_loss: 0.39632431, g_loss: 0.99464583\n"
     ]
    },
    {
     "name": "stderr",
     "output_type": "stream",
     "text": [
      "W0410 15:10:30.590064 140670769506112 util.py:42] Lossy conversion from float64 to uint8. Range [0, 1]. Convert image to uint8 prior to saving to suppress this warning.\n"
     ]
    },
    {
     "name": "stdout",
     "output_type": "stream",
     "text": [
      "Epoch: [  89/ 200] [ 287/ 288] time: 8398.8004, d_loss: 0.40156868, g_loss: 2.02934718\n"
     ]
    },
    {
     "name": "stderr",
     "output_type": "stream",
     "text": [
      "W0410 15:12:04.461864 140670769506112 util.py:42] Lossy conversion from float64 to uint8. Range [0, 1]. Convert image to uint8 prior to saving to suppress this warning.\n"
     ]
    },
    {
     "name": "stdout",
     "output_type": "stream",
     "text": [
      "Epoch: [  90/ 200] [ 287/ 288] time: 8491.7915, d_loss: 0.44104773, g_loss: 1.34028578\n"
     ]
    },
    {
     "name": "stderr",
     "output_type": "stream",
     "text": [
      "W0410 15:13:37.443889 140670769506112 util.py:42] Lossy conversion from float64 to uint8. Range [0, 1]. Convert image to uint8 prior to saving to suppress this warning.\n"
     ]
    },
    {
     "name": "stdout",
     "output_type": "stream",
     "text": [
      "Epoch: [  91/ 200] [ 287/ 288] time: 8584.8239, d_loss: 0.30398402, g_loss: 1.57961297\n"
     ]
    },
    {
     "name": "stderr",
     "output_type": "stream",
     "text": [
      "W0410 15:15:10.481122 140670769506112 util.py:42] Lossy conversion from float64 to uint8. Range [0, 1]. Convert image to uint8 prior to saving to suppress this warning.\n"
     ]
    },
    {
     "name": "stdout",
     "output_type": "stream",
     "text": [
      "Epoch: [  92/ 200] [ 287/ 288] time: 8680.0714, d_loss: 0.42060146, g_loss: 0.97788560\n"
     ]
    },
    {
     "name": "stderr",
     "output_type": "stream",
     "text": [
      "W0410 15:16:45.717080 140670769506112 util.py:42] Lossy conversion from float64 to uint8. Range [0, 1]. Convert image to uint8 prior to saving to suppress this warning.\n"
     ]
    },
    {
     "name": "stdout",
     "output_type": "stream",
     "text": [
      "Epoch: [  93/ 200] [ 287/ 288] time: 8774.2070, d_loss: 0.47207025, g_loss: 3.08411264\n"
     ]
    },
    {
     "name": "stderr",
     "output_type": "stream",
     "text": [
      "W0410 15:18:20.046895 140670769506112 util.py:42] Lossy conversion from float64 to uint8. Range [0, 1]. Convert image to uint8 prior to saving to suppress this warning.\n"
     ]
    },
    {
     "name": "stdout",
     "output_type": "stream",
     "text": [
      "Epoch: [  94/ 200] [ 287/ 288] time: 8866.7836, d_loss: 0.32311812, g_loss: 3.13162446\n"
     ]
    },
    {
     "name": "stderr",
     "output_type": "stream",
     "text": [
      "W0410 15:19:52.672347 140670769506112 util.py:42] Lossy conversion from float64 to uint8. Range [0, 1]. Convert image to uint8 prior to saving to suppress this warning.\n"
     ]
    },
    {
     "name": "stdout",
     "output_type": "stream",
     "text": [
      "Epoch: [  95/ 200] [ 287/ 288] time: 8959.7278, d_loss: 0.45766357, g_loss: 1.44901621\n"
     ]
    },
    {
     "name": "stderr",
     "output_type": "stream",
     "text": [
      "W0410 15:21:25.391448 140670769506112 util.py:42] Lossy conversion from float64 to uint8. Range [0, 1]. Convert image to uint8 prior to saving to suppress this warning.\n"
     ]
    },
    {
     "name": "stdout",
     "output_type": "stream",
     "text": [
      "Epoch: [  96/ 200] [ 287/ 288] time: 9054.7688, d_loss: 0.46313256, g_loss: 4.50831747\n"
     ]
    },
    {
     "name": "stderr",
     "output_type": "stream",
     "text": [
      "W0410 15:23:00.511922 140670769506112 util.py:42] Lossy conversion from float64 to uint8. Range [0, 1]. Convert image to uint8 prior to saving to suppress this warning.\n"
     ]
    },
    {
     "name": "stdout",
     "output_type": "stream",
     "text": [
      "Epoch: [  97/ 200] [ 287/ 288] time: 9147.4680, d_loss: 0.67266703, g_loss: 0.34977281\n"
     ]
    },
    {
     "name": "stderr",
     "output_type": "stream",
     "text": [
      "W0410 15:24:33.331590 140670769506112 util.py:42] Lossy conversion from float64 to uint8. Range [0, 1]. Convert image to uint8 prior to saving to suppress this warning.\n"
     ]
    },
    {
     "name": "stdout",
     "output_type": "stream",
     "text": [
      "Epoch: [  98/ 200] [ 287/ 288] time: 9240.6153, d_loss: 0.40898263, g_loss: 1.87212682\n"
     ]
    },
    {
     "name": "stderr",
     "output_type": "stream",
     "text": [
      "W0410 15:26:06.252233 140670769506112 util.py:42] Lossy conversion from float64 to uint8. Range [0, 1]. Convert image to uint8 prior to saving to suppress this warning.\n"
     ]
    },
    {
     "name": "stdout",
     "output_type": "stream",
     "text": [
      "Epoch: [  99/ 200] [ 287/ 288] time: 9334.7701, d_loss: 0.36420164, g_loss: 2.64440465\n"
     ]
    },
    {
     "name": "stderr",
     "output_type": "stream",
     "text": [
      "W0410 15:27:40.433640 140670769506112 util.py:42] Lossy conversion from float64 to uint8. Range [0, 1]. Convert image to uint8 prior to saving to suppress this warning.\n"
     ]
    },
    {
     "name": "stdout",
     "output_type": "stream",
     "text": [
      "Epoch: [ 100/ 200] [ 287/ 288] time: 9428.8372, d_loss: 0.43240148, g_loss: 1.18638134\n"
     ]
    },
    {
     "name": "stderr",
     "output_type": "stream",
     "text": [
      "W0410 15:29:14.491908 140670769506112 util.py:42] Lossy conversion from float64 to uint8. Range [0, 1]. Convert image to uint8 prior to saving to suppress this warning.\n"
     ]
    },
    {
     "name": "stdout",
     "output_type": "stream",
     "text": [
      "Epoch: [ 101/ 200] [ 287/ 288] time: 9521.3544, d_loss: 0.32625699, g_loss: 1.41837239\n"
     ]
    },
    {
     "name": "stderr",
     "output_type": "stream",
     "text": [
      "W0410 15:30:46.999588 140670769506112 util.py:42] Lossy conversion from float64 to uint8. Range [0, 1]. Convert image to uint8 prior to saving to suppress this warning.\n"
     ]
    },
    {
     "name": "stdout",
     "output_type": "stream",
     "text": [
      "Epoch: [ 102/ 200] [ 287/ 288] time: 9614.4339, d_loss: 0.54389232, g_loss: 0.99123263\n"
     ]
    },
    {
     "name": "stderr",
     "output_type": "stream",
     "text": [
      "W0410 15:32:20.341713 140670769506112 util.py:42] Lossy conversion from float64 to uint8. Range [0, 1]. Convert image to uint8 prior to saving to suppress this warning.\n"
     ]
    },
    {
     "name": "stdout",
     "output_type": "stream",
     "text": [
      "Epoch: [ 103/ 200] [ 287/ 288] time: 9707.7929, d_loss: 0.30246341, g_loss: 3.24029469\n"
     ]
    },
    {
     "name": "stderr",
     "output_type": "stream",
     "text": [
      "W0410 15:33:53.458096 140670769506112 util.py:42] Lossy conversion from float64 to uint8. Range [0, 1]. Convert image to uint8 prior to saving to suppress this warning.\n"
     ]
    },
    {
     "name": "stdout",
     "output_type": "stream",
     "text": [
      "Epoch: [ 104/ 200] [ 287/ 288] time: 9800.7986, d_loss: 0.54889882, g_loss: 2.03100181\n"
     ]
    },
    {
     "name": "stderr",
     "output_type": "stream",
     "text": [
      "W0410 15:35:26.439388 140670769506112 util.py:42] Lossy conversion from float64 to uint8. Range [0, 1]. Convert image to uint8 prior to saving to suppress this warning.\n"
     ]
    },
    {
     "name": "stdout",
     "output_type": "stream",
     "text": [
      "Epoch: [ 105/ 200] [ 287/ 288] time: 9893.6805, d_loss: 0.33973506, g_loss: 2.29071736\n"
     ]
    },
    {
     "name": "stderr",
     "output_type": "stream",
     "text": [
      "W0410 15:36:59.338871 140670769506112 util.py:42] Lossy conversion from float64 to uint8. Range [0, 1]. Convert image to uint8 prior to saving to suppress this warning.\n"
     ]
    },
    {
     "name": "stdout",
     "output_type": "stream",
     "text": [
      "Epoch: [ 106/ 200] [ 287/ 288] time: 9987.2754, d_loss: 0.32987320, g_loss: 1.52338743\n"
     ]
    },
    {
     "name": "stderr",
     "output_type": "stream",
     "text": [
      "W0410 15:38:32.942256 140670769506112 util.py:42] Lossy conversion from float64 to uint8. Range [0, 1]. Convert image to uint8 prior to saving to suppress this warning.\n"
     ]
    },
    {
     "name": "stdout",
     "output_type": "stream",
     "text": [
      "Epoch: [ 107/ 200] [ 287/ 288] time: 10080.7526, d_loss: 0.41836888, g_loss: 1.85492671\n"
     ]
    },
    {
     "name": "stderr",
     "output_type": "stream",
     "text": [
      "W0410 15:40:06.415896 140670769506112 util.py:42] Lossy conversion from float64 to uint8. Range [0, 1]. Convert image to uint8 prior to saving to suppress this warning.\n"
     ]
    },
    {
     "name": "stdout",
     "output_type": "stream",
     "text": [
      "Epoch: [ 108/ 200] [ 287/ 288] time: 10173.9661, d_loss: 0.39234242, g_loss: 4.28309345\n"
     ]
    },
    {
     "name": "stderr",
     "output_type": "stream",
     "text": [
      "W0410 15:41:39.648001 140670769506112 util.py:42] Lossy conversion from float64 to uint8. Range [0, 1]. Convert image to uint8 prior to saving to suppress this warning.\n"
     ]
    },
    {
     "name": "stdout",
     "output_type": "stream",
     "text": [
      "Epoch: [ 109/ 200] [ 287/ 288] time: 10267.1657, d_loss: 0.38731855, g_loss: 1.93463004\n"
     ]
    },
    {
     "name": "stderr",
     "output_type": "stream",
     "text": [
      "W0410 15:43:13.067061 140670769506112 util.py:42] Lossy conversion from float64 to uint8. Range [0, 1]. Convert image to uint8 prior to saving to suppress this warning.\n"
     ]
    },
    {
     "name": "stdout",
     "output_type": "stream",
     "text": [
      "Epoch: [ 110/ 200] [ 287/ 288] time: 10360.4402, d_loss: 0.32143340, g_loss: 1.40043271\n"
     ]
    },
    {
     "name": "stderr",
     "output_type": "stream",
     "text": [
      "W0410 15:44:46.282606 140670769506112 util.py:42] Lossy conversion from float64 to uint8. Range [0, 1]. Convert image to uint8 prior to saving to suppress this warning.\n"
     ]
    },
    {
     "name": "stdout",
     "output_type": "stream",
     "text": [
      "Epoch: [ 111/ 200] [ 287/ 288] time: 10453.4039, d_loss: 0.42832237, g_loss: 2.97339725\n"
     ]
    },
    {
     "name": "stderr",
     "output_type": "stream",
     "text": [
      "W0410 15:46:19.237160 140670769506112 util.py:42] Lossy conversion from float64 to uint8. Range [0, 1]. Convert image to uint8 prior to saving to suppress this warning.\n"
     ]
    },
    {
     "name": "stdout",
     "output_type": "stream",
     "text": [
      "Epoch: [ 112/ 200] [ 287/ 288] time: 10547.4561, d_loss: 0.41119233, g_loss: 1.89631975\n"
     ]
    },
    {
     "name": "stderr",
     "output_type": "stream",
     "text": [
      "W0410 15:47:53.097252 140670769506112 util.py:42] Lossy conversion from float64 to uint8. Range [0, 1]. Convert image to uint8 prior to saving to suppress this warning.\n"
     ]
    },
    {
     "name": "stdout",
     "output_type": "stream",
     "text": [
      "Epoch: [ 113/ 200] [ 287/ 288] time: 10641.2138, d_loss: 0.33660653, g_loss: 3.75636411\n"
     ]
    },
    {
     "name": "stderr",
     "output_type": "stream",
     "text": [
      "W0410 15:49:27.150499 140670769506112 util.py:42] Lossy conversion from float64 to uint8. Range [0, 1]. Convert image to uint8 prior to saving to suppress this warning.\n"
     ]
    },
    {
     "name": "stdout",
     "output_type": "stream",
     "text": [
      "Epoch: [ 114/ 200] [ 287/ 288] time: 10735.5134, d_loss: 0.47491550, g_loss: 0.99258542\n"
     ]
    },
    {
     "name": "stderr",
     "output_type": "stream",
     "text": [
      "W0410 15:51:01.146235 140670769506112 util.py:42] Lossy conversion from float64 to uint8. Range [0, 1]. Convert image to uint8 prior to saving to suppress this warning.\n"
     ]
    },
    {
     "name": "stdout",
     "output_type": "stream",
     "text": [
      "Epoch: [ 115/ 200] [ 287/ 288] time: 10829.3071, d_loss: 0.33237317, g_loss: 3.15618491\n"
     ]
    },
    {
     "name": "stderr",
     "output_type": "stream",
     "text": [
      "W0410 15:52:34.970570 140670769506112 util.py:42] Lossy conversion from float64 to uint8. Range [0, 1]. Convert image to uint8 prior to saving to suppress this warning.\n"
     ]
    },
    {
     "name": "stdout",
     "output_type": "stream",
     "text": [
      "Epoch: [ 116/ 200] [ 287/ 288] time: 10921.7180, d_loss: 0.28354943, g_loss: 0.91553295\n"
     ]
    },
    {
     "name": "stderr",
     "output_type": "stream",
     "text": [
      "W0410 15:54:07.373207 140670769506112 util.py:42] Lossy conversion from float64 to uint8. Range [0, 1]. Convert image to uint8 prior to saving to suppress this warning.\n"
     ]
    },
    {
     "name": "stdout",
     "output_type": "stream",
     "text": [
      "Epoch: [ 117/ 200] [ 287/ 288] time: 11015.0461, d_loss: 0.35246927, g_loss: 2.53320646\n"
     ]
    },
    {
     "name": "stderr",
     "output_type": "stream",
     "text": [
      "W0410 15:55:40.706428 140670769506112 util.py:42] Lossy conversion from float64 to uint8. Range [0, 1]. Convert image to uint8 prior to saving to suppress this warning.\n"
     ]
    },
    {
     "name": "stdout",
     "output_type": "stream",
     "text": [
      "Epoch: [ 118/ 200] [ 287/ 288] time: 11108.3712, d_loss: 0.45618552, g_loss: 3.19046497\n"
     ]
    },
    {
     "name": "stderr",
     "output_type": "stream",
     "text": [
      "W0410 15:57:14.028161 140670769506112 util.py:42] Lossy conversion from float64 to uint8. Range [0, 1]. Convert image to uint8 prior to saving to suppress this warning.\n"
     ]
    },
    {
     "name": "stdout",
     "output_type": "stream",
     "text": [
      "Epoch: [ 119/ 200] [ 287/ 288] time: 11200.8567, d_loss: 0.36485729, g_loss: 2.96740556\n"
     ]
    },
    {
     "name": "stderr",
     "output_type": "stream",
     "text": [
      "W0410 15:58:46.511660 140670769506112 util.py:42] Lossy conversion from float64 to uint8. Range [0, 1]. Convert image to uint8 prior to saving to suppress this warning.\n"
     ]
    },
    {
     "name": "stdout",
     "output_type": "stream",
     "text": [
      "Epoch: [ 120/ 200] [ 287/ 288] time: 11294.3212, d_loss: 0.30580136, g_loss: 1.81302977\n"
     ]
    },
    {
     "name": "stderr",
     "output_type": "stream",
     "text": [
      "W0410 16:00:19.984611 140670769506112 util.py:42] Lossy conversion from float64 to uint8. Range [0, 1]. Convert image to uint8 prior to saving to suppress this warning.\n"
     ]
    },
    {
     "name": "stdout",
     "output_type": "stream",
     "text": [
      "Epoch: [ 121/ 200] [ 287/ 288] time: 11388.1302, d_loss: 0.29539335, g_loss: 1.93937337\n"
     ]
    },
    {
     "name": "stderr",
     "output_type": "stream",
     "text": [
      "W0410 16:01:53.778067 140670769506112 util.py:42] Lossy conversion from float64 to uint8. Range [0, 1]. Convert image to uint8 prior to saving to suppress this warning.\n"
     ]
    },
    {
     "name": "stdout",
     "output_type": "stream",
     "text": [
      "Epoch: [ 122/ 200] [ 287/ 288] time: 11481.0373, d_loss: 0.41286168, g_loss: 0.78572232\n"
     ]
    },
    {
     "name": "stderr",
     "output_type": "stream",
     "text": [
      "W0410 16:03:26.687824 140670769506112 util.py:42] Lossy conversion from float64 to uint8. Range [0, 1]. Convert image to uint8 prior to saving to suppress this warning.\n"
     ]
    },
    {
     "name": "stdout",
     "output_type": "stream",
     "text": [
      "Epoch: [ 123/ 200] [ 287/ 288] time: 11573.9019, d_loss: 0.29208550, g_loss: 1.50614476\n"
     ]
    },
    {
     "name": "stderr",
     "output_type": "stream",
     "text": [
      "W0410 16:04:59.547360 140670769506112 util.py:42] Lossy conversion from float64 to uint8. Range [0, 1]. Convert image to uint8 prior to saving to suppress this warning.\n"
     ]
    },
    {
     "name": "stdout",
     "output_type": "stream",
     "text": [
      "Epoch: [ 124/ 200] [ 287/ 288] time: 11667.9620, d_loss: 0.28120476, g_loss: 1.09692419\n"
     ]
    },
    {
     "name": "stderr",
     "output_type": "stream",
     "text": [
      "W0410 16:06:33.604507 140670769506112 util.py:42] Lossy conversion from float64 to uint8. Range [0, 1]. Convert image to uint8 prior to saving to suppress this warning.\n"
     ]
    },
    {
     "name": "stdout",
     "output_type": "stream",
     "text": [
      "Epoch: [ 125/ 200] [ 287/ 288] time: 11761.0498, d_loss: 0.26203623, g_loss: 1.65536475\n"
     ]
    },
    {
     "name": "stderr",
     "output_type": "stream",
     "text": [
      "W0410 16:08:06.688626 140670769506112 util.py:42] Lossy conversion from float64 to uint8. Range [0, 1]. Convert image to uint8 prior to saving to suppress this warning.\n"
     ]
    },
    {
     "name": "stdout",
     "output_type": "stream",
     "text": [
      "Epoch: [ 126/ 200] [ 287/ 288] time: 11853.5698, d_loss: 0.24681829, g_loss: 1.93038464\n"
     ]
    },
    {
     "name": "stderr",
     "output_type": "stream",
     "text": [
      "W0410 16:09:39.486076 140670769506112 util.py:42] Lossy conversion from float64 to uint8. Range [0, 1]. Convert image to uint8 prior to saving to suppress this warning.\n"
     ]
    },
    {
     "name": "stdout",
     "output_type": "stream",
     "text": [
      "Epoch: [ 127/ 200] [ 287/ 288] time: 11946.3838, d_loss: 0.29053319, g_loss: 1.47747076\n"
     ]
    },
    {
     "name": "stderr",
     "output_type": "stream",
     "text": [
      "W0410 16:11:12.159229 140670769506112 util.py:42] Lossy conversion from float64 to uint8. Range [0, 1]. Convert image to uint8 prior to saving to suppress this warning.\n"
     ]
    },
    {
     "name": "stdout",
     "output_type": "stream",
     "text": [
      "Epoch: [ 128/ 200] [ 287/ 288] time: 12041.2183, d_loss: 0.25655922, g_loss: 1.98094106\n"
     ]
    },
    {
     "name": "stderr",
     "output_type": "stream",
     "text": [
      "W0410 16:12:47.049344 140670769506112 util.py:42] Lossy conversion from float64 to uint8. Range [0, 1]. Convert image to uint8 prior to saving to suppress this warning.\n"
     ]
    },
    {
     "name": "stdout",
     "output_type": "stream",
     "text": [
      "Epoch: [ 129/ 200] [ 287/ 288] time: 12133.4434, d_loss: 0.34315059, g_loss: 2.00525737\n"
     ]
    },
    {
     "name": "stderr",
     "output_type": "stream",
     "text": [
      "W0410 16:14:19.096320 140670769506112 util.py:42] Lossy conversion from float64 to uint8. Range [0, 1]. Convert image to uint8 prior to saving to suppress this warning.\n"
     ]
    },
    {
     "name": "stdout",
     "output_type": "stream",
     "text": [
      "Epoch: [ 130/ 200] [ 287/ 288] time: 12226.0737, d_loss: 0.28884587, g_loss: 1.67181849\n"
     ]
    },
    {
     "name": "stderr",
     "output_type": "stream",
     "text": [
      "W0410 16:15:51.995487 140670769506112 util.py:42] Lossy conversion from float64 to uint8. Range [0, 1]. Convert image to uint8 prior to saving to suppress this warning.\n"
     ]
    },
    {
     "name": "stdout",
     "output_type": "stream",
     "text": [
      "Epoch: [ 131/ 200] [ 287/ 288] time: 12318.9659, d_loss: 0.30484217, g_loss: 2.73360014\n"
     ]
    },
    {
     "name": "stderr",
     "output_type": "stream",
     "text": [
      "W0410 16:17:24.633231 140670769506112 util.py:42] Lossy conversion from float64 to uint8. Range [0, 1]. Convert image to uint8 prior to saving to suppress this warning.\n"
     ]
    },
    {
     "name": "stdout",
     "output_type": "stream",
     "text": [
      "Epoch: [ 132/ 200] [ 287/ 288] time: 12411.0650, d_loss: 0.27802718, g_loss: 2.72986507\n"
     ]
    },
    {
     "name": "stderr",
     "output_type": "stream",
     "text": [
      "W0410 16:18:56.930500 140670769506112 util.py:42] Lossy conversion from float64 to uint8. Range [0, 1]. Convert image to uint8 prior to saving to suppress this warning.\n"
     ]
    },
    {
     "name": "stdout",
     "output_type": "stream",
     "text": [
      "Epoch: [ 133/ 200] [ 287/ 288] time: 12503.8233, d_loss: 0.32599556, g_loss: 1.82189059\n"
     ]
    },
    {
     "name": "stderr",
     "output_type": "stream",
     "text": [
      "W0410 16:20:29.663586 140670769506112 util.py:42] Lossy conversion from float64 to uint8. Range [0, 1]. Convert image to uint8 prior to saving to suppress this warning.\n"
     ]
    },
    {
     "name": "stdout",
     "output_type": "stream",
     "text": [
      "Epoch: [ 134/ 200] [ 287/ 288] time: 12598.6060, d_loss: 0.30816129, g_loss: 4.65720177\n"
     ]
    },
    {
     "name": "stderr",
     "output_type": "stream",
     "text": [
      "W0410 16:22:04.276983 140670769506112 util.py:42] Lossy conversion from float64 to uint8. Range [0, 1]. Convert image to uint8 prior to saving to suppress this warning.\n"
     ]
    },
    {
     "name": "stdout",
     "output_type": "stream",
     "text": [
      "Epoch: [ 135/ 200] [ 287/ 288] time: 12692.4137, d_loss: 0.22830489, g_loss: 2.53377485\n"
     ]
    },
    {
     "name": "stderr",
     "output_type": "stream",
     "text": [
      "W0410 16:23:38.292889 140670769506112 util.py:42] Lossy conversion from float64 to uint8. Range [0, 1]. Convert image to uint8 prior to saving to suppress this warning.\n"
     ]
    },
    {
     "name": "stdout",
     "output_type": "stream",
     "text": [
      "Epoch: [ 136/ 200] [ 287/ 288] time: 12785.7935, d_loss: 0.22303402, g_loss: 2.58581853\n"
     ]
    },
    {
     "name": "stderr",
     "output_type": "stream",
     "text": [
      "W0410 16:25:11.456131 140670769506112 util.py:42] Lossy conversion from float64 to uint8. Range [0, 1]. Convert image to uint8 prior to saving to suppress this warning.\n"
     ]
    },
    {
     "name": "stdout",
     "output_type": "stream",
     "text": [
      "Epoch: [ 137/ 200] [ 287/ 288] time: 12878.8527, d_loss: 0.37451047, g_loss: 3.98770618\n"
     ]
    },
    {
     "name": "stderr",
     "output_type": "stream",
     "text": [
      "W0410 16:26:44.524222 140670769506112 util.py:42] Lossy conversion from float64 to uint8. Range [0, 1]. Convert image to uint8 prior to saving to suppress this warning.\n"
     ]
    },
    {
     "name": "stdout",
     "output_type": "stream",
     "text": [
      "Epoch: [ 138/ 200] [ 287/ 288] time: 12972.1451, d_loss: 0.22742099, g_loss: 2.48731661\n"
     ]
    },
    {
     "name": "stderr",
     "output_type": "stream",
     "text": [
      "W0410 16:28:17.795597 140670769506112 util.py:42] Lossy conversion from float64 to uint8. Range [0, 1]. Convert image to uint8 prior to saving to suppress this warning.\n"
     ]
    },
    {
     "name": "stdout",
     "output_type": "stream",
     "text": [
      "Epoch: [ 139/ 200] [ 287/ 288] time: 13066.7641, d_loss: 0.34970459, g_loss: 3.67889833\n"
     ]
    },
    {
     "name": "stderr",
     "output_type": "stream",
     "text": [
      "W0410 16:29:52.441120 140670769506112 util.py:42] Lossy conversion from float64 to uint8. Range [0, 1]. Convert image to uint8 prior to saving to suppress this warning.\n"
     ]
    },
    {
     "name": "stdout",
     "output_type": "stream",
     "text": [
      "Epoch: [ 140/ 200] [ 287/ 288] time: 13160.2023, d_loss: 0.28209198, g_loss: 3.15852213\n"
     ]
    },
    {
     "name": "stderr",
     "output_type": "stream",
     "text": [
      "W0410 16:31:25.864388 140670769506112 util.py:42] Lossy conversion from float64 to uint8. Range [0, 1]. Convert image to uint8 prior to saving to suppress this warning.\n"
     ]
    },
    {
     "name": "stdout",
     "output_type": "stream",
     "text": [
      "Epoch: [ 141/ 200] [ 287/ 288] time: 13253.0538, d_loss: 0.37479210, g_loss: 1.61856174\n"
     ]
    },
    {
     "name": "stderr",
     "output_type": "stream",
     "text": [
      "W0410 16:32:58.991909 140670769506112 util.py:42] Lossy conversion from float64 to uint8. Range [0, 1]. Convert image to uint8 prior to saving to suppress this warning.\n"
     ]
    },
    {
     "name": "stdout",
     "output_type": "stream",
     "text": [
      "Epoch: [ 142/ 200] [ 287/ 288] time: 13345.7879, d_loss: 0.36947948, g_loss: 3.36224556\n"
     ]
    },
    {
     "name": "stderr",
     "output_type": "stream",
     "text": [
      "W0410 16:34:31.466357 140670769506112 util.py:42] Lossy conversion from float64 to uint8. Range [0, 1]. Convert image to uint8 prior to saving to suppress this warning.\n"
     ]
    },
    {
     "name": "stdout",
     "output_type": "stream",
     "text": [
      "Epoch: [ 143/ 200] [ 287/ 288] time: 13439.9338, d_loss: 0.30563024, g_loss: 1.91104388\n"
     ]
    },
    {
     "name": "stderr",
     "output_type": "stream",
     "text": [
      "W0410 16:36:05.833516 140670769506112 util.py:42] Lossy conversion from float64 to uint8. Range [0, 1]. Convert image to uint8 prior to saving to suppress this warning.\n"
     ]
    },
    {
     "name": "stdout",
     "output_type": "stream",
     "text": [
      "Epoch: [ 144/ 200] [ 287/ 288] time: 13532.4554, d_loss: 0.40607256, g_loss: 1.22878432\n"
     ]
    },
    {
     "name": "stderr",
     "output_type": "stream",
     "text": [
      "W0410 16:37:38.125636 140670769506112 util.py:42] Lossy conversion from float64 to uint8. Range [0, 1]. Convert image to uint8 prior to saving to suppress this warning.\n"
     ]
    },
    {
     "name": "stdout",
     "output_type": "stream",
     "text": [
      "Epoch: [ 145/ 200] [ 287/ 288] time: 13625.7931, d_loss: 0.41650903, g_loss: 0.95088238\n"
     ]
    },
    {
     "name": "stderr",
     "output_type": "stream",
     "text": [
      "W0410 16:39:11.455259 140670769506112 util.py:42] Lossy conversion from float64 to uint8. Range [0, 1]. Convert image to uint8 prior to saving to suppress this warning.\n"
     ]
    },
    {
     "name": "stdout",
     "output_type": "stream",
     "text": [
      "Epoch: [ 146/ 200] [ 287/ 288] time: 13719.6039, d_loss: 0.21130817, g_loss: 4.19557285\n"
     ]
    },
    {
     "name": "stderr",
     "output_type": "stream",
     "text": [
      "W0410 16:40:45.268581 140670769506112 util.py:42] Lossy conversion from float64 to uint8. Range [0, 1]. Convert image to uint8 prior to saving to suppress this warning.\n"
     ]
    },
    {
     "name": "stdout",
     "output_type": "stream",
     "text": [
      "Epoch: [ 147/ 200] [ 287/ 288] time: 13813.1811, d_loss: 0.20237875, g_loss: 2.60428715\n"
     ]
    },
    {
     "name": "stderr",
     "output_type": "stream",
     "text": [
      "W0410 16:42:18.836031 140670769506112 util.py:42] Lossy conversion from float64 to uint8. Range [0, 1]. Convert image to uint8 prior to saving to suppress this warning.\n"
     ]
    },
    {
     "name": "stdout",
     "output_type": "stream",
     "text": [
      "Epoch: [ 148/ 200] [ 287/ 288] time: 13905.3218, d_loss: 0.36036175, g_loss: 4.54182386\n"
     ]
    },
    {
     "name": "stderr",
     "output_type": "stream",
     "text": [
      "W0410 16:43:51.333912 140670769506112 util.py:42] Lossy conversion from float64 to uint8. Range [0, 1]. Convert image to uint8 prior to saving to suppress this warning.\n"
     ]
    },
    {
     "name": "stdout",
     "output_type": "stream",
     "text": [
      "Epoch: [ 149/ 200] [ 287/ 288] time: 13998.3002, d_loss: 0.26598614, g_loss: 3.55788088\n"
     ]
    },
    {
     "name": "stderr",
     "output_type": "stream",
     "text": [
      "W0410 16:45:24.147419 140670769506112 util.py:42] Lossy conversion from float64 to uint8. Range [0, 1]. Convert image to uint8 prior to saving to suppress this warning.\n"
     ]
    },
    {
     "name": "stdout",
     "output_type": "stream",
     "text": [
      "Epoch: [ 150/ 200] [ 287/ 288] time: 14092.1357, d_loss: 0.30759913, g_loss: 1.79787314\n"
     ]
    },
    {
     "name": "stderr",
     "output_type": "stream",
     "text": [
      "W0410 16:46:57.809484 140670769506112 util.py:42] Lossy conversion from float64 to uint8. Range [0, 1]. Convert image to uint8 prior to saving to suppress this warning.\n"
     ]
    },
    {
     "name": "stdout",
     "output_type": "stream",
     "text": [
      "Epoch: [ 151/ 200] [ 287/ 288] time: 14184.7416, d_loss: 0.33680338, g_loss: 1.27813220\n"
     ]
    },
    {
     "name": "stderr",
     "output_type": "stream",
     "text": [
      "W0410 16:48:30.403852 140670769506112 util.py:42] Lossy conversion from float64 to uint8. Range [0, 1]. Convert image to uint8 prior to saving to suppress this warning.\n"
     ]
    },
    {
     "name": "stdout",
     "output_type": "stream",
     "text": [
      "Epoch: [ 152/ 200] [ 287/ 288] time: 14277.6685, d_loss: 0.21070847, g_loss: 2.91316986\n"
     ]
    },
    {
     "name": "stderr",
     "output_type": "stream",
     "text": [
      "W0410 16:50:03.320318 140670769506112 util.py:42] Lossy conversion from float64 to uint8. Range [0, 1]. Convert image to uint8 prior to saving to suppress this warning.\n"
     ]
    },
    {
     "name": "stdout",
     "output_type": "stream",
     "text": [
      "Epoch: [ 153/ 200] [ 287/ 288] time: 14372.6972, d_loss: 0.17145523, g_loss: 3.99471760\n"
     ]
    },
    {
     "name": "stderr",
     "output_type": "stream",
     "text": [
      "W0410 16:51:38.383695 140670769506112 util.py:42] Lossy conversion from float64 to uint8. Range [0, 1]. Convert image to uint8 prior to saving to suppress this warning.\n"
     ]
    },
    {
     "name": "stdout",
     "output_type": "stream",
     "text": [
      "Epoch: [ 154/ 200] [ 287/ 288] time: 14465.6440, d_loss: 0.30456102, g_loss: 3.36777592\n"
     ]
    },
    {
     "name": "stderr",
     "output_type": "stream",
     "text": [
      "W0410 16:53:11.319107 140670769506112 util.py:42] Lossy conversion from float64 to uint8. Range [0, 1]. Convert image to uint8 prior to saving to suppress this warning.\n"
     ]
    },
    {
     "name": "stdout",
     "output_type": "stream",
     "text": [
      "Epoch: [ 155/ 200] [ 287/ 288] time: 14558.9333, d_loss: 0.23093647, g_loss: 2.02130342\n"
     ]
    },
    {
     "name": "stderr",
     "output_type": "stream",
     "text": [
      "W0410 16:54:44.728507 140670769506112 util.py:42] Lossy conversion from float64 to uint8. Range [0, 1]. Convert image to uint8 prior to saving to suppress this warning.\n"
     ]
    },
    {
     "name": "stdout",
     "output_type": "stream",
     "text": [
      "Epoch: [ 156/ 200] [ 287/ 288] time: 14652.3818, d_loss: 0.33600819, g_loss: 1.63928890\n"
     ]
    },
    {
     "name": "stderr",
     "output_type": "stream",
     "text": [
      "W0410 16:56:18.337092 140670769506112 util.py:42] Lossy conversion from float64 to uint8. Range [0, 1]. Convert image to uint8 prior to saving to suppress this warning.\n"
     ]
    },
    {
     "name": "stdout",
     "output_type": "stream",
     "text": [
      "Epoch: [ 157/ 200] [ 287/ 288] time: 14745.4135, d_loss: 0.15750873, g_loss: 3.98607492\n"
     ]
    },
    {
     "name": "stderr",
     "output_type": "stream",
     "text": [
      "W0410 16:57:51.058165 140670769506112 util.py:42] Lossy conversion from float64 to uint8. Range [0, 1]. Convert image to uint8 prior to saving to suppress this warning.\n"
     ]
    },
    {
     "name": "stdout",
     "output_type": "stream",
     "text": [
      "Epoch: [ 158/ 200] [ 287/ 288] time: 14838.7560, d_loss: 0.22989814, g_loss: 1.83773208\n"
     ]
    },
    {
     "name": "stderr",
     "output_type": "stream",
     "text": [
      "W0410 16:59:24.587899 140670769506112 util.py:42] Lossy conversion from float64 to uint8. Range [0, 1]. Convert image to uint8 prior to saving to suppress this warning.\n"
     ]
    },
    {
     "name": "stdout",
     "output_type": "stream",
     "text": [
      "Epoch: [ 159/ 200] [ 287/ 288] time: 14931.1754, d_loss: 0.18860410, g_loss: 2.83972549\n"
     ]
    },
    {
     "name": "stderr",
     "output_type": "stream",
     "text": [
      "W0410 17:00:56.835927 140670769506112 util.py:42] Lossy conversion from float64 to uint8. Range [0, 1]. Convert image to uint8 prior to saving to suppress this warning.\n"
     ]
    },
    {
     "name": "stdout",
     "output_type": "stream",
     "text": [
      "Epoch: [ 160/ 200] [ 287/ 288] time: 15024.9339, d_loss: 0.18546039, g_loss: 2.64981794\n"
     ]
    },
    {
     "name": "stderr",
     "output_type": "stream",
     "text": [
      "W0410 17:02:30.762891 140670769506112 util.py:42] Lossy conversion from float64 to uint8. Range [0, 1]. Convert image to uint8 prior to saving to suppress this warning.\n"
     ]
    },
    {
     "name": "stdout",
     "output_type": "stream",
     "text": [
      "Epoch: [ 161/ 200] [ 287/ 288] time: 15119.5565, d_loss: 0.19682837, g_loss: 2.99225378\n"
     ]
    },
    {
     "name": "stderr",
     "output_type": "stream",
     "text": [
      "W0410 17:04:05.217409 140670769506112 util.py:42] Lossy conversion from float64 to uint8. Range [0, 1]. Convert image to uint8 prior to saving to suppress this warning.\n"
     ]
    },
    {
     "name": "stdout",
     "output_type": "stream",
     "text": [
      "Epoch: [ 162/ 200] [ 287/ 288] time: 15213.0539, d_loss: 0.28071612, g_loss: 4.08288336\n"
     ]
    },
    {
     "name": "stderr",
     "output_type": "stream",
     "text": [
      "W0410 17:05:38.718546 140670769506112 util.py:42] Lossy conversion from float64 to uint8. Range [0, 1]. Convert image to uint8 prior to saving to suppress this warning.\n"
     ]
    },
    {
     "name": "stdout",
     "output_type": "stream",
     "text": [
      "Epoch: [ 163/ 200] [ 287/ 288] time: 15305.5865, d_loss: 0.25069857, g_loss: 2.10358572\n"
     ]
    },
    {
     "name": "stderr",
     "output_type": "stream",
     "text": [
      "W0410 17:07:11.463546 140670769506112 util.py:42] Lossy conversion from float64 to uint8. Range [0, 1]. Convert image to uint8 prior to saving to suppress this warning.\n"
     ]
    },
    {
     "name": "stdout",
     "output_type": "stream",
     "text": [
      "Epoch: [ 164/ 200] [ 287/ 288] time: 15397.2747, d_loss: 0.18858527, g_loss: 2.07135749\n"
     ]
    },
    {
     "name": "stderr",
     "output_type": "stream",
     "text": [
      "W0410 17:08:42.943018 140670769506112 util.py:42] Lossy conversion from float64 to uint8. Range [0, 1]. Convert image to uint8 prior to saving to suppress this warning.\n"
     ]
    },
    {
     "name": "stdout",
     "output_type": "stream",
     "text": [
      "Epoch: [ 165/ 200] [ 287/ 288] time: 15490.8244, d_loss: 0.27812102, g_loss: 3.89042711\n"
     ]
    },
    {
     "name": "stderr",
     "output_type": "stream",
     "text": [
      "W0410 17:10:16.507625 140670769506112 util.py:42] Lossy conversion from float64 to uint8. Range [0, 1]. Convert image to uint8 prior to saving to suppress this warning.\n"
     ]
    },
    {
     "name": "stdout",
     "output_type": "stream",
     "text": [
      "Epoch: [ 166/ 200] [ 287/ 288] time: 15583.3566, d_loss: 0.17723647, g_loss: 3.25790787\n"
     ]
    },
    {
     "name": "stderr",
     "output_type": "stream",
     "text": [
      "W0410 17:11:49.007992 140670769506112 util.py:42] Lossy conversion from float64 to uint8. Range [0, 1]. Convert image to uint8 prior to saving to suppress this warning.\n"
     ]
    },
    {
     "name": "stdout",
     "output_type": "stream",
     "text": [
      "Epoch: [ 167/ 200] [ 287/ 288] time: 15677.6059, d_loss: 0.31184849, g_loss: 6.82898426\n"
     ]
    },
    {
     "name": "stderr",
     "output_type": "stream",
     "text": [
      "W0410 17:13:23.254584 140670769506112 util.py:42] Lossy conversion from float64 to uint8. Range [0, 1]. Convert image to uint8 prior to saving to suppress this warning.\n"
     ]
    },
    {
     "name": "stdout",
     "output_type": "stream",
     "text": [
      "Epoch: [ 168/ 200] [ 287/ 288] time: 15772.7607, d_loss: 0.21994531, g_loss: 3.70471573\n"
     ]
    },
    {
     "name": "stderr",
     "output_type": "stream",
     "text": [
      "W0410 17:14:58.414615 140670769506112 util.py:42] Lossy conversion from float64 to uint8. Range [0, 1]. Convert image to uint8 prior to saving to suppress this warning.\n"
     ]
    },
    {
     "name": "stdout",
     "output_type": "stream",
     "text": [
      "Epoch: [ 169/ 200] [ 287/ 288] time: 15866.5445, d_loss: 0.26538476, g_loss: 2.84705925\n"
     ]
    },
    {
     "name": "stderr",
     "output_type": "stream",
     "text": [
      "W0410 17:16:32.204786 140670769506112 util.py:42] Lossy conversion from float64 to uint8. Range [0, 1]. Convert image to uint8 prior to saving to suppress this warning.\n"
     ]
    },
    {
     "name": "stdout",
     "output_type": "stream",
     "text": [
      "Epoch: [ 170/ 200] [ 287/ 288] time: 15959.3861, d_loss: 0.28728470, g_loss: 3.62197304\n"
     ]
    },
    {
     "name": "stderr",
     "output_type": "stream",
     "text": [
      "W0410 17:18:05.043707 140670769506112 util.py:42] Lossy conversion from float64 to uint8. Range [0, 1]. Convert image to uint8 prior to saving to suppress this warning.\n"
     ]
    },
    {
     "name": "stdout",
     "output_type": "stream",
     "text": [
      "Epoch: [ 171/ 200] [ 287/ 288] time: 16052.4597, d_loss: 0.27646786, g_loss: 2.24996662\n"
     ]
    },
    {
     "name": "stderr",
     "output_type": "stream",
     "text": [
      "W0410 17:19:38.224253 140670769506112 util.py:42] Lossy conversion from float64 to uint8. Range [0, 1]. Convert image to uint8 prior to saving to suppress this warning.\n"
     ]
    },
    {
     "name": "stdout",
     "output_type": "stream",
     "text": [
      "Epoch: [ 172/ 200] [ 287/ 288] time: 16147.1179, d_loss: 0.19885164, g_loss: 2.81794238\n"
     ]
    },
    {
     "name": "stderr",
     "output_type": "stream",
     "text": [
      "W0410 17:21:12.832958 140670769506112 util.py:42] Lossy conversion from float64 to uint8. Range [0, 1]. Convert image to uint8 prior to saving to suppress this warning.\n"
     ]
    },
    {
     "name": "stdout",
     "output_type": "stream",
     "text": [
      "Epoch: [ 173/ 200] [ 287/ 288] time: 16241.5138, d_loss: 0.21968594, g_loss: 3.82916117\n"
     ]
    },
    {
     "name": "stderr",
     "output_type": "stream",
     "text": [
      "W0410 17:22:47.428552 140670769506112 util.py:42] Lossy conversion from float64 to uint8. Range [0, 1]. Convert image to uint8 prior to saving to suppress this warning.\n"
     ]
    },
    {
     "name": "stdout",
     "output_type": "stream",
     "text": [
      "Epoch: [ 174/ 200] [ 287/ 288] time: 16334.4785, d_loss: 0.19164036, g_loss: 2.99831295\n"
     ]
    },
    {
     "name": "stderr",
     "output_type": "stream",
     "text": [
      "W0410 17:24:20.341431 140670769506112 util.py:42] Lossy conversion from float64 to uint8. Range [0, 1]. Convert image to uint8 prior to saving to suppress this warning.\n"
     ]
    },
    {
     "name": "stdout",
     "output_type": "stream",
     "text": [
      "Epoch: [ 175/ 200] [ 287/ 288] time: 16428.2318, d_loss: 0.28978157, g_loss: 3.84609652\n"
     ]
    },
    {
     "name": "stderr",
     "output_type": "stream",
     "text": [
      "W0410 17:25:53.897370 140670769506112 util.py:42] Lossy conversion from float64 to uint8. Range [0, 1]. Convert image to uint8 prior to saving to suppress this warning.\n"
     ]
    },
    {
     "name": "stdout",
     "output_type": "stream",
     "text": [
      "Epoch: [ 176/ 200] [ 287/ 288] time: 16521.2661, d_loss: 0.21392441, g_loss: 2.95299387\n"
     ]
    },
    {
     "name": "stderr",
     "output_type": "stream",
     "text": [
      "W0410 17:27:26.917001 140670769506112 util.py:42] Lossy conversion from float64 to uint8. Range [0, 1]. Convert image to uint8 prior to saving to suppress this warning.\n"
     ]
    },
    {
     "name": "stdout",
     "output_type": "stream",
     "text": [
      "Epoch: [ 177/ 200] [ 287/ 288] time: 16614.6796, d_loss: 0.32529128, g_loss: 3.70337129\n"
     ]
    },
    {
     "name": "stderr",
     "output_type": "stream",
     "text": [
      "W0410 17:29:00.341011 140670769506112 util.py:42] Lossy conversion from float64 to uint8. Range [0, 1]. Convert image to uint8 prior to saving to suppress this warning.\n"
     ]
    },
    {
     "name": "stdout",
     "output_type": "stream",
     "text": [
      "Epoch: [ 178/ 200] [ 287/ 288] time: 16708.2861, d_loss: 0.21699134, g_loss: 3.98852158\n"
     ]
    },
    {
     "name": "stderr",
     "output_type": "stream",
     "text": [
      "W0410 17:30:34.098917 140670769506112 util.py:42] Lossy conversion from float64 to uint8. Range [0, 1]. Convert image to uint8 prior to saving to suppress this warning.\n"
     ]
    },
    {
     "name": "stdout",
     "output_type": "stream",
     "text": [
      "Epoch: [ 179/ 200] [ 287/ 288] time: 16801.5097, d_loss: 0.26584280, g_loss: 2.63415956\n"
     ]
    },
    {
     "name": "stderr",
     "output_type": "stream",
     "text": [
      "W0410 17:32:07.157661 140670769506112 util.py:42] Lossy conversion from float64 to uint8. Range [0, 1]. Convert image to uint8 prior to saving to suppress this warning.\n"
     ]
    },
    {
     "name": "stdout",
     "output_type": "stream",
     "text": [
      "Epoch: [ 180/ 200] [ 287/ 288] time: 16895.1652, d_loss: 0.25891587, g_loss: 1.94114792\n"
     ]
    },
    {
     "name": "stderr",
     "output_type": "stream",
     "text": [
      "W0410 17:33:40.835816 140670769506112 util.py:42] Lossy conversion from float64 to uint8. Range [0, 1]. Convert image to uint8 prior to saving to suppress this warning.\n"
     ]
    },
    {
     "name": "stdout",
     "output_type": "stream",
     "text": [
      "Epoch: [ 181/ 200] [ 287/ 288] time: 16989.9003, d_loss: 0.46867552, g_loss: 2.45630789\n"
     ]
    },
    {
     "name": "stderr",
     "output_type": "stream",
     "text": [
      "W0410 17:35:15.552264 140670769506112 util.py:42] Lossy conversion from float64 to uint8. Range [0, 1]. Convert image to uint8 prior to saving to suppress this warning.\n"
     ]
    },
    {
     "name": "stdout",
     "output_type": "stream",
     "text": [
      "Epoch: [ 182/ 200] [ 287/ 288] time: 17082.3634, d_loss: 0.42376697, g_loss: 4.92726946\n"
     ]
    },
    {
     "name": "stderr",
     "output_type": "stream",
     "text": [
      "W0410 17:36:48.228995 140670769506112 util.py:42] Lossy conversion from float64 to uint8. Range [0, 1]. Convert image to uint8 prior to saving to suppress this warning.\n"
     ]
    },
    {
     "name": "stdout",
     "output_type": "stream",
     "text": [
      "Epoch: [ 183/ 200] [ 287/ 288] time: 17175.1143, d_loss: 0.53082490, g_loss: 0.82665610\n"
     ]
    },
    {
     "name": "stderr",
     "output_type": "stream",
     "text": [
      "W0410 17:38:20.777085 140670769506112 util.py:42] Lossy conversion from float64 to uint8. Range [0, 1]. Convert image to uint8 prior to saving to suppress this warning.\n"
     ]
    },
    {
     "name": "stdout",
     "output_type": "stream",
     "text": [
      "Epoch: [ 184/ 200] [ 287/ 288] time: 17268.8176, d_loss: 0.21715483, g_loss: 4.56413746\n"
     ]
    },
    {
     "name": "stderr",
     "output_type": "stream",
     "text": [
      "W0410 17:39:54.467396 140670769506112 util.py:42] Lossy conversion from float64 to uint8. Range [0, 1]. Convert image to uint8 prior to saving to suppress this warning.\n"
     ]
    },
    {
     "name": "stdout",
     "output_type": "stream",
     "text": [
      "Epoch: [ 185/ 200] [ 287/ 288] time: 17361.5388, d_loss: 0.18668681, g_loss: 2.74616146\n"
     ]
    },
    {
     "name": "stderr",
     "output_type": "stream",
     "text": [
      "W0410 17:41:27.200967 140670769506112 util.py:42] Lossy conversion from float64 to uint8. Range [0, 1]. Convert image to uint8 prior to saving to suppress this warning.\n"
     ]
    },
    {
     "name": "stdout",
     "output_type": "stream",
     "text": [
      "Epoch: [ 186/ 200] [ 287/ 288] time: 17453.0242, d_loss: 0.17629933, g_loss: 3.50582862\n"
     ]
    },
    {
     "name": "stderr",
     "output_type": "stream",
     "text": [
      "W0410 17:42:58.940714 140670769506112 util.py:42] Lossy conversion from float64 to uint8. Range [0, 1]. Convert image to uint8 prior to saving to suppress this warning.\n"
     ]
    },
    {
     "name": "stdout",
     "output_type": "stream",
     "text": [
      "Epoch: [ 187/ 200] [ 287/ 288] time: 17547.0444, d_loss: 0.18917464, g_loss: 2.62212539\n"
     ]
    },
    {
     "name": "stderr",
     "output_type": "stream",
     "text": [
      "W0410 17:44:32.959615 140670769506112 util.py:42] Lossy conversion from float64 to uint8. Range [0, 1]. Convert image to uint8 prior to saving to suppress this warning.\n"
     ]
    },
    {
     "name": "stdout",
     "output_type": "stream",
     "text": [
      "Epoch: [ 188/ 200] [ 287/ 288] time: 17635.2478, d_loss: 0.18928622, g_loss: 3.53194690\n"
     ]
    },
    {
     "name": "stderr",
     "output_type": "stream",
     "text": [
      "W0410 17:46:00.911734 140670769506112 util.py:42] Lossy conversion from float64 to uint8. Range [0, 1]. Convert image to uint8 prior to saving to suppress this warning.\n"
     ]
    },
    {
     "name": "stdout",
     "output_type": "stream",
     "text": [
      "Epoch: [ 189/ 200] [ 287/ 288] time: 17721.8046, d_loss: 0.28089035, g_loss: 1.35068178\n"
     ]
    },
    {
     "name": "stderr",
     "output_type": "stream",
     "text": [
      "W0410 17:47:27.626387 140670769506112 util.py:42] Lossy conversion from float64 to uint8. Range [0, 1]. Convert image to uint8 prior to saving to suppress this warning.\n"
     ]
    },
    {
     "name": "stdout",
     "output_type": "stream",
     "text": [
      "Epoch: [ 190/ 200] [ 287/ 288] time: 17808.9971, d_loss: 0.22320418, g_loss: 2.59715366\n"
     ]
    },
    {
     "name": "stderr",
     "output_type": "stream",
     "text": [
      "W0410 17:48:54.651017 140670769506112 util.py:42] Lossy conversion from float64 to uint8. Range [0, 1]. Convert image to uint8 prior to saving to suppress this warning.\n"
     ]
    },
    {
     "name": "stdout",
     "output_type": "stream",
     "text": [
      "Epoch: [ 191/ 200] [ 287/ 288] time: 17893.6971, d_loss: 0.33775067, g_loss: 2.44139743\n"
     ]
    },
    {
     "name": "stderr",
     "output_type": "stream",
     "text": [
      "W0410 17:50:19.363581 140670769506112 util.py:42] Lossy conversion from float64 to uint8. Range [0, 1]. Convert image to uint8 prior to saving to suppress this warning.\n"
     ]
    },
    {
     "name": "stdout",
     "output_type": "stream",
     "text": [
      "Epoch: [ 192/ 200] [ 287/ 288] time: 17979.4347, d_loss: 0.21815076, g_loss: 2.24212694\n"
     ]
    },
    {
     "name": "stderr",
     "output_type": "stream",
     "text": [
      "W0410 17:51:45.101707 140670769506112 util.py:42] Lossy conversion from float64 to uint8. Range [0, 1]. Convert image to uint8 prior to saving to suppress this warning.\n"
     ]
    },
    {
     "name": "stdout",
     "output_type": "stream",
     "text": [
      "Epoch: [ 193/ 200] [ 287/ 288] time: 18064.6017, d_loss: 0.20517473, g_loss: 6.86782312\n"
     ]
    },
    {
     "name": "stderr",
     "output_type": "stream",
     "text": [
      "W0410 17:53:10.459760 140670769506112 util.py:42] Lossy conversion from float64 to uint8. Range [0, 1]. Convert image to uint8 prior to saving to suppress this warning.\n"
     ]
    },
    {
     "name": "stdout",
     "output_type": "stream",
     "text": [
      "Epoch: [ 194/ 200] [ 287/ 288] time: 18150.0425, d_loss: 0.27666336, g_loss: 1.24364102\n"
     ]
    },
    {
     "name": "stderr",
     "output_type": "stream",
     "text": [
      "W0410 17:54:35.709418 140670769506112 util.py:42] Lossy conversion from float64 to uint8. Range [0, 1]. Convert image to uint8 prior to saving to suppress this warning.\n"
     ]
    },
    {
     "name": "stdout",
     "output_type": "stream",
     "text": [
      "Epoch: [ 195/ 200] [ 287/ 288] time: 18237.2098, d_loss: 0.18109289, g_loss: 6.18971920\n"
     ]
    },
    {
     "name": "stderr",
     "output_type": "stream",
     "text": [
      "W0410 17:56:03.055666 140670769506112 util.py:42] Lossy conversion from float64 to uint8. Range [0, 1]. Convert image to uint8 prior to saving to suppress this warning.\n"
     ]
    },
    {
     "name": "stdout",
     "output_type": "stream",
     "text": [
      "Epoch: [ 196/ 200] [ 287/ 288] time: 18322.4235, d_loss: 0.16491319, g_loss: 4.87323093\n"
     ]
    },
    {
     "name": "stderr",
     "output_type": "stream",
     "text": [
      "W0410 17:57:28.077425 140670769506112 util.py:42] Lossy conversion from float64 to uint8. Range [0, 1]. Convert image to uint8 prior to saving to suppress this warning.\n"
     ]
    },
    {
     "name": "stdout",
     "output_type": "stream",
     "text": [
      "Epoch: [ 197/ 200] [ 287/ 288] time: 18407.0998, d_loss: 0.27978614, g_loss: 5.19764900\n"
     ]
    },
    {
     "name": "stderr",
     "output_type": "stream",
     "text": [
      "W0410 17:58:52.956382 140670769506112 util.py:42] Lossy conversion from float64 to uint8. Range [0, 1]. Convert image to uint8 prior to saving to suppress this warning.\n"
     ]
    },
    {
     "name": "stdout",
     "output_type": "stream",
     "text": [
      "Epoch: [ 198/ 200] [ 287/ 288] time: 18492.9678, d_loss: 0.25932896, g_loss: 1.62349224\n"
     ]
    },
    {
     "name": "stderr",
     "output_type": "stream",
     "text": [
      "W0410 18:00:18.758986 140670769506112 util.py:42] Lossy conversion from float64 to uint8. Range [0, 1]. Convert image to uint8 prior to saving to suppress this warning.\n"
     ]
    },
    {
     "name": "stdout",
     "output_type": "stream",
     "text": [
      "Epoch: [ 199/ 200] [ 287/ 288] time: 18578.6455, d_loss: 0.16899064, g_loss: 2.70188761\n"
     ]
    },
    {
     "name": "stderr",
     "output_type": "stream",
     "text": [
      "W0410 18:01:44.307610 140670769506112 util.py:42] Lossy conversion from float64 to uint8. Range [0, 1]. Convert image to uint8 prior to saving to suppress this warning.\n"
     ]
    },
    {
     "name": "stdout",
     "output_type": "stream",
     "text": [
      " [*] Training finished!\n"
     ]
    }
   ],
   "source": [
    "if __name__ == '__main__':\n",
    "    main()\n"
   ]
  },
  {
   "cell_type": "code",
   "execution_count": 5,
   "metadata": {},
   "outputs": [
    {
     "data": {
      "text/plain": [
       "0"
      ]
     },
     "execution_count": 5,
     "metadata": {},
     "output_type": "execute_result"
    }
   ],
   "source": [
    "# '--testing_tags', type=str, default='./AnimeDataset/sample_testing_text.txt'\n",
    "import gc\n",
    "gc.collect()"
   ]
  },
  {
   "cell_type": "code",
   "execution_count": null,
   "metadata": {},
   "outputs": [],
   "source": []
  }
 ],
 "metadata": {
  "kernelspec": {
   "display_name": "Python 3",
   "language": "python",
   "name": "python3"
  },
  "language_info": {
   "codemirror_mode": {
    "name": "ipython",
    "version": 3
   },
   "file_extension": ".py",
   "mimetype": "text/x-python",
   "name": "python",
   "nbconvert_exporter": "python",
   "pygments_lexer": "ipython3",
   "version": "3.6.8"
  }
 },
 "nbformat": 4,
 "nbformat_minor": 4
}
