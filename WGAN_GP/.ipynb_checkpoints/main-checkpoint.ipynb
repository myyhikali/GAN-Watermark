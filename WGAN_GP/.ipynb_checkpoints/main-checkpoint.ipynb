{
 "cells": [
  {
   "cell_type": "markdown",
   "metadata": {},
   "source": [
    "## 未嵌入水印版本"
   ]
  },
  {
   "cell_type": "code",
   "execution_count": 1,
   "metadata": {},
   "outputs": [],
   "source": [
    "\n",
    "## GAN Variants\n",
    "# from GAN import GAN\n",
    "# from CGAN import CGAN\n",
    "# from infoGAN import infoGAN\n",
    "# from ACGAN import ACGAN\n",
    "# from EBGAN import EBGAN\n",
    "# from WGAN import WGAN\n",
    "from WGAN_GP import WGAN_GP\n",
    "#from WGAN_GP_withWM import WGAN_GP\n",
    "# from DRAGAN import DRAGAN\n",
    "# from LSGAN import LSGAN\n",
    "# from BEGAN import BEGAN\n",
    "\n",
    "## VAE Variants\n",
    "# from VAE import VAE\n",
    "# from CVAE import CVAE\n",
    "\n",
    "from utils import show_all_variables\n",
    "from utils import check_folder\n",
    "\n",
    "import tensorflow as tf\n",
    "import argparse\n",
    "\n",
    "import numpy as np\n",
    "import os\n",
    "os.environ[\"CUDA_VISIBLE_DEVICES\"] = \"0\"\n",
    "config = tf.ConfigProto()\n",
    "config.gpu_options.per_process_gpu_memory_fraction = 0.9  # 程序最多只能占用指定gpu90%的显存\n",
    "config.gpu_options.allow_growth = True      #程序按需申请内存\n",
    "sess = tf.Session(config = config)"
   ]
  },
  {
   "cell_type": "code",
   "execution_count": 2,
   "metadata": {},
   "outputs": [],
   "source": [
    "\"\"\"parsing and configuration\"\"\"\n",
    "def parse_args():\n",
    "    desc = \"Tensorflow implementation of GAN collections\"\n",
    "    parser = argparse.ArgumentParser(description=desc)\n",
    "    \n",
    "    #args = parser.parse_args(args=[])\n",
    "    \n",
    "    parser.add_argument('--gan_type', type=str, default='GAN',\n",
    "                        choices=['GAN', 'CGAN', 'infoGAN', 'ACGAN', 'EBGAN', 'BEGAN', 'WGAN', 'WGAN_GP', 'DRAGAN', 'LSGAN', 'VAE', 'CVAE'],\n",
    "                        help='The type of GAN')\n",
    "                        #help='The type of GAN', required=True)\n",
    "    parser.add_argument('--dataset', type=str, default='mnist', choices=['mnist', 'fashion-mnist', 'celebA', 'Anime'],\n",
    "                        help='The name of dataset')\n",
    "    parser.add_argument('--epoch', type=int, default=100, help='The number of epochs to run')\n",
    "    parser.add_argument('--batch_size', type=int, default=128, help='The size of batch')\n",
    "    parser.add_argument('--z_dim', type=int, default=128, help='Dimension of noise vector')\n",
    "    parser.add_argument('--checkpoint_dir', type=str, default='./ResultWithOutWm_epoch200_G1D2/checkpoint',\n",
    "                        help='Directory name to save the checkpoints')\n",
    "    parser.add_argument('--result_dir', type=str, default='./ResultWithOutWm_epoch200_G1D2/results',\n",
    "                        help='Directory name to save the generated images')\n",
    "    parser.add_argument('--log_dir', type=str, default='./ResultWithOutWm_epoch200_G1D2/logs',\n",
    "                        help='Directory name to save training logs')\n",
    "    parser.add_argument('--mode', type=str, default='train',\n",
    "                        help='train or infer')\n",
    "    parser.add_argument('--testing_tags', type=str, default='./AnimeDataset/sample_testing_text.txt',\n",
    "                        help='train or infer')\n",
    "    return check_args(parser.parse_args(args=['--gan_type','WGAN_GP','--dataset','Anime']))\n",
    "    #return check_args(parser.parse_args())\n",
    "\n",
    "\"\"\"checking arguments\"\"\"\n",
    "def check_args(args):\n",
    "    # --checkpoint_dir\n",
    "    check_folder(args.checkpoint_dir)\n",
    "\n",
    "    # --result_dir\n",
    "    check_folder(args.result_dir)\n",
    "\n",
    "    # --result_dir\n",
    "    check_folder(args.log_dir)\n",
    "\n",
    "    # --epoch\n",
    "    assert args.epoch >= 1, 'number of epochs must be larger than or equal to one'\n",
    "\n",
    "    # --batch_size\n",
    "    assert args.batch_size >= 1, 'batch size must be larger than or equal to one'\n",
    "\n",
    "    # --z_dim\n",
    "    assert args.z_dim >= 1, 'dimension of noise vector must be larger than or equal to one'\n",
    "\n",
    "    return args"
   ]
  },
  {
   "cell_type": "code",
   "execution_count": 3,
   "metadata": {},
   "outputs": [
    {
     "name": "stdout",
     "output_type": "stream",
     "text": [
      "finish\n"
     ]
    }
   ],
   "source": [
    "\"\"\"main\"\"\"\n",
    "def main():\n",
    "    # Fix random seed.\n",
    "    tf.set_random_seed(9487)\n",
    "    #tf.random.set_seed(9487)\n",
    "    \n",
    "    # parse arguments\n",
    "    args = parse_args()\n",
    "    if args is None:\n",
    "          exit()\n",
    "\n",
    "    # open session\n",
    "    # models = [GAN, CGAN, infoGAN, ACGAN, EBGAN, WGAN, WGAN_GP, DRAGAN,\n",
    "    #           LSGAN, BEGAN, VAE, CVAE]\n",
    "    models = [WGAN_GP] \n",
    "    #with tf.Session(config=tf.ConfigProto(allow_soft_placement=True)) as sess:\n",
    "    with tf.compat.v1.Session(config=tf.compat.v1.ConfigProto(allow_soft_placement=True)) as sess:    \n",
    "        # declare instance for GAN\n",
    "\n",
    "        gan = None\n",
    "        for model in models:\n",
    "            if args.gan_type == model.model_name:\n",
    "                gan = model(sess,\n",
    "                            epoch=args.epoch,\n",
    "                            batch_size=args.batch_size,\n",
    "                            z_dim=args.z_dim,\n",
    "                            dataset_name=args.dataset,\n",
    "                            checkpoint_dir=args.checkpoint_dir,\n",
    "                            result_dir=args.result_dir,\n",
    "                            log_dir=args.log_dir, \n",
    "                            mode=args.mode)\n",
    "        if gan is None:\n",
    "            raise Exception(\"[!] There is no option for \" + args.gan_type)\n",
    "\n",
    "        # build graph\n",
    "        gan.build_model()\n",
    "\n",
    "        # show network architecture\n",
    "        show_all_variables()\n",
    "        if args.mode == 'train':\n",
    "            # launch the graph in a session\n",
    "            gan.train()\n",
    "            print(\" [*] Training finished!\")\n",
    "\n",
    "            # # visualize learned generator\n",
    "            # gan.visualize_results(args.epoch-1)\n",
    "            # print(\" [*] Testing finished!\")\n",
    "        elif args.mode == 'infer': # 我找到测试的代码了\n",
    "            tag_dict = ['orange hair', 'white hair', 'aqua hair', 'gray hair', 'green hair', 'red hair', 'purple hair', \n",
    "                        'pink hair', 'blue hair', 'black hair', 'brown hair', 'blonde hair', 'no hair',\n",
    "                        'gray eyes', 'black eyes', 'orange eyes', 'pink eyes', 'yellow eyes',\n",
    "                        'aqua eyes', 'purple eyes', 'green eyes', 'brown eyes', 'red eyes', 'blue eyes','no eyes']\n",
    "            testing_tags_txt = open(args.testing_tags, 'r').readlines()\n",
    "\n",
    "            test_labels = np.zeros((args.batch_size, len(tag_dict)))\n",
    "            for line in testing_tags_txt:\n",
    "                id, tags = line.split(',')\n",
    "                label = np.zeros(len(tag_dict))\n",
    "                \n",
    "                for i in range(len(tag_dict)):\n",
    "                    if tag_dict[i] in tags:\n",
    "                        label[i] = 1\n",
    "                test_labels[int(id) - 1] = label\n",
    "                \n",
    "            # visualize learned generator\n",
    "            gan.infer(test_labels)\n",
    "            print(\" [*] Infer finished!\")\n",
    "\n",
    "print(\"finish\")"
   ]
  },
  {
   "cell_type": "code",
   "execution_count": null,
   "metadata": {
    "scrolled": true
   },
   "outputs": [
    {
     "name": "stdout",
     "output_type": "stream",
     "text": [
      "[Tip 14] Train discriminator more (sometimes)\n",
      "images.shape:  (36740, 64, 64, 3)\n",
      "labels.shape:  (36740, 25)\n",
      "Loading images to numpy array...\n"
     ]
    }
   ],
   "source": [
    "if __name__ == '__main__':\n",
    "    main()\n"
   ]
  },
  {
   "cell_type": "code",
   "execution_count": null,
   "metadata": {},
   "outputs": [],
   "source": [
    "import gc\n",
    "gc.collect()"
   ]
  },
  {
   "cell_type": "code",
   "execution_count": null,
   "metadata": {},
   "outputs": [],
   "source": []
  }
 ],
 "metadata": {
  "kernelspec": {
   "display_name": "Python 3",
   "language": "python",
   "name": "python3"
  },
  "language_info": {
   "codemirror_mode": {
    "name": "ipython",
    "version": 3
   },
   "file_extension": ".py",
   "mimetype": "text/x-python",
   "name": "python",
   "nbconvert_exporter": "python",
   "pygments_lexer": "ipython3",
   "version": "3.7.10"
  }
 },
 "nbformat": 4,
 "nbformat_minor": 4
}
