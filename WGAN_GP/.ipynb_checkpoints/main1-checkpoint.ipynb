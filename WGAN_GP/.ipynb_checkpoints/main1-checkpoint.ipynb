{
 "cells": [
  {
   "cell_type": "markdown",
   "metadata": {},
   "source": [
    "## 未嵌入水印版本"
   ]
  },
  {
   "cell_type": "code",
   "execution_count": 1,
   "metadata": {},
   "outputs": [],
   "source": [
    "\n",
    "## GAN Variants\n",
    "# from GAN import GAN\n",
    "# from CGAN import CGAN\n",
    "# from infoGAN import infoGAN\n",
    "# from ACGAN import ACGAN\n",
    "# from EBGAN import EBGAN\n",
    "# from WGAN import WGAN\n",
    "from WGAN_GP import WGAN_GP\n",
    "#from WGAN_GP_withWM import WGAN_GP\n",
    "# from DRAGAN import DRAGAN\n",
    "# from LSGAN import LSGAN\n",
    "# from BEGAN import BEGAN\n",
    "\n",
    "## VAE Variants\n",
    "# from VAE import VAE\n",
    "# from CVAE import CVAE\n",
    "\n",
    "from utils import show_all_variables\n",
    "from utils import check_folder\n",
    "\n",
    "import tensorflow as tf\n",
    "import argparse\n",
    "\n",
    "import numpy as np\n",
    "import os\n",
    "os.environ[\"CUDA_VISIBLE_DEVICES\"] = \"0\"\n",
    "config = tf.ConfigProto()\n",
    "config.gpu_options.per_process_gpu_memory_fraction = 0.9  # 程序最多只能占用指定gpu90%的显存\n",
    "config.gpu_options.allow_growth = True      #程序按需申请内存\n",
    "sess = tf.Session(config = config)"
   ]
  },
  {
   "cell_type": "code",
   "execution_count": 2,
   "metadata": {},
   "outputs": [],
   "source": [
    "\"\"\"parsing and configuration\"\"\"\n",
    "def parse_args():\n",
    "    desc = \"Tensorflow implementation of GAN collections\"\n",
    "    parser = argparse.ArgumentParser(description=desc)\n",
    "    \n",
    "    #args = parser.parse_args(args=[])\n",
    "    \n",
    "    parser.add_argument('--gan_type', type=str, default='GAN',\n",
    "                        choices=['GAN', 'CGAN', 'infoGAN', 'ACGAN', 'EBGAN', 'BEGAN', 'WGAN', 'WGAN_GP', 'DRAGAN', 'LSGAN', 'VAE', 'CVAE'],\n",
    "                        help='The type of GAN')\n",
    "                        #help='The type of GAN', required=True)\n",
    "    parser.add_argument('--dataset', type=str, default='mnist', choices=['mnist', 'fashion-mnist', 'celebA', 'Anime'],\n",
    "                        help='The name of dataset')\n",
    "    parser.add_argument('--epoch', type=int, default=100, help='The number of epochs to run')\n",
    "    parser.add_argument('--batch_size', type=int, default=128, help='The size of batch')\n",
    "    parser.add_argument('--z_dim', type=int, default=128, help='Dimension of noise vector')\n",
    "    parser.add_argument('--checkpoint_dir', type=str, default='./ResultWithOutWm/checkpoint',\n",
    "                        help='Directory name to save the checkpoints')\n",
    "    parser.add_argument('--result_dir', type=str, default='./ResultWithOutWm/results',\n",
    "                        help='Directory name to save the generated images')\n",
    "    parser.add_argument('--log_dir', type=str, default='./ResultWithOutWm/logs',\n",
    "                        help='Directory name to save training logs')\n",
    "    parser.add_argument('--mode', type=str, default='train',\n",
    "                        help='train or infer')\n",
    "    parser.add_argument('--testing_tags', type=str, default='./AnimeDataset/sample_testing_text.txt',\n",
    "                        help='train or infer')\n",
    "    return check_args(parser.parse_args(args=['--gan_type','WGAN_GP','--dataset','Anime']))\n",
    "    #return check_args(parser.parse_args())\n",
    "\n",
    "\"\"\"checking arguments\"\"\"\n",
    "def check_args(args):\n",
    "    # --checkpoint_dir\n",
    "    check_folder(args.checkpoint_dir)\n",
    "\n",
    "    # --result_dir\n",
    "    check_folder(args.result_dir)\n",
    "\n",
    "    # --result_dir\n",
    "    check_folder(args.log_dir)\n",
    "\n",
    "    # --epoch\n",
    "    assert args.epoch >= 1, 'number of epochs must be larger than or equal to one'\n",
    "\n",
    "    # --batch_size\n",
    "    assert args.batch_size >= 1, 'batch size must be larger than or equal to one'\n",
    "\n",
    "    # --z_dim\n",
    "    assert args.z_dim >= 1, 'dimension of noise vector must be larger than or equal to one'\n",
    "\n",
    "    return args"
   ]
  },
  {
   "cell_type": "code",
   "execution_count": 3,
   "metadata": {},
   "outputs": [
    {
     "name": "stdout",
     "output_type": "stream",
     "text": [
      "finish\n"
     ]
    }
   ],
   "source": [
    "\"\"\"main\"\"\"\n",
    "def main():\n",
    "    # Fix random seed.\n",
    "    tf.set_random_seed(9487)\n",
    "    #tf.random.set_seed(9487)\n",
    "    \n",
    "    # parse arguments\n",
    "    args = parse_args()\n",
    "    if args is None:\n",
    "          exit()\n",
    "\n",
    "    # open session\n",
    "    # models = [GAN, CGAN, infoGAN, ACGAN, EBGAN, WGAN, WGAN_GP, DRAGAN,\n",
    "    #           LSGAN, BEGAN, VAE, CVAE]\n",
    "    models = [WGAN_GP] \n",
    "    #with tf.Session(config=tf.ConfigProto(allow_soft_placement=True)) as sess:\n",
    "    with tf.compat.v1.Session(config=tf.compat.v1.ConfigProto(allow_soft_placement=True)) as sess:    \n",
    "        # declare instance for GAN\n",
    "\n",
    "        gan = None\n",
    "        for model in models:\n",
    "            if args.gan_type == model.model_name:\n",
    "                gan = model(sess,\n",
    "                            epoch=args.epoch,\n",
    "                            batch_size=args.batch_size,\n",
    "                            z_dim=args.z_dim,\n",
    "                            dataset_name=args.dataset,\n",
    "                            checkpoint_dir=args.checkpoint_dir,\n",
    "                            result_dir=args.result_dir,\n",
    "                            log_dir=args.log_dir, \n",
    "                            mode=args.mode)\n",
    "        if gan is None:\n",
    "            raise Exception(\"[!] There is no option for \" + args.gan_type)\n",
    "\n",
    "        # build graph\n",
    "        gan.build_model()\n",
    "\n",
    "        # show network architecture\n",
    "        show_all_variables()\n",
    "        if args.mode == 'train':\n",
    "            # launch the graph in a session\n",
    "            gan.train()\n",
    "            print(\" [*] Training finished!\")\n",
    "\n",
    "            # # visualize learned generator\n",
    "            # gan.visualize_results(args.epoch-1)\n",
    "            # print(\" [*] Testing finished!\")\n",
    "        elif args.mode == 'infer': # 我找到测试的代码了\n",
    "            tag_dict = ['orange hair', 'white hair', 'aqua hair', 'gray hair', 'green hair', 'red hair', 'purple hair', \n",
    "                        'pink hair', 'blue hair', 'black hair', 'brown hair', 'blonde hair', 'no hair',\n",
    "                        'gray eyes', 'black eyes', 'orange eyes', 'pink eyes', 'yellow eyes',\n",
    "                        'aqua eyes', 'purple eyes', 'green eyes', 'brown eyes', 'red eyes', 'blue eyes','no eyes']\n",
    "            testing_tags_txt = open(args.testing_tags, 'r').readlines()\n",
    "\n",
    "            test_labels = np.zeros((args.batch_size, len(tag_dict)))\n",
    "            for line in testing_tags_txt:\n",
    "                id, tags = line.split(',')\n",
    "                label = np.zeros(len(tag_dict))\n",
    "                \n",
    "                for i in range(len(tag_dict)):\n",
    "                    if tag_dict[i] in tags:\n",
    "                        label[i] = 1\n",
    "                test_labels[int(id) - 1] = label\n",
    "                \n",
    "            # visualize learned generator\n",
    "            gan.infer(test_labels)\n",
    "            print(\" [*] Infer finished!\")\n",
    "\n",
    "print(\"finish\")"
   ]
  },
  {
   "cell_type": "code",
   "execution_count": 4,
   "metadata": {
    "scrolled": true
   },
   "outputs": [
    {
     "name": "stdout",
     "output_type": "stream",
     "text": [
      "[Tip 14] Train discriminator more (sometimes)\n",
      "images.shape:  (36740, 64, 64, 3)\n",
      "labels.shape:  (36740, 25)\n",
      "Loading images to numpy array...\n",
      "Random shuffling images and labels...\n",
      "[Tip 1] Normalize the images between -1 and 1.\n"
     ]
    },
    {
     "name": "stderr",
     "output_type": "stream",
     "text": [
      "WARNING: Logging before flag parsing goes to stderr.\n",
      "W0410 12:51:59.723845 140394231957312 deprecation_wrapper.py:119] From /tf/notebooks/anime_myy/WGAN_GP.py:159: The name tf.set_random_seed is deprecated. Please use tf.compat.v1.set_random_seed instead.\n",
      "\n",
      "W0410 12:51:59.725373 140394231957312 deprecation_wrapper.py:119] From /tf/notebooks/anime_myy/WGAN_GP.py:167: The name tf.placeholder is deprecated. Please use tf.compat.v1.placeholder instead.\n",
      "\n",
      "W0410 12:51:59.771352 140394231957312 deprecation_wrapper.py:119] From /tf/notebooks/anime_myy/WGAN_GP.py:172: The name tf.random_uniform is deprecated. Please use tf.random.uniform instead.\n",
      "\n",
      "W0410 12:51:59.817102 140394231957312 deprecation_wrapper.py:119] From /tf/notebooks/anime_myy/WGAN_GP.py:131: The name tf.variable_scope is deprecated. Please use tf.compat.v1.variable_scope instead.\n",
      "\n"
     ]
    },
    {
     "name": "stdout",
     "output_type": "stream",
     "text": [
      "[Tip Hung-yi Lee] Data Augmentation (flip images horizontally + rotate images)\n",
      "[Tip 4] BatchNorm\n",
      "[Tip 5] Avoid Sparse Gradients: ReLU, MaxPool\n"
     ]
    },
    {
     "name": "stderr",
     "output_type": "stream",
     "text": [
      "W0410 12:52:00.131919 140394231957312 deprecation.py:323] From /tf/notebooks/anime_myy/WGAN_GP.py:140: batch_normalization (from tensorflow.python.layers.normalization) is deprecated and will be removed in a future version.\n",
      "Instructions for updating:\n",
      "Use keras.layers.BatchNormalization instead.  In particular, `tf.control_dependencies(tf.GraphKeys.UPDATE_OPS)` should not be used (consult the `tf.keras.layers.batch_normalization` documentation).\n",
      "W0410 12:52:00.953238 140394231957312 deprecation_wrapper.py:119] From /tf/notebooks/anime_myy/WGAN_GP.py:196: The name tf.AUTO_REUSE is deprecated. Please use tf.compat.v1.AUTO_REUSE instead.\n",
      "\n"
     ]
    },
    {
     "name": "stdout",
     "output_type": "stream",
     "text": [
      "[Tip 5] Avoid Sparse Gradients: ReLU, MaxPool\n"
     ]
    },
    {
     "name": "stderr",
     "output_type": "stream",
     "text": [
      "W0410 12:52:01.404242 140394231957312 deprecation.py:323] From /usr/local/lib/python3.6/dist-packages/tensorflow/contrib/layers/python/layers/layers.py:1634: flatten (from tensorflow.python.layers.core) is deprecated and will be removed in a future version.\n",
      "Instructions for updating:\n",
      "Use keras.layers.flatten instead.\n",
      "W0410 12:52:01.781537 140394231957312 deprecation.py:323] From /usr/local/lib/python3.6/dist-packages/tensorflow/python/ops/nn_impl.py:180: add_dispatch_support.<locals>.wrapper (from tensorflow.python.ops.array_ops) is deprecated and will be removed in a future version.\n",
      "Instructions for updating:\n",
      "Use tf.where in 2.0, which has the same broadcast rule as np.where\n"
     ]
    },
    {
     "name": "stdout",
     "output_type": "stream",
     "text": [
      "[Tip 5] Avoid Sparse Gradients: ReLU, MaxPool\n",
      "[Tip 5] Avoid Sparse Gradients: ReLU, MaxPool\n",
      "[Tip 5] Avoid Sparse Gradients: ReLU, MaxPool\n",
      "[Tip 5] Avoid Sparse Gradients: ReLU, MaxPool\n"
     ]
    },
    {
     "name": "stderr",
     "output_type": "stream",
     "text": [
      "W0410 12:52:01.931941 140394231957312 deprecation_wrapper.py:119] From /tf/notebooks/anime_myy/WGAN_GP.py:237: The name tf.train.AdamOptimizer is deprecated. Please use tf.compat.v1.train.AdamOptimizer instead.\n",
      "\n",
      "W0410 12:52:03.578189 140394231957312 deprecation_wrapper.py:119] From /tf/notebooks/anime_myy/WGAN_GP.py:249: The name tf.summary.scalar is deprecated. Please use tf.compat.v1.summary.scalar instead.\n",
      "\n",
      "W0410 12:52:03.583022 140394231957312 deprecation_wrapper.py:119] From /tf/notebooks/anime_myy/WGAN_GP.py:255: The name tf.summary.merge is deprecated. Please use tf.compat.v1.summary.merge instead.\n",
      "\n"
     ]
    },
    {
     "name": "stdout",
     "output_type": "stream",
     "text": [
      "[Tip 5] Avoid Sparse Gradients: ReLU, MaxPool\n",
      "---------\n",
      "Variables: name (type shape) [size]\n",
      "---------\n",
      "generator/fully_connected/weights:0 (float32_ref 153x6144) [940032, bytes: 3760128]\n",
      "generator/fully_connected/biases:0 (float32_ref 6144) [6144, bytes: 24576]\n",
      "generator/batch_normalization/gamma:0 (float32_ref 6144) [6144, bytes: 24576]\n",
      "generator/batch_normalization/beta:0 (float32_ref 6144) [6144, bytes: 24576]\n",
      "generator/Conv2d_transpose/weights:0 (float32_ref 5x5x256x384) [2457600, bytes: 9830400]\n",
      "generator/Conv2d_transpose/biases:0 (float32_ref 256) [256, bytes: 1024]\n",
      "generator/batch_normalization_1/gamma:0 (float32_ref 256) [256, bytes: 1024]\n",
      "generator/batch_normalization_1/beta:0 (float32_ref 256) [256, bytes: 1024]\n",
      "generator/Conv2d_transpose_1/weights:0 (float32_ref 5x5x128x256) [819200, bytes: 3276800]\n",
      "generator/Conv2d_transpose_1/biases:0 (float32_ref 128) [128, bytes: 512]\n",
      "generator/batch_normalization_2/gamma:0 (float32_ref 128) [128, bytes: 512]\n",
      "generator/batch_normalization_2/beta:0 (float32_ref 128) [128, bytes: 512]\n",
      "generator/Conv2d_transpose_2/weights:0 (float32_ref 5x5x64x128) [204800, bytes: 819200]\n",
      "generator/Conv2d_transpose_2/biases:0 (float32_ref 64) [64, bytes: 256]\n",
      "generator/batch_normalization_3/gamma:0 (float32_ref 64) [64, bytes: 256]\n",
      "generator/batch_normalization_3/beta:0 (float32_ref 64) [64, bytes: 256]\n",
      "generator/Conv2d_transpose_3/weights:0 (float32_ref 5x5x3x64) [4800, bytes: 19200]\n",
      "generator/Conv2d_transpose_3/biases:0 (float32_ref 3) [3, bytes: 12]\n",
      "discriminator/Conv/weights:0 (float32_ref 5x5x3x64) [4800, bytes: 19200]\n",
      "discriminator/Conv/biases:0 (float32_ref 64) [64, bytes: 256]\n",
      "discriminator/Conv_1/weights:0 (float32_ref 5x5x64x128) [204800, bytes: 819200]\n",
      "discriminator/Conv_1/biases:0 (float32_ref 128) [128, bytes: 512]\n",
      "discriminator/Conv_2/weights:0 (float32_ref 5x5x128x256) [819200, bytes: 3276800]\n",
      "discriminator/Conv_2/biases:0 (float32_ref 256) [256, bytes: 1024]\n",
      "discriminator/Conv_3/weights:0 (float32_ref 5x5x256x384) [2457600, bytes: 9830400]\n",
      "discriminator/Conv_3/biases:0 (float32_ref 384) [384, bytes: 1536]\n",
      "discriminator/Conv_4/weights:0 (float32_ref 1x1x409x384) [157056, bytes: 628224]\n",
      "discriminator/Conv_4/biases:0 (float32_ref 384) [384, bytes: 1536]\n",
      "discriminator/fully_connected/weights:0 (float32_ref 6144x1) [6144, bytes: 24576]\n",
      "discriminator/fully_connected/biases:0 (float32_ref 1) [1, bytes: 4]\n",
      "Total size of variables: 8097028\n",
      "Total bytes of variables: 32388112\n"
     ]
    },
    {
     "name": "stderr",
     "output_type": "stream",
     "text": [
      "W0410 12:52:04.561932 140394231957312 deprecation_wrapper.py:119] From /tf/notebooks/anime_myy/WGAN_GP.py:303: The name tf.train.Saver is deprecated. Please use tf.compat.v1.train.Saver instead.\n",
      "\n",
      "W0410 12:52:04.690866 140394231957312 deprecation_wrapper.py:119] From /tf/notebooks/anime_myy/WGAN_GP.py:306: The name tf.summary.FileWriter is deprecated. Please use tf.compat.v1.summary.FileWriter instead.\n",
      "\n"
     ]
    },
    {
     "name": "stdout",
     "output_type": "stream",
     "text": [
      "[Tip 3] Use a spherical Z\n",
      " [*] Reading checkpoints...\n",
      " [*] Failed to find a checkpoint\n",
      " [!] Load failed...\n",
      "Epoch: [   0/ 200] [ 286/ 287] time: 90.3299, d_loss: 1.49056578, g_loss: 0.83332694\n"
     ]
    },
    {
     "name": "stderr",
     "output_type": "stream",
     "text": [
      "W0410 12:53:36.000636 140394231957312 util.py:42] Lossy conversion from float64 to uint8. Range [0, 1]. Convert image to uint8 prior to saving to suppress this warning.\n"
     ]
    },
    {
     "name": "stdout",
     "output_type": "stream",
     "text": [
      "Epoch: [   1/ 200] [ 286/ 287] time: 178.2506, d_loss: 1.31833267, g_loss: 0.99777323\n"
     ]
    },
    {
     "name": "stderr",
     "output_type": "stream",
     "text": [
      "W0410 12:55:03.715660 140394231957312 util.py:42] Lossy conversion from float64 to uint8. Range [0, 1]. Convert image to uint8 prior to saving to suppress this warning.\n"
     ]
    },
    {
     "name": "stdout",
     "output_type": "stream",
     "text": [
      "Epoch: [   2/ 200] [ 286/ 287] time: 268.2140, d_loss: 1.26715338, g_loss: 0.53648639\n"
     ]
    },
    {
     "name": "stderr",
     "output_type": "stream",
     "text": [
      "W0410 12:56:33.672381 140394231957312 util.py:42] Lossy conversion from float64 to uint8. Range [0, 1]. Convert image to uint8 prior to saving to suppress this warning.\n"
     ]
    },
    {
     "name": "stdout",
     "output_type": "stream",
     "text": [
      "Epoch: [   3/ 200] [ 286/ 287] time: 355.8694, d_loss: 1.16157556, g_loss: 0.69948590\n"
     ]
    },
    {
     "name": "stderr",
     "output_type": "stream",
     "text": [
      "W0410 12:58:01.338024 140394231957312 util.py:42] Lossy conversion from float64 to uint8. Range [0, 1]. Convert image to uint8 prior to saving to suppress this warning.\n"
     ]
    },
    {
     "name": "stdout",
     "output_type": "stream",
     "text": [
      "Epoch: [   4/ 200] [ 286/ 287] time: 443.2376, d_loss: 1.12682033, g_loss: 0.57328355\n"
     ]
    },
    {
     "name": "stderr",
     "output_type": "stream",
     "text": [
      "W0410 12:59:28.708813 140394231957312 util.py:42] Lossy conversion from float64 to uint8. Range [0, 1]. Convert image to uint8 prior to saving to suppress this warning.\n"
     ]
    },
    {
     "name": "stdout",
     "output_type": "stream",
     "text": [
      "Epoch: [   5/ 200] [ 286/ 287] time: 531.2931, d_loss: 1.09485030, g_loss: 0.53042781\n"
     ]
    },
    {
     "name": "stderr",
     "output_type": "stream",
     "text": [
      "W0410 13:00:56.901241 140394231957312 util.py:42] Lossy conversion from float64 to uint8. Range [0, 1]. Convert image to uint8 prior to saving to suppress this warning.\n"
     ]
    },
    {
     "name": "stdout",
     "output_type": "stream",
     "text": [
      "Epoch: [   6/ 200] [ 286/ 287] time: 618.9569, d_loss: 1.15067732, g_loss: 0.51627076\n"
     ]
    },
    {
     "name": "stderr",
     "output_type": "stream",
     "text": [
      "W0410 13:02:24.556427 140394231957312 util.py:42] Lossy conversion from float64 to uint8. Range [0, 1]. Convert image to uint8 prior to saving to suppress this warning.\n"
     ]
    },
    {
     "name": "stdout",
     "output_type": "stream",
     "text": [
      "Epoch: [   7/ 200] [ 286/ 287] time: 708.0771, d_loss: 0.89359272, g_loss: 0.57699805\n"
     ]
    },
    {
     "name": "stderr",
     "output_type": "stream",
     "text": [
      "W0410 13:03:53.783140 140394231957312 util.py:42] Lossy conversion from float64 to uint8. Range [0, 1]. Convert image to uint8 prior to saving to suppress this warning.\n"
     ]
    },
    {
     "name": "stdout",
     "output_type": "stream",
     "text": [
      "Epoch: [   8/ 200] [ 286/ 287] time: 796.3817, d_loss: 0.97092593, g_loss: 0.80829644\n"
     ]
    },
    {
     "name": "stderr",
     "output_type": "stream",
     "text": [
      "W0410 13:05:22.007491 140394231957312 util.py:42] Lossy conversion from float64 to uint8. Range [0, 1]. Convert image to uint8 prior to saving to suppress this warning.\n"
     ]
    },
    {
     "name": "stdout",
     "output_type": "stream",
     "text": [
      "Epoch: [   9/ 200] [ 286/ 287] time: 885.7622, d_loss: 0.82856280, g_loss: 0.49086463\n"
     ]
    },
    {
     "name": "stderr",
     "output_type": "stream",
     "text": [
      "W0410 13:06:51.379579 140394231957312 util.py:42] Lossy conversion from float64 to uint8. Range [0, 1]. Convert image to uint8 prior to saving to suppress this warning.\n"
     ]
    },
    {
     "name": "stdout",
     "output_type": "stream",
     "text": [
      "Epoch: [  10/ 200] [ 286/ 287] time: 973.8812, d_loss: 0.84150863, g_loss: 0.23239145\n"
     ]
    },
    {
     "name": "stderr",
     "output_type": "stream",
     "text": [
      "W0410 13:08:19.483876 140394231957312 util.py:42] Lossy conversion from float64 to uint8. Range [0, 1]. Convert image to uint8 prior to saving to suppress this warning.\n"
     ]
    },
    {
     "name": "stdout",
     "output_type": "stream",
     "text": [
      "Epoch: [  11/ 200] [ 286/ 287] time: 1061.2553, d_loss: 0.87124026, g_loss: 0.60273647\n"
     ]
    },
    {
     "name": "stderr",
     "output_type": "stream",
     "text": [
      "W0410 13:09:46.717249 140394231957312 util.py:42] Lossy conversion from float64 to uint8. Range [0, 1]. Convert image to uint8 prior to saving to suppress this warning.\n"
     ]
    },
    {
     "name": "stdout",
     "output_type": "stream",
     "text": [
      "Epoch: [  12/ 200] [ 286/ 287] time: 1150.0746, d_loss: 0.77779770, g_loss: 0.77750170\n"
     ]
    },
    {
     "name": "stderr",
     "output_type": "stream",
     "text": [
      "W0410 13:11:15.534547 140394231957312 util.py:42] Lossy conversion from float64 to uint8. Range [0, 1]. Convert image to uint8 prior to saving to suppress this warning.\n"
     ]
    },
    {
     "name": "stdout",
     "output_type": "stream",
     "text": [
      "Epoch: [  13/ 200] [ 286/ 287] time: 1236.4032, d_loss: 0.86975282, g_loss: 0.23859173\n"
     ]
    },
    {
     "name": "stderr",
     "output_type": "stream",
     "text": [
      "W0410 13:12:41.871775 140394231957312 util.py:42] Lossy conversion from float64 to uint8. Range [0, 1]. Convert image to uint8 prior to saving to suppress this warning.\n"
     ]
    },
    {
     "name": "stdout",
     "output_type": "stream",
     "text": [
      "Epoch: [  14/ 200] [ 286/ 287] time: 1324.3372, d_loss: 0.74768811, g_loss: 0.74355054\n"
     ]
    },
    {
     "name": "stderr",
     "output_type": "stream",
     "text": [
      "W0410 13:14:09.975655 140394231957312 util.py:42] Lossy conversion from float64 to uint8. Range [0, 1]. Convert image to uint8 prior to saving to suppress this warning.\n"
     ]
    },
    {
     "name": "stdout",
     "output_type": "stream",
     "text": [
      "Epoch: [  15/ 200] [ 286/ 287] time: 1412.3728, d_loss: 0.76077336, g_loss: 1.32091594\n"
     ]
    },
    {
     "name": "stderr",
     "output_type": "stream",
     "text": [
      "W0410 13:15:37.817005 140394231957312 util.py:42] Lossy conversion from float64 to uint8. Range [0, 1]. Convert image to uint8 prior to saving to suppress this warning.\n"
     ]
    },
    {
     "name": "stdout",
     "output_type": "stream",
     "text": [
      "Epoch: [  16/ 200] [ 286/ 287] time: 1499.3386, d_loss: 0.74686533, g_loss: 0.70779002\n"
     ]
    },
    {
     "name": "stderr",
     "output_type": "stream",
     "text": [
      "W0410 13:17:04.865138 140394231957312 util.py:42] Lossy conversion from float64 to uint8. Range [0, 1]. Convert image to uint8 prior to saving to suppress this warning.\n"
     ]
    },
    {
     "name": "stdout",
     "output_type": "stream",
     "text": [
      "Epoch: [  17/ 200] [ 286/ 287] time: 1586.5491, d_loss: 0.78838199, g_loss: 0.57485718\n"
     ]
    },
    {
     "name": "stderr",
     "output_type": "stream",
     "text": [
      "W0410 13:18:32.191606 140394231957312 util.py:42] Lossy conversion from float64 to uint8. Range [0, 1]. Convert image to uint8 prior to saving to suppress this warning.\n"
     ]
    },
    {
     "name": "stdout",
     "output_type": "stream",
     "text": [
      "Epoch: [  18/ 200] [ 286/ 287] time: 1675.5418, d_loss: 0.73097491, g_loss: 1.24074078\n"
     ]
    },
    {
     "name": "stderr",
     "output_type": "stream",
     "text": [
      "W0410 13:20:00.997505 140394231957312 util.py:42] Lossy conversion from float64 to uint8. Range [0, 1]. Convert image to uint8 prior to saving to suppress this warning.\n"
     ]
    },
    {
     "name": "stdout",
     "output_type": "stream",
     "text": [
      "Epoch: [  19/ 200] [ 286/ 287] time: 1762.2569, d_loss: 0.81702304, g_loss: 0.58037716\n"
     ]
    },
    {
     "name": "stderr",
     "output_type": "stream",
     "text": [
      "W0410 13:21:27.863682 140394231957312 util.py:42] Lossy conversion from float64 to uint8. Range [0, 1]. Convert image to uint8 prior to saving to suppress this warning.\n"
     ]
    },
    {
     "name": "stdout",
     "output_type": "stream",
     "text": [
      "Epoch: [  20/ 200] [ 286/ 287] time: 1851.6038, d_loss: 0.70451385, g_loss: 0.74215674\n"
     ]
    },
    {
     "name": "stderr",
     "output_type": "stream",
     "text": [
      "W0410 13:22:57.073617 140394231957312 util.py:42] Lossy conversion from float64 to uint8. Range [0, 1]. Convert image to uint8 prior to saving to suppress this warning.\n"
     ]
    },
    {
     "name": "stdout",
     "output_type": "stream",
     "text": [
      "Epoch: [  21/ 200] [ 286/ 287] time: 1939.3697, d_loss: 0.66985798, g_loss: 0.74243844\n"
     ]
    },
    {
     "name": "stderr",
     "output_type": "stream",
     "text": [
      "W0410 13:24:24.834511 140394231957312 util.py:42] Lossy conversion from float64 to uint8. Range [0, 1]. Convert image to uint8 prior to saving to suppress this warning.\n"
     ]
    },
    {
     "name": "stdout",
     "output_type": "stream",
     "text": [
      "Epoch: [  22/ 200] [ 286/ 287] time: 2026.4869, d_loss: 0.65948337, g_loss: 1.47113442\n"
     ]
    },
    {
     "name": "stderr",
     "output_type": "stream",
     "text": [
      "W0410 13:25:52.118342 140394231957312 util.py:42] Lossy conversion from float64 to uint8. Range [0, 1]. Convert image to uint8 prior to saving to suppress this warning.\n"
     ]
    },
    {
     "name": "stdout",
     "output_type": "stream",
     "text": [
      "Epoch: [  23/ 200] [ 286/ 287] time: 2115.5142, d_loss: 0.83779937, g_loss: 0.49580163\n"
     ]
    },
    {
     "name": "stderr",
     "output_type": "stream",
     "text": [
      "W0410 13:27:21.138600 140394231957312 util.py:42] Lossy conversion from float64 to uint8. Range [0, 1]. Convert image to uint8 prior to saving to suppress this warning.\n"
     ]
    },
    {
     "name": "stdout",
     "output_type": "stream",
     "text": [
      "Epoch: [  24/ 200] [ 286/ 287] time: 2203.4676, d_loss: 0.94656551, g_loss: 0.63087887\n"
     ]
    },
    {
     "name": "stderr",
     "output_type": "stream",
     "text": [
      "W0410 13:28:49.003909 140394231957312 util.py:42] Lossy conversion from float64 to uint8. Range [0, 1]. Convert image to uint8 prior to saving to suppress this warning.\n"
     ]
    },
    {
     "name": "stdout",
     "output_type": "stream",
     "text": [
      "Epoch: [  25/ 200] [ 286/ 287] time: 2289.5373, d_loss: 0.74254304, g_loss: 0.60816240\n"
     ]
    },
    {
     "name": "stderr",
     "output_type": "stream",
     "text": [
      "W0410 13:30:15.166346 140394231957312 util.py:42] Lossy conversion from float64 to uint8. Range [0, 1]. Convert image to uint8 prior to saving to suppress this warning.\n"
     ]
    },
    {
     "name": "stdout",
     "output_type": "stream",
     "text": [
      "Epoch: [  26/ 200] [ 286/ 287] time: 2378.4588, d_loss: 0.68186492, g_loss: 1.13537621\n"
     ]
    },
    {
     "name": "stderr",
     "output_type": "stream",
     "text": [
      "W0410 13:31:43.929939 140394231957312 util.py:42] Lossy conversion from float64 to uint8. Range [0, 1]. Convert image to uint8 prior to saving to suppress this warning.\n"
     ]
    },
    {
     "name": "stdout",
     "output_type": "stream",
     "text": [
      "Epoch: [  27/ 200] [ 286/ 287] time: 2466.1722, d_loss: 0.59362364, g_loss: 0.42667827\n"
     ]
    },
    {
     "name": "stderr",
     "output_type": "stream",
     "text": [
      "W0410 13:33:11.644366 140394231957312 util.py:42] Lossy conversion from float64 to uint8. Range [0, 1]. Convert image to uint8 prior to saving to suppress this warning.\n"
     ]
    },
    {
     "name": "stdout",
     "output_type": "stream",
     "text": [
      "Epoch: [  28/ 200] [ 286/ 287] time: 2552.2615, d_loss: 0.71455914, g_loss: 0.77397585\n"
     ]
    },
    {
     "name": "stderr",
     "output_type": "stream",
     "text": [
      "W0410 13:34:37.717915 140394231957312 util.py:42] Lossy conversion from float64 to uint8. Range [0, 1]. Convert image to uint8 prior to saving to suppress this warning.\n"
     ]
    },
    {
     "name": "stdout",
     "output_type": "stream",
     "text": [
      "Epoch: [  29/ 200] [ 286/ 287] time: 2640.6988, d_loss: 0.66080326, g_loss: 0.71790969\n"
     ]
    },
    {
     "name": "stderr",
     "output_type": "stream",
     "text": [
      "W0410 13:36:06.337885 140394231957312 util.py:42] Lossy conversion from float64 to uint8. Range [0, 1]. Convert image to uint8 prior to saving to suppress this warning.\n"
     ]
    },
    {
     "name": "stdout",
     "output_type": "stream",
     "text": [
      "Epoch: [  30/ 200] [ 286/ 287] time: 2729.6970, d_loss: 0.59679484, g_loss: 0.88559723\n"
     ]
    },
    {
     "name": "stderr",
     "output_type": "stream",
     "text": [
      "W0410 13:37:35.163868 140394231957312 util.py:42] Lossy conversion from float64 to uint8. Range [0, 1]. Convert image to uint8 prior to saving to suppress this warning.\n"
     ]
    },
    {
     "name": "stdout",
     "output_type": "stream",
     "text": [
      "Epoch: [  31/ 200] [ 286/ 287] time: 2815.6420, d_loss: 0.72013110, g_loss: 1.31582117\n"
     ]
    },
    {
     "name": "stderr",
     "output_type": "stream",
     "text": [
      "W0410 13:39:01.112641 140394231957312 util.py:42] Lossy conversion from float64 to uint8. Range [0, 1]. Convert image to uint8 prior to saving to suppress this warning.\n"
     ]
    },
    {
     "name": "stdout",
     "output_type": "stream",
     "text": [
      "Epoch: [  32/ 200] [ 286/ 287] time: 2903.8535, d_loss: 0.59486949, g_loss: 0.94445997\n"
     ]
    },
    {
     "name": "stderr",
     "output_type": "stream",
     "text": [
      "W0410 13:40:29.383619 140394231957312 util.py:42] Lossy conversion from float64 to uint8. Range [0, 1]. Convert image to uint8 prior to saving to suppress this warning.\n"
     ]
    },
    {
     "name": "stdout",
     "output_type": "stream",
     "text": [
      "Epoch: [  33/ 200] [ 286/ 287] time: 2990.3601, d_loss: 0.57985818, g_loss: 0.98042339\n"
     ]
    },
    {
     "name": "stderr",
     "output_type": "stream",
     "text": [
      "W0410 13:41:55.819768 140394231957312 util.py:42] Lossy conversion from float64 to uint8. Range [0, 1]. Convert image to uint8 prior to saving to suppress this warning.\n"
     ]
    },
    {
     "name": "stdout",
     "output_type": "stream",
     "text": [
      "Epoch: [  34/ 200] [ 286/ 287] time: 3077.6137, d_loss: 0.55574250, g_loss: 1.17136693\n"
     ]
    },
    {
     "name": "stderr",
     "output_type": "stream",
     "text": [
      "W0410 13:43:23.232875 140394231957312 util.py:42] Lossy conversion from float64 to uint8. Range [0, 1]. Convert image to uint8 prior to saving to suppress this warning.\n"
     ]
    },
    {
     "name": "stdout",
     "output_type": "stream",
     "text": [
      "Epoch: [  35/ 200] [ 286/ 287] time: 3166.5487, d_loss: 0.52962255, g_loss: 1.51032495\n"
     ]
    },
    {
     "name": "stderr",
     "output_type": "stream",
     "text": [
      "W0410 13:44:52.025541 140394231957312 util.py:42] Lossy conversion from float64 to uint8. Range [0, 1]. Convert image to uint8 prior to saving to suppress this warning.\n"
     ]
    },
    {
     "name": "stdout",
     "output_type": "stream",
     "text": [
      "Epoch: [  36/ 200] [ 286/ 287] time: 3254.2080, d_loss: 0.55705726, g_loss: 0.44897372\n"
     ]
    },
    {
     "name": "stderr",
     "output_type": "stream",
     "text": [
      "W0410 13:46:19.666364 140394231957312 util.py:42] Lossy conversion from float64 to uint8. Range [0, 1]. Convert image to uint8 prior to saving to suppress this warning.\n"
     ]
    },
    {
     "name": "stdout",
     "output_type": "stream",
     "text": [
      "Epoch: [  37/ 200] [ 286/ 287] time: 3341.3188, d_loss: 0.56787163, g_loss: 1.19145775\n"
     ]
    },
    {
     "name": "stderr",
     "output_type": "stream",
     "text": [
      "W0410 13:47:46.793123 140394231957312 util.py:42] Lossy conversion from float64 to uint8. Range [0, 1]. Convert image to uint8 prior to saving to suppress this warning.\n"
     ]
    },
    {
     "name": "stdout",
     "output_type": "stream",
     "text": [
      "Epoch: [  38/ 200] [ 286/ 287] time: 3430.4926, d_loss: 0.56123930, g_loss: 1.03089559\n"
     ]
    },
    {
     "name": "stderr",
     "output_type": "stream",
     "text": [
      "W0410 13:49:15.975835 140394231957312 util.py:42] Lossy conversion from float64 to uint8. Range [0, 1]. Convert image to uint8 prior to saving to suppress this warning.\n"
     ]
    },
    {
     "name": "stdout",
     "output_type": "stream",
     "text": [
      "Epoch: [  39/ 200] [ 286/ 287] time: 3517.5771, d_loss: 0.73804951, g_loss: 0.52786064\n"
     ]
    },
    {
     "name": "stderr",
     "output_type": "stream",
     "text": [
      "W0410 13:50:43.019999 140394231957312 util.py:42] Lossy conversion from float64 to uint8. Range [0, 1]. Convert image to uint8 prior to saving to suppress this warning.\n"
     ]
    },
    {
     "name": "stdout",
     "output_type": "stream",
     "text": [
      "Epoch: [  40/ 200] [ 286/ 287] time: 3603.8691, d_loss: 0.59939373, g_loss: 2.68436098\n"
     ]
    },
    {
     "name": "stderr",
     "output_type": "stream",
     "text": [
      "W0410 13:52:09.508352 140394231957312 util.py:42] Lossy conversion from float64 to uint8. Range [0, 1]. Convert image to uint8 prior to saving to suppress this warning.\n"
     ]
    },
    {
     "name": "stdout",
     "output_type": "stream",
     "text": [
      "Epoch: [  41/ 200] [ 286/ 287] time: 3691.8785, d_loss: 0.58172023, g_loss: 1.11693954\n"
     ]
    },
    {
     "name": "stderr",
     "output_type": "stream",
     "text": [
      "W0410 13:53:37.487812 140394231957312 util.py:42] Lossy conversion from float64 to uint8. Range [0, 1]. Convert image to uint8 prior to saving to suppress this warning.\n"
     ]
    },
    {
     "name": "stdout",
     "output_type": "stream",
     "text": [
      "Epoch: [  42/ 200] [ 286/ 287] time: 3779.8187, d_loss: 0.62621146, g_loss: 1.43406212\n"
     ]
    },
    {
     "name": "stderr",
     "output_type": "stream",
     "text": [
      "W0410 13:55:05.290966 140394231957312 util.py:42] Lossy conversion from float64 to uint8. Range [0, 1]. Convert image to uint8 prior to saving to suppress this warning.\n"
     ]
    },
    {
     "name": "stdout",
     "output_type": "stream",
     "text": [
      "Epoch: [  43/ 200] [ 286/ 287] time: 3866.9068, d_loss: 0.64314646, g_loss: 0.89626694\n"
     ]
    },
    {
     "name": "stderr",
     "output_type": "stream",
     "text": [
      "W0410 13:56:32.375442 140394231957312 util.py:42] Lossy conversion from float64 to uint8. Range [0, 1]. Convert image to uint8 prior to saving to suppress this warning.\n"
     ]
    },
    {
     "name": "stdout",
     "output_type": "stream",
     "text": [
      "Epoch: [  44/ 200] [ 286/ 287] time: 3955.5201, d_loss: 0.66488087, g_loss: 0.87042630\n"
     ]
    },
    {
     "name": "stderr",
     "output_type": "stream",
     "text": [
      "W0410 13:58:01.181294 140394231957312 util.py:42] Lossy conversion from float64 to uint8. Range [0, 1]. Convert image to uint8 prior to saving to suppress this warning.\n"
     ]
    },
    {
     "name": "stdout",
     "output_type": "stream",
     "text": [
      "Epoch: [  45/ 200] [ 286/ 287] time: 4042.5568, d_loss: 0.48263863, g_loss: 0.80712098\n"
     ]
    },
    {
     "name": "stderr",
     "output_type": "stream",
     "text": [
      "W0410 13:59:28.034806 140394231957312 util.py:42] Lossy conversion from float64 to uint8. Range [0, 1]. Convert image to uint8 prior to saving to suppress this warning.\n"
     ]
    },
    {
     "name": "stdout",
     "output_type": "stream",
     "text": [
      "Epoch: [  46/ 200] [ 286/ 287] time: 4130.3047, d_loss: 0.48545474, g_loss: 1.12509477\n"
     ]
    },
    {
     "name": "stderr",
     "output_type": "stream",
     "text": [
      "W0410 14:00:55.929484 140394231957312 util.py:42] Lossy conversion from float64 to uint8. Range [0, 1]. Convert image to uint8 prior to saving to suppress this warning.\n"
     ]
    },
    {
     "name": "stdout",
     "output_type": "stream",
     "text": [
      "Epoch: [  47/ 200] [ 286/ 287] time: 4217.5571, d_loss: 0.87230182, g_loss: 0.41992030\n"
     ]
    },
    {
     "name": "stderr",
     "output_type": "stream",
     "text": [
      "W0410 14:02:23.270930 140394231957312 util.py:42] Lossy conversion from float64 to uint8. Range [0, 1]. Convert image to uint8 prior to saving to suppress this warning.\n"
     ]
    },
    {
     "name": "stdout",
     "output_type": "stream",
     "text": [
      "Epoch: [  48/ 200] [ 286/ 287] time: 4304.8960, d_loss: 0.51383281, g_loss: 2.07062054\n"
     ]
    },
    {
     "name": "stderr",
     "output_type": "stream",
     "text": [
      "W0410 14:03:50.399461 140394231957312 util.py:42] Lossy conversion from float64 to uint8. Range [0, 1]. Convert image to uint8 prior to saving to suppress this warning.\n"
     ]
    },
    {
     "name": "stdout",
     "output_type": "stream",
     "text": [
      "Epoch: [  49/ 200] [ 286/ 287] time: 4393.2652, d_loss: 0.56122977, g_loss: 1.14550757\n"
     ]
    },
    {
     "name": "stderr",
     "output_type": "stream",
     "text": [
      "W0410 14:05:18.721228 140394231957312 util.py:42] Lossy conversion from float64 to uint8. Range [0, 1]. Convert image to uint8 prior to saving to suppress this warning.\n"
     ]
    },
    {
     "name": "stdout",
     "output_type": "stream",
     "text": [
      "Epoch: [  50/ 200] [ 285/ 287] time: 4479.5859, d_loss: 0.66160750, g_loss: 0.59272504\r"
     ]
    },
    {
     "name": "stderr",
     "output_type": "stream",
     "text": [
      "W0410 14:06:45.397304 140394231957312 deprecation.py:323] From /usr/local/lib/python3.6/dist-packages/tensorflow/python/training/saver.py:960: remove_checkpoint (from tensorflow.python.training.checkpoint_management) is deprecated and will be removed in a future version.\n",
      "Instructions for updating:\n",
      "Use standard file APIs to delete files with this prefix.\n"
     ]
    },
    {
     "name": "stdout",
     "output_type": "stream",
     "text": [
      "Epoch: [  50/ 200] [ 286/ 287] time: 4480.0430, d_loss: 0.65496194, g_loss: 1.25427580\r\n"
     ]
    },
    {
     "name": "stderr",
     "output_type": "stream",
     "text": [
      "W0410 14:06:45.749927 140394231957312 util.py:42] Lossy conversion from float64 to uint8. Range [0, 1]. Convert image to uint8 prior to saving to suppress this warning.\n"
     ]
    },
    {
     "name": "stdout",
     "output_type": "stream",
     "text": [
      "Epoch: [  51/ 200] [ 286/ 287] time: 4568.4413, d_loss: 0.50358504, g_loss: 1.06412530\n"
     ]
    },
    {
     "name": "stderr",
     "output_type": "stream",
     "text": [
      "W0410 14:08:14.101151 140394231957312 util.py:42] Lossy conversion from float64 to uint8. Range [0, 1]. Convert image to uint8 prior to saving to suppress this warning.\n"
     ]
    },
    {
     "name": "stdout",
     "output_type": "stream",
     "text": [
      "Epoch: [  52/ 200] [ 286/ 287] time: 4656.8618, d_loss: 0.58866197, g_loss: 2.60845971\n"
     ]
    },
    {
     "name": "stderr",
     "output_type": "stream",
     "text": [
      "W0410 14:09:42.575145 140394231957312 util.py:42] Lossy conversion from float64 to uint8. Range [0, 1]. Convert image to uint8 prior to saving to suppress this warning.\n"
     ]
    },
    {
     "name": "stdout",
     "output_type": "stream",
     "text": [
      "Epoch: [  53/ 200] [ 286/ 287] time: 4744.0011, d_loss: 0.52638525, g_loss: 0.98059690\n"
     ]
    },
    {
     "name": "stderr",
     "output_type": "stream",
     "text": [
      "W0410 14:11:09.724693 140394231957312 util.py:42] Lossy conversion from float64 to uint8. Range [0, 1]. Convert image to uint8 prior to saving to suppress this warning.\n"
     ]
    },
    {
     "name": "stdout",
     "output_type": "stream",
     "text": [
      "Epoch: [  54/ 200] [ 286/ 287] time: 4832.9694, d_loss: 0.75273180, g_loss: 0.35424748\n"
     ]
    },
    {
     "name": "stderr",
     "output_type": "stream",
     "text": [
      "W0410 14:12:38.619072 140394231957312 util.py:42] Lossy conversion from float64 to uint8. Range [0, 1]. Convert image to uint8 prior to saving to suppress this warning.\n"
     ]
    },
    {
     "name": "stdout",
     "output_type": "stream",
     "text": [
      "Epoch: [  55/ 200] [ 286/ 287] time: 4921.1043, d_loss: 0.49701253, g_loss: 3.05431366\n"
     ]
    },
    {
     "name": "stderr",
     "output_type": "stream",
     "text": [
      "W0410 14:14:06.780281 140394231957312 util.py:42] Lossy conversion from float64 to uint8. Range [0, 1]. Convert image to uint8 prior to saving to suppress this warning.\n"
     ]
    },
    {
     "name": "stdout",
     "output_type": "stream",
     "text": [
      "Epoch: [  56/ 200] [ 286/ 287] time: 5008.9345, d_loss: 0.61379498, g_loss: 2.29843807\n"
     ]
    },
    {
     "name": "stderr",
     "output_type": "stream",
     "text": [
      "W0410 14:15:34.424132 140394231957312 util.py:42] Lossy conversion from float64 to uint8. Range [0, 1]. Convert image to uint8 prior to saving to suppress this warning.\n"
     ]
    },
    {
     "name": "stdout",
     "output_type": "stream",
     "text": [
      "Epoch: [  57/ 200] [ 286/ 287] time: 5097.6064, d_loss: 0.63474786, g_loss: 0.75127697\n"
     ]
    },
    {
     "name": "stderr",
     "output_type": "stream",
     "text": [
      "W0410 14:17:03.119929 140394231957312 util.py:42] Lossy conversion from float64 to uint8. Range [0, 1]. Convert image to uint8 prior to saving to suppress this warning.\n"
     ]
    },
    {
     "name": "stdout",
     "output_type": "stream",
     "text": [
      "Epoch: [  58/ 200] [ 286/ 287] time: 5186.9371, d_loss: 0.43009916, g_loss: 2.50408936\n"
     ]
    },
    {
     "name": "stderr",
     "output_type": "stream",
     "text": [
      "W0410 14:18:32.593924 140394231957312 util.py:42] Lossy conversion from float64 to uint8. Range [0, 1]. Convert image to uint8 prior to saving to suppress this warning.\n"
     ]
    },
    {
     "name": "stdout",
     "output_type": "stream",
     "text": [
      "Epoch: [  59/ 200] [ 286/ 287] time: 5275.6008, d_loss: 0.71694726, g_loss: 1.82900202\n"
     ]
    },
    {
     "name": "stderr",
     "output_type": "stream",
     "text": [
      "W0410 14:20:01.079862 140394231957312 util.py:42] Lossy conversion from float64 to uint8. Range [0, 1]. Convert image to uint8 prior to saving to suppress this warning.\n"
     ]
    },
    {
     "name": "stdout",
     "output_type": "stream",
     "text": [
      "Epoch: [  60/ 200] [ 286/ 287] time: 5362.9902, d_loss: 0.46275282, g_loss: 1.05341649\n"
     ]
    },
    {
     "name": "stderr",
     "output_type": "stream",
     "text": [
      "W0410 14:21:28.464725 140394231957312 util.py:42] Lossy conversion from float64 to uint8. Range [0, 1]. Convert image to uint8 prior to saving to suppress this warning.\n"
     ]
    },
    {
     "name": "stdout",
     "output_type": "stream",
     "text": [
      "Epoch: [  61/ 200] [ 286/ 287] time: 5450.9094, d_loss: 0.59667641, g_loss: 1.11430764\n"
     ]
    },
    {
     "name": "stderr",
     "output_type": "stream",
     "text": [
      "W0410 14:22:56.467685 140394231957312 util.py:42] Lossy conversion from float64 to uint8. Range [0, 1]. Convert image to uint8 prior to saving to suppress this warning.\n"
     ]
    },
    {
     "name": "stdout",
     "output_type": "stream",
     "text": [
      "Epoch: [  62/ 200] [ 286/ 287] time: 5538.9431, d_loss: 0.80806088, g_loss: 2.13402867\n"
     ]
    },
    {
     "name": "stderr",
     "output_type": "stream",
     "text": [
      "W0410 14:24:24.416770 140394231957312 util.py:42] Lossy conversion from float64 to uint8. Range [0, 1]. Convert image to uint8 prior to saving to suppress this warning.\n"
     ]
    },
    {
     "name": "stdout",
     "output_type": "stream",
     "text": [
      "Epoch: [  63/ 200] [ 286/ 287] time: 5625.5917, d_loss: 0.57588696, g_loss: 2.17129564\n"
     ]
    },
    {
     "name": "stderr",
     "output_type": "stream",
     "text": [
      "W0410 14:25:51.073763 140394231957312 util.py:42] Lossy conversion from float64 to uint8. Range [0, 1]. Convert image to uint8 prior to saving to suppress this warning.\n"
     ]
    },
    {
     "name": "stdout",
     "output_type": "stream",
     "text": [
      "Epoch: [  64/ 200] [ 286/ 287] time: 5715.2689, d_loss: 0.35786909, g_loss: 1.86097014\n"
     ]
    },
    {
     "name": "stderr",
     "output_type": "stream",
     "text": [
      "W0410 14:27:20.752009 140394231957312 util.py:42] Lossy conversion from float64 to uint8. Range [0, 1]. Convert image to uint8 prior to saving to suppress this warning.\n"
     ]
    },
    {
     "name": "stdout",
     "output_type": "stream",
     "text": [
      "Epoch: [  65/ 200] [ 286/ 287] time: 5803.4049, d_loss: 0.62084985, g_loss: 0.91928858\n"
     ]
    },
    {
     "name": "stderr",
     "output_type": "stream",
     "text": [
      "W0410 14:28:48.873789 140394231957312 util.py:42] Lossy conversion from float64 to uint8. Range [0, 1]. Convert image to uint8 prior to saving to suppress this warning.\n"
     ]
    },
    {
     "name": "stdout",
     "output_type": "stream",
     "text": [
      "Epoch: [  66/ 200] [ 286/ 287] time: 5891.6891, d_loss: 0.46038365, g_loss: 1.78415930\n"
     ]
    },
    {
     "name": "stderr",
     "output_type": "stream",
     "text": [
      "W0410 14:30:17.367978 140394231957312 util.py:42] Lossy conversion from float64 to uint8. Range [0, 1]. Convert image to uint8 prior to saving to suppress this warning.\n"
     ]
    },
    {
     "name": "stdout",
     "output_type": "stream",
     "text": [
      "Epoch: [  67/ 200] [ 286/ 287] time: 5980.1601, d_loss: 0.39223036, g_loss: 1.57175553\n"
     ]
    },
    {
     "name": "stderr",
     "output_type": "stream",
     "text": [
      "W0410 14:31:45.630812 140394231957312 util.py:42] Lossy conversion from float64 to uint8. Range [0, 1]. Convert image to uint8 prior to saving to suppress this warning.\n"
     ]
    },
    {
     "name": "stdout",
     "output_type": "stream",
     "text": [
      "Epoch: [  68/ 200] [ 286/ 287] time: 6067.9148, d_loss: 0.42130187, g_loss: 0.96783179\n"
     ]
    },
    {
     "name": "stderr",
     "output_type": "stream",
     "text": [
      "W0410 14:33:13.692504 140394231957312 util.py:42] Lossy conversion from float64 to uint8. Range [0, 1]. Convert image to uint8 prior to saving to suppress this warning.\n"
     ]
    },
    {
     "name": "stdout",
     "output_type": "stream",
     "text": [
      "Epoch: [  69/ 200] [ 286/ 287] time: 6155.3863, d_loss: 0.38944900, g_loss: 2.12828922\n"
     ]
    },
    {
     "name": "stderr",
     "output_type": "stream",
     "text": [
      "W0410 14:34:41.150488 140394231957312 util.py:42] Lossy conversion from float64 to uint8. Range [0, 1]. Convert image to uint8 prior to saving to suppress this warning.\n"
     ]
    },
    {
     "name": "stdout",
     "output_type": "stream",
     "text": [
      "Epoch: [  70/ 200] [ 286/ 287] time: 6242.6733, d_loss: 0.51646632, g_loss: 0.84184968\n"
     ]
    },
    {
     "name": "stderr",
     "output_type": "stream",
     "text": [
      "W0410 14:36:08.149219 140394231957312 util.py:42] Lossy conversion from float64 to uint8. Range [0, 1]. Convert image to uint8 prior to saving to suppress this warning.\n"
     ]
    },
    {
     "name": "stdout",
     "output_type": "stream",
     "text": [
      "Epoch: [  71/ 200] [ 286/ 287] time: 6331.0580, d_loss: 0.72963142, g_loss: 1.38520026\n"
     ]
    },
    {
     "name": "stderr",
     "output_type": "stream",
     "text": [
      "W0410 14:37:36.535810 140394231957312 util.py:42] Lossy conversion from float64 to uint8. Range [0, 1]. Convert image to uint8 prior to saving to suppress this warning.\n"
     ]
    },
    {
     "name": "stdout",
     "output_type": "stream",
     "text": [
      "Epoch: [  72/ 200] [ 286/ 287] time: 6419.7347, d_loss: 0.46107885, g_loss: 1.52849841\n"
     ]
    },
    {
     "name": "stderr",
     "output_type": "stream",
     "text": [
      "W0410 14:39:05.199314 140394231957312 util.py:42] Lossy conversion from float64 to uint8. Range [0, 1]. Convert image to uint8 prior to saving to suppress this warning.\n"
     ]
    },
    {
     "name": "stdout",
     "output_type": "stream",
     "text": [
      "Epoch: [  73/ 200] [ 286/ 287] time: 6506.8425, d_loss: 0.37500110, g_loss: 2.46397018\n"
     ]
    },
    {
     "name": "stderr",
     "output_type": "stream",
     "text": [
      "W0410 14:40:32.307882 140394231957312 util.py:42] Lossy conversion from float64 to uint8. Range [0, 1]. Convert image to uint8 prior to saving to suppress this warning.\n"
     ]
    },
    {
     "name": "stdout",
     "output_type": "stream",
     "text": [
      "Epoch: [  74/ 200] [ 286/ 287] time: 6593.7292, d_loss: 0.36636159, g_loss: 2.92885971\n"
     ]
    },
    {
     "name": "stderr",
     "output_type": "stream",
     "text": [
      "W0410 14:41:59.361650 140394231957312 util.py:42] Lossy conversion from float64 to uint8. Range [0, 1]. Convert image to uint8 prior to saving to suppress this warning.\n"
     ]
    },
    {
     "name": "stdout",
     "output_type": "stream",
     "text": [
      "Epoch: [  75/ 200] [ 286/ 287] time: 6680.9191, d_loss: 0.45146313, g_loss: 1.57165051\n"
     ]
    },
    {
     "name": "stderr",
     "output_type": "stream",
     "text": [
      "W0410 14:43:26.667525 140394231957312 util.py:42] Lossy conversion from float64 to uint8. Range [0, 1]. Convert image to uint8 prior to saving to suppress this warning.\n"
     ]
    },
    {
     "name": "stdout",
     "output_type": "stream",
     "text": [
      "Epoch: [  76/ 200] [ 286/ 287] time: 6768.7387, d_loss: 0.51162952, g_loss: 2.19142962\n"
     ]
    },
    {
     "name": "stderr",
     "output_type": "stream",
     "text": [
      "W0410 14:44:54.340341 140394231957312 util.py:42] Lossy conversion from float64 to uint8. Range [0, 1]. Convert image to uint8 prior to saving to suppress this warning.\n"
     ]
    },
    {
     "name": "stdout",
     "output_type": "stream",
     "text": [
      "Epoch: [  77/ 200] [ 286/ 287] time: 6856.8232, d_loss: 0.37887275, g_loss: 2.28633881\n"
     ]
    },
    {
     "name": "stderr",
     "output_type": "stream",
     "text": [
      "W0410 14:46:22.299206 140394231957312 util.py:42] Lossy conversion from float64 to uint8. Range [0, 1]. Convert image to uint8 prior to saving to suppress this warning.\n"
     ]
    },
    {
     "name": "stdout",
     "output_type": "stream",
     "text": [
      "Epoch: [  78/ 200] [ 286/ 287] time: 6944.8200, d_loss: 0.42841759, g_loss: 4.00493526\n"
     ]
    },
    {
     "name": "stderr",
     "output_type": "stream",
     "text": [
      "W0410 14:47:50.540857 140394231957312 util.py:42] Lossy conversion from float64 to uint8. Range [0, 1]. Convert image to uint8 prior to saving to suppress this warning.\n"
     ]
    },
    {
     "name": "stdout",
     "output_type": "stream",
     "text": [
      "Epoch: [  79/ 200] [ 286/ 287] time: 7033.2986, d_loss: 0.46919149, g_loss: 3.13466215\n"
     ]
    },
    {
     "name": "stderr",
     "output_type": "stream",
     "text": [
      "W0410 14:49:18.772527 140394231957312 util.py:42] Lossy conversion from float64 to uint8. Range [0, 1]. Convert image to uint8 prior to saving to suppress this warning.\n"
     ]
    },
    {
     "name": "stdout",
     "output_type": "stream",
     "text": [
      "Epoch: [  80/ 200] [ 286/ 287] time: 7121.8082, d_loss: 0.42210385, g_loss: 1.37737083\n"
     ]
    },
    {
     "name": "stderr",
     "output_type": "stream",
     "text": [
      "W0410 14:50:47.492154 140394231957312 util.py:42] Lossy conversion from float64 to uint8. Range [0, 1]. Convert image to uint8 prior to saving to suppress this warning.\n"
     ]
    },
    {
     "name": "stdout",
     "output_type": "stream",
     "text": [
      "Epoch: [  81/ 200] [ 286/ 287] time: 7208.4149, d_loss: 0.45761126, g_loss: 1.24503160\n"
     ]
    },
    {
     "name": "stderr",
     "output_type": "stream",
     "text": [
      "W0410 14:52:14.316730 140394231957312 util.py:42] Lossy conversion from float64 to uint8. Range [0, 1]. Convert image to uint8 prior to saving to suppress this warning.\n"
     ]
    },
    {
     "name": "stdout",
     "output_type": "stream",
     "text": [
      "Epoch: [  82/ 200] [ 286/ 287] time: 7296.0408, d_loss: 0.42082441, g_loss: 3.69508362\n"
     ]
    },
    {
     "name": "stderr",
     "output_type": "stream",
     "text": [
      "W0410 14:53:41.526752 140394231957312 util.py:42] Lossy conversion from float64 to uint8. Range [0, 1]. Convert image to uint8 prior to saving to suppress this warning.\n"
     ]
    },
    {
     "name": "stdout",
     "output_type": "stream",
     "text": [
      "Epoch: [  83/ 200] [ 286/ 287] time: 7384.8949, d_loss: 0.36046845, g_loss: 1.87319386\n"
     ]
    },
    {
     "name": "stderr",
     "output_type": "stream",
     "text": [
      "W0410 14:55:10.675861 140394231957312 util.py:42] Lossy conversion from float64 to uint8. Range [0, 1]. Convert image to uint8 prior to saving to suppress this warning.\n"
     ]
    },
    {
     "name": "stdout",
     "output_type": "stream",
     "text": [
      "Epoch: [  84/ 200] [ 286/ 287] time: 7472.3583, d_loss: 0.31720364, g_loss: 1.90275681\n"
     ]
    },
    {
     "name": "stderr",
     "output_type": "stream",
     "text": [
      "W0410 14:56:37.846944 140394231957312 util.py:42] Lossy conversion from float64 to uint8. Range [0, 1]. Convert image to uint8 prior to saving to suppress this warning.\n"
     ]
    },
    {
     "name": "stdout",
     "output_type": "stream",
     "text": [
      "Epoch: [  85/ 200] [ 286/ 287] time: 7559.9902, d_loss: 0.36311039, g_loss: 1.07810712\n"
     ]
    },
    {
     "name": "stderr",
     "output_type": "stream",
     "text": [
      "W0410 14:58:05.473518 140394231957312 util.py:42] Lossy conversion from float64 to uint8. Range [0, 1]. Convert image to uint8 prior to saving to suppress this warning.\n"
     ]
    },
    {
     "name": "stdout",
     "output_type": "stream",
     "text": [
      "Epoch: [  86/ 200] [ 286/ 287] time: 7649.4091, d_loss: 0.95256859, g_loss: 0.29072970\n"
     ]
    },
    {
     "name": "stderr",
     "output_type": "stream",
     "text": [
      "W0410 14:59:35.080377 140394231957312 util.py:42] Lossy conversion from float64 to uint8. Range [0, 1]. Convert image to uint8 prior to saving to suppress this warning.\n"
     ]
    },
    {
     "name": "stdout",
     "output_type": "stream",
     "text": [
      "Epoch: [  87/ 200] [ 286/ 287] time: 7736.5356, d_loss: 0.52720559, g_loss: 1.83524072\n"
     ]
    },
    {
     "name": "stderr",
     "output_type": "stream",
     "text": [
      "W0410 15:01:01.999961 140394231957312 util.py:42] Lossy conversion from float64 to uint8. Range [0, 1]. Convert image to uint8 prior to saving to suppress this warning.\n"
     ]
    },
    {
     "name": "stdout",
     "output_type": "stream",
     "text": [
      "Epoch: [  88/ 200] [ 286/ 287] time: 7824.1936, d_loss: 0.51598412, g_loss: 2.55752921\n"
     ]
    },
    {
     "name": "stderr",
     "output_type": "stream",
     "text": [
      "W0410 15:02:29.660866 140394231957312 util.py:42] Lossy conversion from float64 to uint8. Range [0, 1]. Convert image to uint8 prior to saving to suppress this warning.\n"
     ]
    },
    {
     "name": "stdout",
     "output_type": "stream",
     "text": [
      "Epoch: [  89/ 200] [ 286/ 287] time: 7912.6197, d_loss: 0.43957824, g_loss: 2.00350833\n"
     ]
    },
    {
     "name": "stderr",
     "output_type": "stream",
     "text": [
      "W0410 15:03:58.095360 140394231957312 util.py:42] Lossy conversion from float64 to uint8. Range [0, 1]. Convert image to uint8 prior to saving to suppress this warning.\n"
     ]
    },
    {
     "name": "stdout",
     "output_type": "stream",
     "text": [
      "Epoch: [  90/ 200] [ 286/ 287] time: 8000.7020, d_loss: 0.40650216, g_loss: 0.93975240\n"
     ]
    },
    {
     "name": "stderr",
     "output_type": "stream",
     "text": [
      "W0410 15:05:26.177602 140394231957312 util.py:42] Lossy conversion from float64 to uint8. Range [0, 1]. Convert image to uint8 prior to saving to suppress this warning.\n"
     ]
    },
    {
     "name": "stdout",
     "output_type": "stream",
     "text": [
      "Epoch: [  91/ 200] [ 286/ 287] time: 8087.2509, d_loss: 0.39072490, g_loss: 3.05267477\n"
     ]
    },
    {
     "name": "stderr",
     "output_type": "stream",
     "text": [
      "W0410 15:06:52.741333 140394231957312 util.py:42] Lossy conversion from float64 to uint8. Range [0, 1]. Convert image to uint8 prior to saving to suppress this warning.\n"
     ]
    },
    {
     "name": "stdout",
     "output_type": "stream",
     "text": [
      "Epoch: [  92/ 200] [ 286/ 287] time: 8175.7915, d_loss: 0.48796088, g_loss: 2.34841013\n"
     ]
    },
    {
     "name": "stderr",
     "output_type": "stream",
     "text": [
      "W0410 15:08:21.280990 140394231957312 util.py:42] Lossy conversion from float64 to uint8. Range [0, 1]. Convert image to uint8 prior to saving to suppress this warning.\n"
     ]
    },
    {
     "name": "stdout",
     "output_type": "stream",
     "text": [
      "Epoch: [  93/ 200] [ 286/ 287] time: 8263.4615, d_loss: 0.51569664, g_loss: 0.94075149\n"
     ]
    },
    {
     "name": "stderr",
     "output_type": "stream",
     "text": [
      "W0410 15:09:48.943579 140394231957312 util.py:42] Lossy conversion from float64 to uint8. Range [0, 1]. Convert image to uint8 prior to saving to suppress this warning.\n"
     ]
    },
    {
     "name": "stdout",
     "output_type": "stream",
     "text": [
      "Epoch: [  94/ 200] [ 286/ 287] time: 8350.6717, d_loss: 0.36280692, g_loss: 1.00743461\n"
     ]
    },
    {
     "name": "stderr",
     "output_type": "stream",
     "text": [
      "W0410 15:11:16.148089 140394231957312 util.py:42] Lossy conversion from float64 to uint8. Range [0, 1]. Convert image to uint8 prior to saving to suppress this warning.\n"
     ]
    },
    {
     "name": "stdout",
     "output_type": "stream",
     "text": [
      "Epoch: [  95/ 200] [ 286/ 287] time: 8438.2060, d_loss: 0.32275856, g_loss: 2.09846926\n"
     ]
    },
    {
     "name": "stderr",
     "output_type": "stream",
     "text": [
      "W0410 15:12:43.819356 140394231957312 util.py:42] Lossy conversion from float64 to uint8. Range [0, 1]. Convert image to uint8 prior to saving to suppress this warning.\n"
     ]
    },
    {
     "name": "stdout",
     "output_type": "stream",
     "text": [
      "Epoch: [  96/ 200] [ 286/ 287] time: 8526.0699, d_loss: 0.44789511, g_loss: 2.98477173\n"
     ]
    },
    {
     "name": "stderr",
     "output_type": "stream",
     "text": [
      "W0410 15:14:11.559792 140394231957312 util.py:42] Lossy conversion from float64 to uint8. Range [0, 1]. Convert image to uint8 prior to saving to suppress this warning.\n"
     ]
    },
    {
     "name": "stdout",
     "output_type": "stream",
     "text": [
      "Epoch: [  97/ 200] [ 286/ 287] time: 8613.7355, d_loss: 0.33303511, g_loss: 0.65596151\n"
     ]
    },
    {
     "name": "stderr",
     "output_type": "stream",
     "text": [
      "W0410 15:15:39.480081 140394231957312 util.py:42] Lossy conversion from float64 to uint8. Range [0, 1]. Convert image to uint8 prior to saving to suppress this warning.\n"
     ]
    },
    {
     "name": "stdout",
     "output_type": "stream",
     "text": [
      "Epoch: [  98/ 200] [ 286/ 287] time: 8702.0867, d_loss: 0.33603472, g_loss: 4.28822803\n"
     ]
    },
    {
     "name": "stderr",
     "output_type": "stream",
     "text": [
      "W0410 15:17:07.549636 140394231957312 util.py:42] Lossy conversion from float64 to uint8. Range [0, 1]. Convert image to uint8 prior to saving to suppress this warning.\n"
     ]
    },
    {
     "name": "stdout",
     "output_type": "stream",
     "text": [
      "Epoch: [  99/ 200] [ 286/ 287] time: 8789.8639, d_loss: 0.48897874, g_loss: 0.49640188\n"
     ]
    },
    {
     "name": "stderr",
     "output_type": "stream",
     "text": [
      "W0410 15:18:35.357206 140394231957312 util.py:42] Lossy conversion from float64 to uint8. Range [0, 1]. Convert image to uint8 prior to saving to suppress this warning.\n"
     ]
    },
    {
     "name": "stdout",
     "output_type": "stream",
     "text": [
      "Epoch: [ 100/ 200] [ 286/ 287] time: 8878.5125, d_loss: 0.38199189, g_loss: 0.67449021\n"
     ]
    },
    {
     "name": "stderr",
     "output_type": "stream",
     "text": [
      "W0410 15:20:03.996230 140394231957312 util.py:42] Lossy conversion from float64 to uint8. Range [0, 1]. Convert image to uint8 prior to saving to suppress this warning.\n"
     ]
    },
    {
     "name": "stdout",
     "output_type": "stream",
     "text": [
      "Epoch: [ 101/ 200] [ 286/ 287] time: 8965.9679, d_loss: 0.32103601, g_loss: 1.71823967\n"
     ]
    },
    {
     "name": "stderr",
     "output_type": "stream",
     "text": [
      "W0410 15:21:31.729796 140394231957312 util.py:42] Lossy conversion from float64 to uint8. Range [0, 1]. Convert image to uint8 prior to saving to suppress this warning.\n"
     ]
    },
    {
     "name": "stdout",
     "output_type": "stream",
     "text": [
      "Epoch: [ 102/ 200] [ 286/ 287] time: 9054.6292, d_loss: 0.35928586, g_loss: 4.69370365\n"
     ]
    },
    {
     "name": "stderr",
     "output_type": "stream",
     "text": [
      "W0410 15:23:00.380422 140394231957312 util.py:42] Lossy conversion from float64 to uint8. Range [0, 1]. Convert image to uint8 prior to saving to suppress this warning.\n"
     ]
    },
    {
     "name": "stdout",
     "output_type": "stream",
     "text": [
      "Epoch: [ 103/ 200] [ 286/ 287] time: 9142.4060, d_loss: 0.27146223, g_loss: 2.33373427\n"
     ]
    },
    {
     "name": "stderr",
     "output_type": "stream",
     "text": [
      "W0410 15:24:28.014521 140394231957312 util.py:42] Lossy conversion from float64 to uint8. Range [0, 1]. Convert image to uint8 prior to saving to suppress this warning.\n"
     ]
    },
    {
     "name": "stdout",
     "output_type": "stream",
     "text": [
      "Epoch: [ 104/ 200] [ 286/ 287] time: 9229.6635, d_loss: 0.52715224, g_loss: 0.59854448\n"
     ]
    },
    {
     "name": "stderr",
     "output_type": "stream",
     "text": [
      "W0410 15:25:55.324534 140394231957312 util.py:42] Lossy conversion from float64 to uint8. Range [0, 1]. Convert image to uint8 prior to saving to suppress this warning.\n"
     ]
    },
    {
     "name": "stdout",
     "output_type": "stream",
     "text": [
      "Epoch: [ 105/ 200] [ 286/ 287] time: 9317.3411, d_loss: 0.31735229, g_loss: 1.45949185\n"
     ]
    },
    {
     "name": "stderr",
     "output_type": "stream",
     "text": [
      "W0410 15:27:22.863231 140394231957312 util.py:42] Lossy conversion from float64 to uint8. Range [0, 1]. Convert image to uint8 prior to saving to suppress this warning.\n"
     ]
    },
    {
     "name": "stdout",
     "output_type": "stream",
     "text": [
      "Epoch: [ 106/ 200] [ 286/ 287] time: 9406.0966, d_loss: 0.33401269, g_loss: 1.72743034\n"
     ]
    },
    {
     "name": "stderr",
     "output_type": "stream",
     "text": [
      "W0410 15:28:51.550626 140394231957312 util.py:42] Lossy conversion from float64 to uint8. Range [0, 1]. Convert image to uint8 prior to saving to suppress this warning.\n"
     ]
    },
    {
     "name": "stdout",
     "output_type": "stream",
     "text": [
      "Epoch: [ 107/ 200] [ 286/ 287] time: 9493.3275, d_loss: 0.40448150, g_loss: 2.00374413\n"
     ]
    },
    {
     "name": "stderr",
     "output_type": "stream",
     "text": [
      "W0410 15:30:18.821211 140394231957312 util.py:42] Lossy conversion from float64 to uint8. Range [0, 1]. Convert image to uint8 prior to saving to suppress this warning.\n"
     ]
    },
    {
     "name": "stdout",
     "output_type": "stream",
     "text": [
      "Epoch: [ 108/ 200] [ 286/ 287] time: 9581.1467, d_loss: 0.40861103, g_loss: 5.40208244\n"
     ]
    },
    {
     "name": "stderr",
     "output_type": "stream",
     "text": [
      "W0410 15:31:46.609071 140394231957312 util.py:42] Lossy conversion from float64 to uint8. Range [0, 1]. Convert image to uint8 prior to saving to suppress this warning.\n"
     ]
    },
    {
     "name": "stdout",
     "output_type": "stream",
     "text": [
      "Epoch: [ 109/ 200] [ 286/ 287] time: 9669.7434, d_loss: 0.31399414, g_loss: 2.45712137\n"
     ]
    },
    {
     "name": "stderr",
     "output_type": "stream",
     "text": [
      "W0410 15:33:15.304146 140394231957312 util.py:42] Lossy conversion from float64 to uint8. Range [0, 1]. Convert image to uint8 prior to saving to suppress this warning.\n"
     ]
    },
    {
     "name": "stdout",
     "output_type": "stream",
     "text": [
      "Epoch: [ 110/ 200] [ 286/ 287] time: 9757.3342, d_loss: 0.38140422, g_loss: 2.66090035\n"
     ]
    },
    {
     "name": "stderr",
     "output_type": "stream",
     "text": [
      "W0410 15:34:42.826594 140394231957312 util.py:42] Lossy conversion from float64 to uint8. Range [0, 1]. Convert image to uint8 prior to saving to suppress this warning.\n"
     ]
    },
    {
     "name": "stdout",
     "output_type": "stream",
     "text": [
      "Epoch: [ 111/ 200] [ 286/ 287] time: 9846.0455, d_loss: 0.44540122, g_loss: 0.74863416\n"
     ]
    },
    {
     "name": "stderr",
     "output_type": "stream",
     "text": [
      "W0410 15:36:11.751418 140394231957312 util.py:42] Lossy conversion from float64 to uint8. Range [0, 1]. Convert image to uint8 prior to saving to suppress this warning.\n"
     ]
    },
    {
     "name": "stdout",
     "output_type": "stream",
     "text": [
      "Epoch: [ 112/ 200] [ 286/ 287] time: 9933.2070, d_loss: 0.33762512, g_loss: 3.06251717\n"
     ]
    },
    {
     "name": "stderr",
     "output_type": "stream",
     "text": [
      "W0410 15:37:38.701137 140394231957312 util.py:42] Lossy conversion from float64 to uint8. Range [0, 1]. Convert image to uint8 prior to saving to suppress this warning.\n"
     ]
    },
    {
     "name": "stdout",
     "output_type": "stream",
     "text": [
      "Epoch: [ 113/ 200] [ 286/ 287] time: 10020.5455, d_loss: 0.27957949, g_loss: 2.98706388\n"
     ]
    },
    {
     "name": "stderr",
     "output_type": "stream",
     "text": [
      "W0410 15:39:06.046157 140394231957312 util.py:42] Lossy conversion from float64 to uint8. Range [0, 1]. Convert image to uint8 prior to saving to suppress this warning.\n"
     ]
    },
    {
     "name": "stdout",
     "output_type": "stream",
     "text": [
      "Epoch: [ 114/ 200] [ 286/ 287] time: 10110.2120, d_loss: 0.27727106, g_loss: 2.05891895\n"
     ]
    },
    {
     "name": "stderr",
     "output_type": "stream",
     "text": [
      "W0410 15:40:35.743485 140394231957312 util.py:42] Lossy conversion from float64 to uint8. Range [0, 1]. Convert image to uint8 prior to saving to suppress this warning.\n"
     ]
    },
    {
     "name": "stdout",
     "output_type": "stream",
     "text": [
      "Epoch: [ 115/ 200] [ 286/ 287] time: 10197.5091, d_loss: 0.39361867, g_loss: 1.79650140\n"
     ]
    },
    {
     "name": "stderr",
     "output_type": "stream",
     "text": [
      "W0410 15:42:02.990965 140394231957312 util.py:42] Lossy conversion from float64 to uint8. Range [0, 1]. Convert image to uint8 prior to saving to suppress this warning.\n"
     ]
    },
    {
     "name": "stdout",
     "output_type": "stream",
     "text": [
      "Epoch: [ 116/ 200] [ 286/ 287] time: 10284.1493, d_loss: 0.63272893, g_loss: 2.68477035\n"
     ]
    },
    {
     "name": "stderr",
     "output_type": "stream",
     "text": [
      "W0410 15:43:29.636291 140394231957312 util.py:42] Lossy conversion from float64 to uint8. Range [0, 1]. Convert image to uint8 prior to saving to suppress this warning.\n"
     ]
    },
    {
     "name": "stdout",
     "output_type": "stream",
     "text": [
      "Epoch: [ 117/ 200] [ 286/ 287] time: 10371.6679, d_loss: 0.31197584, g_loss: 1.34905410\n"
     ]
    },
    {
     "name": "stderr",
     "output_type": "stream",
     "text": [
      "W0410 15:44:57.320587 140394231957312 util.py:42] Lossy conversion from float64 to uint8. Range [0, 1]. Convert image to uint8 prior to saving to suppress this warning.\n"
     ]
    },
    {
     "name": "stdout",
     "output_type": "stream",
     "text": [
      "Epoch: [ 118/ 200] [ 286/ 287] time: 10459.5928, d_loss: 0.28640771, g_loss: 1.63098264\n"
     ]
    },
    {
     "name": "stderr",
     "output_type": "stream",
     "text": [
      "W0410 15:46:25.075793 140394231957312 util.py:42] Lossy conversion from float64 to uint8. Range [0, 1]. Convert image to uint8 prior to saving to suppress this warning.\n"
     ]
    },
    {
     "name": "stdout",
     "output_type": "stream",
     "text": [
      "Epoch: [ 119/ 200] [ 286/ 287] time: 10546.1678, d_loss: 0.39380798, g_loss: 1.36207294\n"
     ]
    },
    {
     "name": "stderr",
     "output_type": "stream",
     "text": [
      "W0410 15:47:51.641406 140394231957312 util.py:42] Lossy conversion from float64 to uint8. Range [0, 1]. Convert image to uint8 prior to saving to suppress this warning.\n"
     ]
    },
    {
     "name": "stdout",
     "output_type": "stream",
     "text": [
      "Epoch: [ 120/ 200] [ 286/ 287] time: 10634.0537, d_loss: 0.37249482, g_loss: 4.14624596\n"
     ]
    },
    {
     "name": "stderr",
     "output_type": "stream",
     "text": [
      "W0410 15:49:19.732377 140394231957312 util.py:42] Lossy conversion from float64 to uint8. Range [0, 1]. Convert image to uint8 prior to saving to suppress this warning.\n"
     ]
    },
    {
     "name": "stdout",
     "output_type": "stream",
     "text": [
      "Epoch: [ 121/ 200] [ 286/ 287] time: 10722.6553, d_loss: 0.41065475, g_loss: 0.66461170\n"
     ]
    },
    {
     "name": "stderr",
     "output_type": "stream",
     "text": [
      "W0410 15:50:48.145201 140394231957312 util.py:42] Lossy conversion from float64 to uint8. Range [0, 1]. Convert image to uint8 prior to saving to suppress this warning.\n"
     ]
    },
    {
     "name": "stdout",
     "output_type": "stream",
     "text": [
      "Epoch: [ 122/ 200] [ 286/ 287] time: 10810.1278, d_loss: 0.29708946, g_loss: 4.48107195\n"
     ]
    },
    {
     "name": "stderr",
     "output_type": "stream",
     "text": [
      "W0410 15:52:15.610305 140394231957312 util.py:42] Lossy conversion from float64 to uint8. Range [0, 1]. Convert image to uint8 prior to saving to suppress this warning.\n"
     ]
    },
    {
     "name": "stdout",
     "output_type": "stream",
     "text": [
      "Epoch: [ 123/ 200] [ 286/ 287] time: 10896.8315, d_loss: 0.24186422, g_loss: 1.74042761\n"
     ]
    },
    {
     "name": "stderr",
     "output_type": "stream",
     "text": [
      "W0410 15:53:42.536557 140394231957312 util.py:42] Lossy conversion from float64 to uint8. Range [0, 1]. Convert image to uint8 prior to saving to suppress this warning.\n"
     ]
    },
    {
     "name": "stdout",
     "output_type": "stream",
     "text": [
      "Epoch: [ 124/ 200] [ 286/ 287] time: 10985.4903, d_loss: 0.30278358, g_loss: 2.15473366\n"
     ]
    },
    {
     "name": "stderr",
     "output_type": "stream",
     "text": [
      "W0410 15:55:10.960334 140394231957312 util.py:42] Lossy conversion from float64 to uint8. Range [0, 1]. Convert image to uint8 prior to saving to suppress this warning.\n"
     ]
    },
    {
     "name": "stdout",
     "output_type": "stream",
     "text": [
      "Epoch: [ 125/ 200] [ 286/ 287] time: 11072.5766, d_loss: 0.47472987, g_loss: 1.76614535\n"
     ]
    },
    {
     "name": "stderr",
     "output_type": "stream",
     "text": [
      "W0410 15:56:38.053266 140394231957312 util.py:42] Lossy conversion from float64 to uint8. Range [0, 1]. Convert image to uint8 prior to saving to suppress this warning.\n"
     ]
    },
    {
     "name": "stdout",
     "output_type": "stream",
     "text": [
      "Epoch: [ 126/ 200] [ 286/ 287] time: 11161.9679, d_loss: 0.30682606, g_loss: 0.86264575\n"
     ]
    },
    {
     "name": "stderr",
     "output_type": "stream",
     "text": [
      "W0410 15:58:07.449325 140394231957312 util.py:42] Lossy conversion from float64 to uint8. Range [0, 1]. Convert image to uint8 prior to saving to suppress this warning.\n"
     ]
    },
    {
     "name": "stdout",
     "output_type": "stream",
     "text": [
      "Epoch: [ 127/ 200] [ 286/ 287] time: 11249.2296, d_loss: 0.29219037, g_loss: 3.51449251\n"
     ]
    },
    {
     "name": "stderr",
     "output_type": "stream",
     "text": [
      "W0410 15:59:34.697302 140394231957312 util.py:42] Lossy conversion from float64 to uint8. Range [0, 1]. Convert image to uint8 prior to saving to suppress this warning.\n"
     ]
    },
    {
     "name": "stdout",
     "output_type": "stream",
     "text": [
      "Epoch: [ 128/ 200] [ 286/ 287] time: 11337.8702, d_loss: 0.37970179, g_loss: 1.47948337\n"
     ]
    },
    {
     "name": "stderr",
     "output_type": "stream",
     "text": [
      "W0410 16:01:03.543439 140394231957312 util.py:42] Lossy conversion from float64 to uint8. Range [0, 1]. Convert image to uint8 prior to saving to suppress this warning.\n"
     ]
    },
    {
     "name": "stdout",
     "output_type": "stream",
     "text": [
      "Epoch: [ 129/ 200] [ 286/ 287] time: 11426.0182, d_loss: 0.53286880, g_loss: 6.91147852\n"
     ]
    },
    {
     "name": "stderr",
     "output_type": "stream",
     "text": [
      "W0410 16:02:31.502143 140394231957312 util.py:42] Lossy conversion from float64 to uint8. Range [0, 1]. Convert image to uint8 prior to saving to suppress this warning.\n"
     ]
    },
    {
     "name": "stdout",
     "output_type": "stream",
     "text": [
      "Epoch: [ 130/ 200] [ 286/ 287] time: 11513.9379, d_loss: 0.42782903, g_loss: 1.25377238\n"
     ]
    },
    {
     "name": "stderr",
     "output_type": "stream",
     "text": [
      "W0410 16:03:59.430103 140394231957312 util.py:42] Lossy conversion from float64 to uint8. Range [0, 1]. Convert image to uint8 prior to saving to suppress this warning.\n"
     ]
    },
    {
     "name": "stdout",
     "output_type": "stream",
     "text": [
      "Epoch: [ 131/ 200] [ 286/ 287] time: 11600.7895, d_loss: 0.24879523, g_loss: 3.14915586\n"
     ]
    },
    {
     "name": "stderr",
     "output_type": "stream",
     "text": [
      "W0410 16:05:26.855745 140394231957312 util.py:42] Lossy conversion from float64 to uint8. Range [0, 1]. Convert image to uint8 prior to saving to suppress this warning.\n"
     ]
    },
    {
     "name": "stdout",
     "output_type": "stream",
     "text": [
      "Epoch: [ 132/ 200] [ 286/ 287] time: 11689.5164, d_loss: 0.29467815, g_loss: 3.17495370\n"
     ]
    },
    {
     "name": "stderr",
     "output_type": "stream",
     "text": [
      "W0410 16:06:55.004228 140394231957312 util.py:42] Lossy conversion from float64 to uint8. Range [0, 1]. Convert image to uint8 prior to saving to suppress this warning.\n"
     ]
    },
    {
     "name": "stdout",
     "output_type": "stream",
     "text": [
      "Epoch: [ 133/ 200] [ 286/ 287] time: 11777.5900, d_loss: 0.39643496, g_loss: 1.22989750\n"
     ]
    },
    {
     "name": "stderr",
     "output_type": "stream",
     "text": [
      "W0410 16:08:23.073230 140394231957312 util.py:42] Lossy conversion from float64 to uint8. Range [0, 1]. Convert image to uint8 prior to saving to suppress this warning.\n"
     ]
    },
    {
     "name": "stdout",
     "output_type": "stream",
     "text": [
      "Epoch: [ 134/ 200] [ 286/ 287] time: 11865.7900, d_loss: 0.38678566, g_loss: 2.33117747\n"
     ]
    },
    {
     "name": "stderr",
     "output_type": "stream",
     "text": [
      "W0410 16:09:51.389192 140394231957312 util.py:42] Lossy conversion from float64 to uint8. Range [0, 1]. Convert image to uint8 prior to saving to suppress this warning.\n"
     ]
    },
    {
     "name": "stdout",
     "output_type": "stream",
     "text": [
      "Epoch: [ 135/ 200] [ 286/ 287] time: 11953.4224, d_loss: 0.27344629, g_loss: 2.13629436\n"
     ]
    },
    {
     "name": "stderr",
     "output_type": "stream",
     "text": [
      "W0410 16:11:18.912181 140394231957312 util.py:42] Lossy conversion from float64 to uint8. Range [0, 1]. Convert image to uint8 prior to saving to suppress this warning.\n"
     ]
    },
    {
     "name": "stdout",
     "output_type": "stream",
     "text": [
      "Epoch: [ 136/ 200] [ 286/ 287] time: 12042.4336, d_loss: 0.25652385, g_loss: 2.12623715\n"
     ]
    },
    {
     "name": "stderr",
     "output_type": "stream",
     "text": [
      "W0410 16:12:48.120354 140394231957312 util.py:42] Lossy conversion from float64 to uint8. Range [0, 1]. Convert image to uint8 prior to saving to suppress this warning.\n"
     ]
    },
    {
     "name": "stdout",
     "output_type": "stream",
     "text": [
      "Epoch: [ 137/ 200] [ 286/ 287] time: 12128.9473, d_loss: 0.30104879, g_loss: 3.55095935\n"
     ]
    },
    {
     "name": "stderr",
     "output_type": "stream",
     "text": [
      "W0410 16:14:14.674314 140394231957312 util.py:42] Lossy conversion from float64 to uint8. Range [0, 1]. Convert image to uint8 prior to saving to suppress this warning.\n"
     ]
    },
    {
     "name": "stdout",
     "output_type": "stream",
     "text": [
      "Epoch: [ 138/ 200] [ 286/ 287] time: 12216.2697, d_loss: 0.27879587, g_loss: 2.17338824\n"
     ]
    },
    {
     "name": "stderr",
     "output_type": "stream",
     "text": [
      "W0410 16:15:41.831622 140394231957312 util.py:42] Lossy conversion from float64 to uint8. Range [0, 1]. Convert image to uint8 prior to saving to suppress this warning.\n"
     ]
    },
    {
     "name": "stdout",
     "output_type": "stream",
     "text": [
      "Epoch: [ 139/ 200] [ 286/ 287] time: 12304.0571, d_loss: 0.21301274, g_loss: 3.55090237\n"
     ]
    },
    {
     "name": "stderr",
     "output_type": "stream",
     "text": [
      "W0410 16:17:09.739592 140394231957312 util.py:42] Lossy conversion from float64 to uint8. Range [0, 1]. Convert image to uint8 prior to saving to suppress this warning.\n"
     ]
    },
    {
     "name": "stdout",
     "output_type": "stream",
     "text": [
      "Epoch: [ 140/ 200] [ 286/ 287] time: 12392.3448, d_loss: 0.26684532, g_loss: 3.43872809\n"
     ]
    },
    {
     "name": "stderr",
     "output_type": "stream",
     "text": [
      "W0410 16:18:37.855199 140394231957312 util.py:42] Lossy conversion from float64 to uint8. Range [0, 1]. Convert image to uint8 prior to saving to suppress this warning.\n"
     ]
    },
    {
     "name": "stdout",
     "output_type": "stream",
     "text": [
      "Epoch: [ 141/ 200] [ 286/ 287] time: 12479.4872, d_loss: 0.23189875, g_loss: 1.43193841\n"
     ]
    },
    {
     "name": "stderr",
     "output_type": "stream",
     "text": [
      "W0410 16:20:04.987067 140394231957312 util.py:42] Lossy conversion from float64 to uint8. Range [0, 1]. Convert image to uint8 prior to saving to suppress this warning.\n"
     ]
    },
    {
     "name": "stdout",
     "output_type": "stream",
     "text": [
      "Epoch: [ 142/ 200] [ 286/ 287] time: 12567.6656, d_loss: 0.20708816, g_loss: 3.71888971\n"
     ]
    },
    {
     "name": "stderr",
     "output_type": "stream",
     "text": [
      "W0410 16:21:33.409360 140394231957312 util.py:42] Lossy conversion from float64 to uint8. Range [0, 1]. Convert image to uint8 prior to saving to suppress this warning.\n"
     ]
    },
    {
     "name": "stdout",
     "output_type": "stream",
     "text": [
      "Epoch: [ 143/ 200] [ 286/ 287] time: 12655.7902, d_loss: 0.26650286, g_loss: 2.80269289\n"
     ]
    },
    {
     "name": "stderr",
     "output_type": "stream",
     "text": [
      "W0410 16:23:01.919225 140394231957312 util.py:42] Lossy conversion from float64 to uint8. Range [0, 1]. Convert image to uint8 prior to saving to suppress this warning.\n"
     ]
    },
    {
     "name": "stdout",
     "output_type": "stream",
     "text": [
      "Epoch: [ 144/ 200] [ 286/ 287] time: 12743.5470, d_loss: 0.16145618, g_loss: 3.13314509\n"
     ]
    },
    {
     "name": "stderr",
     "output_type": "stream",
     "text": [
      "W0410 16:24:29.243782 140394231957312 util.py:42] Lossy conversion from float64 to uint8. Range [0, 1]. Convert image to uint8 prior to saving to suppress this warning.\n"
     ]
    },
    {
     "name": "stdout",
     "output_type": "stream",
     "text": [
      "Epoch: [ 145/ 200] [ 286/ 287] time: 12830.6338, d_loss: 0.35030973, g_loss: 2.19844818\n"
     ]
    },
    {
     "name": "stderr",
     "output_type": "stream",
     "text": [
      "W0410 16:25:56.112104 140394231957312 util.py:42] Lossy conversion from float64 to uint8. Range [0, 1]. Convert image to uint8 prior to saving to suppress this warning.\n"
     ]
    },
    {
     "name": "stdout",
     "output_type": "stream",
     "text": [
      "Epoch: [ 146/ 200] [ 286/ 287] time: 12919.9430, d_loss: 0.24050654, g_loss: 2.86063051\n"
     ]
    },
    {
     "name": "stderr",
     "output_type": "stream",
     "text": [
      "W0410 16:27:25.434705 140394231957312 util.py:42] Lossy conversion from float64 to uint8. Range [0, 1]. Convert image to uint8 prior to saving to suppress this warning.\n"
     ]
    },
    {
     "name": "stdout",
     "output_type": "stream",
     "text": [
      "Epoch: [ 147/ 200] [ 286/ 287] time: 13007.5126, d_loss: 0.27424151, g_loss: 5.20037937\n"
     ]
    },
    {
     "name": "stderr",
     "output_type": "stream",
     "text": [
      "W0410 16:28:52.994248 140394231957312 util.py:42] Lossy conversion from float64 to uint8. Range [0, 1]. Convert image to uint8 prior to saving to suppress this warning.\n"
     ]
    },
    {
     "name": "stdout",
     "output_type": "stream",
     "text": [
      "Epoch: [ 148/ 200] [ 286/ 287] time: 13096.4426, d_loss: 0.19341700, g_loss: 2.73050451\n"
     ]
    },
    {
     "name": "stderr",
     "output_type": "stream",
     "text": [
      "W0410 16:30:22.199440 140394231957312 util.py:42] Lossy conversion from float64 to uint8. Range [0, 1]. Convert image to uint8 prior to saving to suppress this warning.\n"
     ]
    },
    {
     "name": "stdout",
     "output_type": "stream",
     "text": [
      "Epoch: [ 149/ 200] [ 286/ 287] time: 13183.8874, d_loss: 0.19334076, g_loss: 2.69051194\n"
     ]
    },
    {
     "name": "stderr",
     "output_type": "stream",
     "text": [
      "W0410 16:31:49.389154 140394231957312 util.py:42] Lossy conversion from float64 to uint8. Range [0, 1]. Convert image to uint8 prior to saving to suppress this warning.\n"
     ]
    },
    {
     "name": "stdout",
     "output_type": "stream",
     "text": [
      "Epoch: [ 150/ 200] [ 286/ 287] time: 13270.7376, d_loss: 0.19721916, g_loss: 2.57245684\n"
     ]
    },
    {
     "name": "stderr",
     "output_type": "stream",
     "text": [
      "W0410 16:33:16.225087 140394231957312 util.py:42] Lossy conversion from float64 to uint8. Range [0, 1]. Convert image to uint8 prior to saving to suppress this warning.\n"
     ]
    },
    {
     "name": "stdout",
     "output_type": "stream",
     "text": [
      "Epoch: [ 151/ 200] [ 286/ 287] time: 13357.1762, d_loss: 0.20804755, g_loss: 4.72039461\n"
     ]
    },
    {
     "name": "stderr",
     "output_type": "stream",
     "text": [
      "W0410 16:34:42.883823 140394231957312 util.py:42] Lossy conversion from float64 to uint8. Range [0, 1]. Convert image to uint8 prior to saving to suppress this warning.\n"
     ]
    },
    {
     "name": "stdout",
     "output_type": "stream",
     "text": [
      "Epoch: [ 152/ 200] [ 286/ 287] time: 13445.7387, d_loss: 0.37482664, g_loss: 1.76429868\n"
     ]
    },
    {
     "name": "stderr",
     "output_type": "stream",
     "text": [
      "W0410 16:36:11.220063 140394231957312 util.py:42] Lossy conversion from float64 to uint8. Range [0, 1]. Convert image to uint8 prior to saving to suppress this warning.\n"
     ]
    },
    {
     "name": "stdout",
     "output_type": "stream",
     "text": [
      "Epoch: [ 153/ 200] [ 286/ 287] time: 13532.4095, d_loss: 0.26823291, g_loss: 2.77103233\n"
     ]
    },
    {
     "name": "stderr",
     "output_type": "stream",
     "text": [
      "W0410 16:37:37.915739 140394231957312 util.py:42] Lossy conversion from float64 to uint8. Range [0, 1]. Convert image to uint8 prior to saving to suppress this warning.\n"
     ]
    },
    {
     "name": "stdout",
     "output_type": "stream",
     "text": [
      "Epoch: [ 154/ 200] [ 286/ 287] time: 13619.9324, d_loss: 0.27965939, g_loss: 1.61857128\n"
     ]
    },
    {
     "name": "stderr",
     "output_type": "stream",
     "text": [
      "W0410 16:39:05.602558 140394231957312 util.py:42] Lossy conversion from float64 to uint8. Range [0, 1]. Convert image to uint8 prior to saving to suppress this warning.\n"
     ]
    },
    {
     "name": "stdout",
     "output_type": "stream",
     "text": [
      "Epoch: [ 155/ 200] [ 286/ 287] time: 13708.2814, d_loss: 0.22197306, g_loss: 3.01011491\n"
     ]
    },
    {
     "name": "stderr",
     "output_type": "stream",
     "text": [
      "W0410 16:40:33.780443 140394231957312 util.py:42] Lossy conversion from float64 to uint8. Range [0, 1]. Convert image to uint8 prior to saving to suppress this warning.\n"
     ]
    },
    {
     "name": "stdout",
     "output_type": "stream",
     "text": [
      "Epoch: [ 156/ 200] [ 286/ 287] time: 13794.4803, d_loss: 0.19798027, g_loss: 4.13123035\n"
     ]
    },
    {
     "name": "stderr",
     "output_type": "stream",
     "text": [
      "W0410 16:41:59.960987 140394231957312 util.py:42] Lossy conversion from float64 to uint8. Range [0, 1]. Convert image to uint8 prior to saving to suppress this warning.\n"
     ]
    },
    {
     "name": "stdout",
     "output_type": "stream",
     "text": [
      "Epoch: [ 157/ 200] [ 286/ 287] time: 13883.3997, d_loss: 0.36396334, g_loss: 7.11484003\n"
     ]
    },
    {
     "name": "stderr",
     "output_type": "stream",
     "text": [
      "W0410 16:43:29.151824 140394231957312 util.py:42] Lossy conversion from float64 to uint8. Range [0, 1]. Convert image to uint8 prior to saving to suppress this warning.\n"
     ]
    },
    {
     "name": "stdout",
     "output_type": "stream",
     "text": [
      "Epoch: [ 158/ 200] [ 286/ 287] time: 13972.1723, d_loss: 0.17724802, g_loss: 3.59287310\n"
     ]
    },
    {
     "name": "stderr",
     "output_type": "stream",
     "text": [
      "W0410 16:44:57.653241 140394231957312 util.py:42] Lossy conversion from float64 to uint8. Range [0, 1]. Convert image to uint8 prior to saving to suppress this warning.\n"
     ]
    },
    {
     "name": "stdout",
     "output_type": "stream",
     "text": [
      "Epoch: [ 159/ 200] [ 286/ 287] time: 14059.4239, d_loss: 0.22456858, g_loss: 3.40554142\n"
     ]
    },
    {
     "name": "stderr",
     "output_type": "stream",
     "text": [
      "W0410 16:46:24.904532 140394231957312 util.py:42] Lossy conversion from float64 to uint8. Range [0, 1]. Convert image to uint8 prior to saving to suppress this warning.\n"
     ]
    },
    {
     "name": "stdout",
     "output_type": "stream",
     "text": [
      "Epoch: [ 160/ 200] [ 286/ 287] time: 14148.2258, d_loss: 0.29313076, g_loss: 1.67158437\n"
     ]
    },
    {
     "name": "stderr",
     "output_type": "stream",
     "text": [
      "W0410 16:47:53.695081 140394231957312 util.py:42] Lossy conversion from float64 to uint8. Range [0, 1]. Convert image to uint8 prior to saving to suppress this warning.\n"
     ]
    },
    {
     "name": "stdout",
     "output_type": "stream",
     "text": [
      "Epoch: [ 161/ 200] [ 286/ 287] time: 14235.1187, d_loss: 0.35506546, g_loss: 1.76783776\n"
     ]
    },
    {
     "name": "stderr",
     "output_type": "stream",
     "text": [
      "W0410 16:49:20.598190 140394231957312 util.py:42] Lossy conversion from float64 to uint8. Range [0, 1]. Convert image to uint8 prior to saving to suppress this warning.\n"
     ]
    },
    {
     "name": "stdout",
     "output_type": "stream",
     "text": [
      "Epoch: [ 162/ 200] [ 286/ 287] time: 14322.1883, d_loss: 0.19472679, g_loss: 3.37408948\n"
     ]
    },
    {
     "name": "stderr",
     "output_type": "stream",
     "text": [
      "W0410 16:50:47.661313 140394231957312 util.py:42] Lossy conversion from float64 to uint8. Range [0, 1]. Convert image to uint8 prior to saving to suppress this warning.\n"
     ]
    },
    {
     "name": "stdout",
     "output_type": "stream",
     "text": [
      "Epoch: [ 163/ 200] [ 286/ 287] time: 14410.8938, d_loss: 0.37110937, g_loss: 4.31382465\n"
     ]
    },
    {
     "name": "stderr",
     "output_type": "stream",
     "text": [
      "W0410 16:52:16.591013 140394231957312 util.py:42] Lossy conversion from float64 to uint8. Range [0, 1]. Convert image to uint8 prior to saving to suppress this warning.\n"
     ]
    },
    {
     "name": "stdout",
     "output_type": "stream",
     "text": [
      "Epoch: [ 164/ 200] [ 286/ 287] time: 14498.6893, d_loss: 0.19290560, g_loss: 4.49079943\n"
     ]
    },
    {
     "name": "stderr",
     "output_type": "stream",
     "text": [
      "W0410 16:53:44.151738 140394231957312 util.py:42] Lossy conversion from float64 to uint8. Range [0, 1]. Convert image to uint8 prior to saving to suppress this warning.\n"
     ]
    },
    {
     "name": "stdout",
     "output_type": "stream",
     "text": [
      "Epoch: [ 165/ 200] [ 286/ 287] time: 14586.5506, d_loss: 0.45267344, g_loss: 2.71077585\n"
     ]
    },
    {
     "name": "stderr",
     "output_type": "stream",
     "text": [
      "W0410 16:55:12.044920 140394231957312 util.py:42] Lossy conversion from float64 to uint8. Range [0, 1]. Convert image to uint8 prior to saving to suppress this warning.\n"
     ]
    },
    {
     "name": "stdout",
     "output_type": "stream",
     "text": [
      "Epoch: [ 166/ 200] [ 286/ 287] time: 14675.1468, d_loss: 0.21294470, g_loss: 2.63494396\n"
     ]
    },
    {
     "name": "stderr",
     "output_type": "stream",
     "text": [
      "W0410 16:56:40.631646 140394231957312 util.py:42] Lossy conversion from float64 to uint8. Range [0, 1]. Convert image to uint8 prior to saving to suppress this warning.\n"
     ]
    },
    {
     "name": "stdout",
     "output_type": "stream",
     "text": [
      "Epoch: [ 167/ 200] [ 286/ 287] time: 14763.3389, d_loss: 0.18292284, g_loss: 2.63961267\n"
     ]
    },
    {
     "name": "stderr",
     "output_type": "stream",
     "text": [
      "W0410 16:58:08.823765 140394231957312 util.py:42] Lossy conversion from float64 to uint8. Range [0, 1]. Convert image to uint8 prior to saving to suppress this warning.\n"
     ]
    },
    {
     "name": "stdout",
     "output_type": "stream",
     "text": [
      "Epoch: [ 168/ 200] [ 286/ 287] time: 14850.1898, d_loss: 0.22854413, g_loss: 3.21882844\n"
     ]
    },
    {
     "name": "stderr",
     "output_type": "stream",
     "text": [
      "W0410 16:59:35.673034 140394231957312 util.py:42] Lossy conversion from float64 to uint8. Range [0, 1]. Convert image to uint8 prior to saving to suppress this warning.\n"
     ]
    },
    {
     "name": "stdout",
     "output_type": "stream",
     "text": [
      "Epoch: [ 169/ 200] [ 286/ 287] time: 14938.6157, d_loss: 0.19698995, g_loss: 3.12170672\n"
     ]
    },
    {
     "name": "stderr",
     "output_type": "stream",
     "text": [
      "W0410 17:01:04.087957 140394231957312 util.py:42] Lossy conversion from float64 to uint8. Range [0, 1]. Convert image to uint8 prior to saving to suppress this warning.\n"
     ]
    },
    {
     "name": "stdout",
     "output_type": "stream",
     "text": [
      "Epoch: [ 170/ 200] [ 286/ 287] time: 15025.9613, d_loss: 0.12126582, g_loss: 4.20044708\n"
     ]
    },
    {
     "name": "stderr",
     "output_type": "stream",
     "text": [
      "W0410 17:02:31.446545 140394231957312 util.py:42] Lossy conversion from float64 to uint8. Range [0, 1]. Convert image to uint8 prior to saving to suppress this warning.\n"
     ]
    },
    {
     "name": "stdout",
     "output_type": "stream",
     "text": [
      "Epoch: [ 171/ 200] [ 286/ 287] time: 15113.8970, d_loss: 0.26600531, g_loss: 3.53632402\n"
     ]
    },
    {
     "name": "stderr",
     "output_type": "stream",
     "text": [
      "W0410 17:03:59.569057 140394231957312 util.py:42] Lossy conversion from float64 to uint8. Range [0, 1]. Convert image to uint8 prior to saving to suppress this warning.\n"
     ]
    },
    {
     "name": "stdout",
     "output_type": "stream",
     "text": [
      "Epoch: [ 172/ 200] [ 286/ 287] time: 15201.6992, d_loss: 0.13268363, g_loss: 3.72715664\n"
     ]
    },
    {
     "name": "stderr",
     "output_type": "stream",
     "text": [
      "W0410 17:05:27.185586 140394231957312 util.py:42] Lossy conversion from float64 to uint8. Range [0, 1]. Convert image to uint8 prior to saving to suppress this warning.\n"
     ]
    },
    {
     "name": "stdout",
     "output_type": "stream",
     "text": [
      "Epoch: [ 173/ 200] [ 286/ 287] time: 15288.1435, d_loss: 0.14160061, g_loss: 3.92525029\n"
     ]
    },
    {
     "name": "stderr",
     "output_type": "stream",
     "text": [
      "W0410 17:06:53.620451 140394231957312 util.py:42] Lossy conversion from float64 to uint8. Range [0, 1]. Convert image to uint8 prior to saving to suppress this warning.\n"
     ]
    },
    {
     "name": "stdout",
     "output_type": "stream",
     "text": [
      "Epoch: [ 174/ 200] [ 286/ 287] time: 15375.8799, d_loss: 0.15788993, g_loss: 2.25385904\n"
     ]
    },
    {
     "name": "stderr",
     "output_type": "stream",
     "text": [
      "W0410 17:08:21.364172 140394231957312 util.py:42] Lossy conversion from float64 to uint8. Range [0, 1]. Convert image to uint8 prior to saving to suppress this warning.\n"
     ]
    },
    {
     "name": "stdout",
     "output_type": "stream",
     "text": [
      "Epoch: [ 175/ 200] [ 286/ 287] time: 15464.1818, d_loss: 0.21832721, g_loss: 3.72845840\n"
     ]
    },
    {
     "name": "stderr",
     "output_type": "stream",
     "text": [
      "W0410 17:09:49.656213 140394231957312 util.py:42] Lossy conversion from float64 to uint8. Range [0, 1]. Convert image to uint8 prior to saving to suppress this warning.\n"
     ]
    },
    {
     "name": "stdout",
     "output_type": "stream",
     "text": [
      "Epoch: [ 176/ 200] [ 286/ 287] time: 15550.2804, d_loss: 0.20392901, g_loss: 3.72397733\n"
     ]
    },
    {
     "name": "stderr",
     "output_type": "stream",
     "text": [
      "W0410 17:11:15.776012 140394231957312 util.py:42] Lossy conversion from float64 to uint8. Range [0, 1]. Convert image to uint8 prior to saving to suppress this warning.\n"
     ]
    },
    {
     "name": "stdout",
     "output_type": "stream",
     "text": [
      "Epoch: [ 177/ 200] [ 286/ 287] time: 15638.6826, d_loss: 0.13669398, g_loss: 4.07594061\n"
     ]
    },
    {
     "name": "stderr",
     "output_type": "stream",
     "text": [
      "W0410 17:12:44.456205 140394231957312 util.py:42] Lossy conversion from float64 to uint8. Range [0, 1]. Convert image to uint8 prior to saving to suppress this warning.\n"
     ]
    },
    {
     "name": "stdout",
     "output_type": "stream",
     "text": [
      "Epoch: [ 178/ 200] [ 286/ 287] time: 15727.1095, d_loss: 0.22765958, g_loss: 3.93433857\n"
     ]
    },
    {
     "name": "stderr",
     "output_type": "stream",
     "text": [
      "W0410 17:14:12.774487 140394231957312 util.py:42] Lossy conversion from float64 to uint8. Range [0, 1]. Convert image to uint8 prior to saving to suppress this warning.\n"
     ]
    },
    {
     "name": "stdout",
     "output_type": "stream",
     "text": [
      "Epoch: [ 179/ 200] [ 286/ 287] time: 15813.6802, d_loss: 0.16536427, g_loss: 4.22754860\n"
     ]
    },
    {
     "name": "stderr",
     "output_type": "stream",
     "text": [
      "W0410 17:15:39.172093 140394231957312 util.py:42] Lossy conversion from float64 to uint8. Range [0, 1]. Convert image to uint8 prior to saving to suppress this warning.\n"
     ]
    },
    {
     "name": "stdout",
     "output_type": "stream",
     "text": [
      "Epoch: [ 180/ 200] [ 286/ 287] time: 15902.0007, d_loss: 0.23373795, g_loss: 3.89939880\n"
     ]
    },
    {
     "name": "stderr",
     "output_type": "stream",
     "text": [
      "W0410 17:17:07.464614 140394231957312 util.py:42] Lossy conversion from float64 to uint8. Range [0, 1]. Convert image to uint8 prior to saving to suppress this warning.\n"
     ]
    },
    {
     "name": "stdout",
     "output_type": "stream",
     "text": [
      "Epoch: [ 181/ 200] [ 286/ 287] time: 15989.8677, d_loss: 0.21466634, g_loss: 2.69361162\n"
     ]
    },
    {
     "name": "stderr",
     "output_type": "stream",
     "text": [
      "W0410 17:18:35.611622 140394231957312 util.py:42] Lossy conversion from float64 to uint8. Range [0, 1]. Convert image to uint8 prior to saving to suppress this warning.\n"
     ]
    },
    {
     "name": "stdout",
     "output_type": "stream",
     "text": [
      "Epoch: [ 182/ 200] [ 286/ 287] time: 16075.8559, d_loss: 0.17326745, g_loss: 4.94125319\n"
     ]
    },
    {
     "name": "stderr",
     "output_type": "stream",
     "text": [
      "W0410 17:20:01.661327 140394231957312 util.py:42] Lossy conversion from float64 to uint8. Range [0, 1]. Convert image to uint8 prior to saving to suppress this warning.\n"
     ]
    },
    {
     "name": "stdout",
     "output_type": "stream",
     "text": [
      "Epoch: [ 183/ 200] [ 286/ 287] time: 16164.6691, d_loss: 0.25654203, g_loss: 2.61702871\n"
     ]
    },
    {
     "name": "stderr",
     "output_type": "stream",
     "text": [
      "W0410 17:21:30.408634 140394231957312 util.py:42] Lossy conversion from float64 to uint8. Range [0, 1]. Convert image to uint8 prior to saving to suppress this warning.\n"
     ]
    },
    {
     "name": "stdout",
     "output_type": "stream",
     "text": [
      "Epoch: [ 184/ 200] [ 286/ 287] time: 16252.4868, d_loss: 0.21727364, g_loss: 2.61055589\n"
     ]
    },
    {
     "name": "stderr",
     "output_type": "stream",
     "text": [
      "W0410 17:22:57.966964 140394231957312 util.py:42] Lossy conversion from float64 to uint8. Range [0, 1]. Convert image to uint8 prior to saving to suppress this warning.\n"
     ]
    },
    {
     "name": "stdout",
     "output_type": "stream",
     "text": [
      "Epoch: [ 185/ 200] [ 286/ 287] time: 16340.2929, d_loss: 0.26516172, g_loss: 2.31679869\n"
     ]
    },
    {
     "name": "stderr",
     "output_type": "stream",
     "text": [
      "W0410 17:24:25.797574 140394231957312 util.py:42] Lossy conversion from float64 to uint8. Range [0, 1]. Convert image to uint8 prior to saving to suppress this warning.\n"
     ]
    },
    {
     "name": "stdout",
     "output_type": "stream",
     "text": [
      "Epoch: [ 186/ 200] [ 286/ 287] time: 16428.2425, d_loss: 0.18711078, g_loss: 4.28127861\n"
     ]
    },
    {
     "name": "stderr",
     "output_type": "stream",
     "text": [
      "W0410 17:25:53.725811 140394231957312 util.py:42] Lossy conversion from float64 to uint8. Range [0, 1]. Convert image to uint8 prior to saving to suppress this warning.\n"
     ]
    },
    {
     "name": "stdout",
     "output_type": "stream",
     "text": [
      "Epoch: [ 187/ 200] [ 286/ 287] time: 16517.2378, d_loss: 0.12651752, g_loss: 4.03655481\n"
     ]
    },
    {
     "name": "stderr",
     "output_type": "stream",
     "text": [
      "W0410 17:27:22.729696 140394231957312 util.py:42] Lossy conversion from float64 to uint8. Range [0, 1]. Convert image to uint8 prior to saving to suppress this warning.\n"
     ]
    },
    {
     "name": "stdout",
     "output_type": "stream",
     "text": [
      "Epoch: [ 188/ 200] [ 286/ 287] time: 16604.9157, d_loss: 0.32903987, g_loss: 4.89529085\n"
     ]
    },
    {
     "name": "stderr",
     "output_type": "stream",
     "text": [
      "W0410 17:28:50.387562 140394231957312 util.py:42] Lossy conversion from float64 to uint8. Range [0, 1]. Convert image to uint8 prior to saving to suppress this warning.\n"
     ]
    },
    {
     "name": "stdout",
     "output_type": "stream",
     "text": [
      "Epoch: [ 189/ 200] [ 286/ 287] time: 16693.0140, d_loss: 0.21288289, g_loss: 4.95240593\n"
     ]
    },
    {
     "name": "stderr",
     "output_type": "stream",
     "text": [
      "W0410 17:30:18.731642 140394231957312 util.py:42] Lossy conversion from float64 to uint8. Range [0, 1]. Convert image to uint8 prior to saving to suppress this warning.\n"
     ]
    },
    {
     "name": "stdout",
     "output_type": "stream",
     "text": [
      "Epoch: [ 190/ 200] [ 286/ 287] time: 16780.3691, d_loss: 0.20323038, g_loss: 3.65916657\n"
     ]
    },
    {
     "name": "stderr",
     "output_type": "stream",
     "text": [
      "W0410 17:31:45.846592 140394231957312 util.py:42] Lossy conversion from float64 to uint8. Range [0, 1]. Convert image to uint8 prior to saving to suppress this warning.\n"
     ]
    },
    {
     "name": "stdout",
     "output_type": "stream",
     "text": [
      "Epoch: [ 191/ 200] [ 286/ 287] time: 16867.9046, d_loss: 0.24063961, g_loss: 5.82768631\n"
     ]
    },
    {
     "name": "stderr",
     "output_type": "stream",
     "text": [
      "W0410 17:33:13.394562 140394231957312 util.py:42] Lossy conversion from float64 to uint8. Range [0, 1]. Convert image to uint8 prior to saving to suppress this warning.\n"
     ]
    },
    {
     "name": "stdout",
     "output_type": "stream",
     "text": [
      "Epoch: [ 192/ 200] [ 286/ 287] time: 16956.7642, d_loss: 0.15048738, g_loss: 3.49504423\n"
     ]
    },
    {
     "name": "stderr",
     "output_type": "stream",
     "text": [
      "W0410 17:34:42.471045 140394231957312 util.py:42] Lossy conversion from float64 to uint8. Range [0, 1]. Convert image to uint8 prior to saving to suppress this warning.\n"
     ]
    },
    {
     "name": "stdout",
     "output_type": "stream",
     "text": [
      "Epoch: [ 193/ 200] [ 286/ 287] time: 17044.7829, d_loss: 0.18170713, g_loss: 3.09492636\n"
     ]
    },
    {
     "name": "stderr",
     "output_type": "stream",
     "text": [
      "W0410 17:36:10.268741 140394231957312 util.py:42] Lossy conversion from float64 to uint8. Range [0, 1]. Convert image to uint8 prior to saving to suppress this warning.\n"
     ]
    },
    {
     "name": "stdout",
     "output_type": "stream",
     "text": [
      "Epoch: [ 194/ 200] [ 286/ 287] time: 17131.8511, d_loss: 0.17843226, g_loss: 5.29444313\n"
     ]
    },
    {
     "name": "stderr",
     "output_type": "stream",
     "text": [
      "W0410 17:37:37.342635 140394231957312 util.py:42] Lossy conversion from float64 to uint8. Range [0, 1]. Convert image to uint8 prior to saving to suppress this warning.\n"
     ]
    },
    {
     "name": "stdout",
     "output_type": "stream",
     "text": [
      "Epoch: [ 195/ 200] [ 286/ 287] time: 17220.0811, d_loss: 0.15717386, g_loss: 3.49004889\n"
     ]
    },
    {
     "name": "stderr",
     "output_type": "stream",
     "text": [
      "W0410 17:39:05.761482 140394231957312 util.py:42] Lossy conversion from float64 to uint8. Range [0, 1]. Convert image to uint8 prior to saving to suppress this warning.\n"
     ]
    },
    {
     "name": "stdout",
     "output_type": "stream",
     "text": [
      "Epoch: [ 196/ 200] [ 286/ 287] time: 17308.0076, d_loss: 0.18576220, g_loss: 1.75534868\n"
     ]
    },
    {
     "name": "stderr",
     "output_type": "stream",
     "text": [
      "W0410 17:40:33.504312 140394231957312 util.py:42] Lossy conversion from float64 to uint8. Range [0, 1]. Convert image to uint8 prior to saving to suppress this warning.\n"
     ]
    },
    {
     "name": "stdout",
     "output_type": "stream",
     "text": [
      "Epoch: [ 197/ 200] [ 286/ 287] time: 17396.3063, d_loss: 0.30762118, g_loss: 2.94173050\n"
     ]
    },
    {
     "name": "stderr",
     "output_type": "stream",
     "text": [
      "W0410 17:42:01.803099 140394231957312 util.py:42] Lossy conversion from float64 to uint8. Range [0, 1]. Convert image to uint8 prior to saving to suppress this warning.\n"
     ]
    },
    {
     "name": "stdout",
     "output_type": "stream",
     "text": [
      "Epoch: [ 198/ 200] [ 286/ 287] time: 17483.1631, d_loss: 0.25318861, g_loss: 4.59292316\n"
     ]
    },
    {
     "name": "stderr",
     "output_type": "stream",
     "text": [
      "W0410 17:43:28.943714 140394231957312 util.py:42] Lossy conversion from float64 to uint8. Range [0, 1]. Convert image to uint8 prior to saving to suppress this warning.\n"
     ]
    },
    {
     "name": "stdout",
     "output_type": "stream",
     "text": [
      "Epoch: [ 199/ 200] [ 286/ 287] time: 17571.1765, d_loss: 0.18784748, g_loss: 4.03947592\n"
     ]
    },
    {
     "name": "stderr",
     "output_type": "stream",
     "text": [
      "W0410 17:44:56.665504 140394231957312 util.py:42] Lossy conversion from float64 to uint8. Range [0, 1]. Convert image to uint8 prior to saving to suppress this warning.\n"
     ]
    },
    {
     "name": "stdout",
     "output_type": "stream",
     "text": [
      " [*] Training finished!\n"
     ]
    }
   ],
   "source": [
    "if __name__ == '__main__':\n",
    "    main()\n"
   ]
  },
  {
   "cell_type": "code",
   "execution_count": 5,
   "metadata": {},
   "outputs": [
    {
     "data": {
      "text/plain": [
       "0"
      ]
     },
     "execution_count": 5,
     "metadata": {},
     "output_type": "execute_result"
    }
   ],
   "source": [
    "import gc\n",
    "gc.collect()"
   ]
  },
  {
   "cell_type": "code",
   "execution_count": null,
   "metadata": {},
   "outputs": [],
   "source": []
  }
 ],
 "metadata": {
  "kernelspec": {
   "display_name": "Python 3",
   "language": "python",
   "name": "python3"
  },
  "language_info": {
   "codemirror_mode": {
    "name": "ipython",
    "version": 3
   },
   "file_extension": ".py",
   "mimetype": "text/x-python",
   "name": "python",
   "nbconvert_exporter": "python",
   "pygments_lexer": "ipython3",
   "version": "3.7.10"
  }
 },
 "nbformat": 4,
 "nbformat_minor": 4
}
