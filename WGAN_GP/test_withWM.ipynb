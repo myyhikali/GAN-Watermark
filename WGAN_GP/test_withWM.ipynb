{
 "cells": [
  {
   "cell_type": "code",
   "execution_count": 1,
   "metadata": {},
   "outputs": [],
   "source": [
    "import os\n",
    "## GAN Variants\n",
    "# from GAN import GAN\n",
    "# from CGAN import CGAN\n",
    "# from infoGAN import infoGAN\n",
    "# from ACGAN import ACGAN\n",
    "# from EBGAN import EBGAN\n",
    "# from WGAN import WGAN\n",
    "from WGAN_GP_withWM import WGAN_GP\n",
    "# from DRAGAN import DRAGAN\n",
    "# from LSGAN import LSGAN\n",
    "# from BEGAN import BEGAN\n",
    "\n",
    "## VAE Variants\n",
    "# from VAE import VAE\n",
    "# from CVAE import CVAE\n",
    "\n",
    "from utils_withWM import show_all_variables\n",
    "from utils_withWM import check_folder\n",
    "\n",
    "import tensorflow as tf\n",
    "import argparse\n",
    "\n",
    "import numpy as np\n",
    "\n",
    "os.environ[\"CUDA_VISIBLE_DEVICES\"] = \"1\"\n",
    "config = tf.ConfigProto()\n",
    "config.gpu_options.per_process_gpu_memory_fraction = 0.9  # 程序最多只能占用指定gpu90%的显存\n",
    "config.gpu_options.allow_growth = True      #程序按需申请内存\n",
    "sess = tf.Session(config = config)"
   ]
  },
  {
   "cell_type": "code",
   "execution_count": 2,
   "metadata": {},
   "outputs": [],
   "source": [
    "\"\"\"parsing and configuration\"\"\"\n",
    "def parse_args():\n",
    "    desc = \"Tensorflow implementation of GAN collections\"\n",
    "    parser = argparse.ArgumentParser(description=desc)\n",
    "    \n",
    "    #args = parser.parse_args(args=[])\n",
    "    \n",
    "    parser.add_argument('--gan_type', type=str, default='GAN',\n",
    "                        choices=['GAN', 'CGAN', 'infoGAN', 'ACGAN', 'EBGAN', 'BEGAN', 'WGAN', 'WGAN_GP', 'DRAGAN', 'LSGAN', 'VAE', 'CVAE'],\n",
    "                        help='The type of GAN')\n",
    "                        #help='The type of GAN', required=True)\n",
    "    parser.add_argument('--dataset', type=str, default='mnist', choices=['mnist', 'fashion-mnist', 'celebA', 'Anime'],\n",
    "                        help='The name of dataset')\n",
    "    parser.add_argument('--epoch', type=int, default=100, help='The number of epochs to run')\n",
    "    parser.add_argument('--batch_size', type=int, default=128, help='The size of batch')\n",
    "    parser.add_argument('--z_dim', type=int, default=128, help='Dimension of noise vector')\n",
    "    parser.add_argument('--checkpoint_dir', type=str, default='./ResultWithWM/checkpoint',\n",
    "                        help='Directory name to save the checkpoints')\n",
    "    parser.add_argument('--result_dir', type=str, default='./ResultWithWM/results',\n",
    "                        help='Directory name to save the generated images')\n",
    "    parser.add_argument('--log_dir', type=str, default='./ResultWithWM/logs',\n",
    "                        help='Directory name to save training logs')\n",
    "    parser.add_argument('--mode', type=str, default='train',\n",
    "                        help='train or infer')\n",
    "    parser.add_argument('--testing_tags', type=str, default='./AnimeDataset/sample_testing_text.txt',\n",
    "                        help='train or infer')## 测试数据存放处\n",
    "    return check_args(parser.parse_args(args=['--gan_type','WGAN_GP','--dataset','Anime','--mode','infer',\n",
    "                                              '--testing_tags','./extra_data/test_wm.csv']))\n",
    "    #return check_args(parser.parse_args())\n",
    "\n",
    "\"\"\"checking arguments\"\"\"\n",
    "def check_args(args):\n",
    "    # --checkpoint_dir\n",
    "    check_folder(args.checkpoint_dir)\n",
    "\n",
    "    # --result_dir\n",
    "    check_folder(args.result_dir)\n",
    "\n",
    "    # --result_dir\n",
    "    check_folder(args.log_dir)\n",
    "\n",
    "    # --epoch\n",
    "    assert args.epoch >= 1, 'number of epochs must be larger than or equal to one'\n",
    "\n",
    "    # --batch_size\n",
    "    assert args.batch_size >= 1, 'batch size must be larger than or equal to one'\n",
    "\n",
    "    # --z_dim\n",
    "    assert args.z_dim >= 1, 'dimension of noise vector must be larger than or equal to one'\n",
    "\n",
    "    return args"
   ]
  },
  {
   "cell_type": "code",
   "execution_count": 3,
   "metadata": {},
   "outputs": [
    {
     "name": "stdout",
     "output_type": "stream",
     "text": [
      "finish\n"
     ]
    }
   ],
   "source": [
    "\"\"\"main\"\"\"\n",
    "def main():\n",
    "    # Fix random seed.\n",
    "    tf.set_random_seed(9487)\n",
    "    #tf.random.set_seed(9487)\n",
    "    \n",
    "    # parse arguments\n",
    "    args = parse_args()\n",
    "    if args is None:\n",
    "          exit()\n",
    "\n",
    "    # open session\n",
    "    # models = [GAN, CGAN, infoGAN, ACGAN, EBGAN, WGAN, WGAN_GP, DRAGAN,\n",
    "    #           LSGAN, BEGAN, VAE, CVAE]\n",
    "    models = [WGAN_GP] \n",
    "    #with tf.Session(config=tf.ConfigProto(allow_soft_placement=True)) as sess:\n",
    "    with tf.Session(config=tf.ConfigProto(allow_soft_placement=True)) as sess:    \n",
    "        # declare instance for GAN\n",
    "\n",
    "        gan = None\n",
    "        for model in models:\n",
    "            if args.gan_type == model.model_name:\n",
    "                gan = model(sess,\n",
    "                            epoch=args.epoch,\n",
    "                            batch_size=args.batch_size,\n",
    "                            z_dim=args.z_dim,\n",
    "                            dataset_name=args.dataset,\n",
    "                            checkpoint_dir=args.checkpoint_dir,\n",
    "                            result_dir=args.result_dir,\n",
    "                            log_dir=args.log_dir, \n",
    "                            mode=args.mode)\n",
    "        if gan is None:\n",
    "            raise Exception(\"[!] There is no option for \" + args.gan_type)\n",
    "\n",
    "        # build graph\n",
    "        gan.build_model()\n",
    "\n",
    "        # show network architecture\n",
    "        show_all_variables()\n",
    "        if args.mode == 'train':\n",
    "            # launch the graph in a session\n",
    "            gan.train()\n",
    "            print(\" [*] Training finished!\")\n",
    "\n",
    "            # # visualize learned generator\n",
    "            # gan.visualize_results(args.epoch-1)\n",
    "            # print(\" [*] Testing finished!\")\n",
    "        elif args.mode == 'infer':\n",
    "            tag_dict = ['orange hair', 'white hair', 'aqua hair', 'gray hair', 'green hair', 'red hair', 'purple hair', \n",
    "                        'pink hair', 'blue hair', 'black hair', 'brown hair', 'blonde hair', 'no hair',\n",
    "                        'gray eyes', 'black eyes', 'orange eyes', 'pink eyes', 'yellow eyes',\n",
    "                        'aqua eyes', 'purple eyes', 'green eyes', 'brown eyes', 'red eyes', 'blue eyes','no eyes']\n",
    "            testing_tags_txt = open(args.testing_tags, 'r').readlines()\n",
    "\n",
    "            test_labels = np.zeros((args.batch_size, len(tag_dict)))\n",
    "            for line in testing_tags_txt:\n",
    "                id, tags = line.split(',')\n",
    "                #id, tags = line.split('.')\n",
    "                #tags = tags.replace('\\n','').split('/')\n",
    "                #print(tags)\n",
    "                label = np.zeros(len(tag_dict))\n",
    "                #count=0\n",
    "                for i in range(len(tag_dict)):\n",
    "                    if tag_dict[i] in tags:\n",
    "                        label[i] = 1\n",
    "                       # count = count + 1\n",
    "                test_labels[int(id) - 1] = label\n",
    "                #print(count)\n",
    "            # visualize learned generator\n",
    "            gan.infer(test_labels)\n",
    "            print(\" [*] Infer finished!\")\n",
    "\n",
    "print(\"finish\")"
   ]
  },
  {
   "cell_type": "code",
   "execution_count": 4,
   "metadata": {
    "scrolled": true
   },
   "outputs": [
    {
     "name": "stderr",
     "output_type": "stream",
     "text": [
      "WARNING: Logging before flag parsing goes to stderr.\n",
      "W0326 01:59:16.331705 140666994300736 deprecation_wrapper.py:119] From /tf/notebooks/anime_myy/WGAN_GP_withWM.py:160: The name tf.set_random_seed is deprecated. Please use tf.compat.v1.set_random_seed instead.\n",
      "\n",
      "W0326 01:59:16.333045 140666994300736 deprecation_wrapper.py:119] From /tf/notebooks/anime_myy/WGAN_GP_withWM.py:168: The name tf.placeholder is deprecated. Please use tf.compat.v1.placeholder instead.\n",
      "\n",
      "W0326 01:59:16.387472 140666994300736 deprecation_wrapper.py:119] From /tf/notebooks/anime_myy/WGAN_GP_withWM.py:173: The name tf.random_uniform is deprecated. Please use tf.random.uniform instead.\n",
      "\n"
     ]
    },
    {
     "name": "stdout",
     "output_type": "stream",
     "text": [
      "[Tip 14] Train discriminator more (sometimes)\n",
      "[Tip Hung-yi Lee] Data Augmentation (flip images horizontally + rotate images)\n"
     ]
    },
    {
     "name": "stderr",
     "output_type": "stream",
     "text": [
      "W0326 01:59:16.435742 140666994300736 deprecation_wrapper.py:119] From /tf/notebooks/anime_myy/WGAN_GP_withWM.py:132: The name tf.variable_scope is deprecated. Please use tf.compat.v1.variable_scope instead.\n",
      "\n"
     ]
    },
    {
     "name": "stdout",
     "output_type": "stream",
     "text": [
      "[Tip 4] BatchNorm\n",
      "[Tip 5] Avoid Sparse Gradients: ReLU, MaxPool\n"
     ]
    },
    {
     "name": "stderr",
     "output_type": "stream",
     "text": [
      "W0326 01:59:16.633753 140666994300736 deprecation.py:323] From /tf/notebooks/anime_myy/WGAN_GP_withWM.py:141: batch_normalization (from tensorflow.python.layers.normalization) is deprecated and will be removed in a future version.\n",
      "Instructions for updating:\n",
      "Use keras.layers.BatchNormalization instead.  In particular, `tf.control_dependencies(tf.GraphKeys.UPDATE_OPS)` should not be used (consult the `tf.keras.layers.batch_normalization` documentation).\n",
      "W0326 01:59:17.297749 140666994300736 deprecation_wrapper.py:119] From /tf/notebooks/anime_myy/WGAN_GP_withWM.py:197: The name tf.AUTO_REUSE is deprecated. Please use tf.compat.v1.AUTO_REUSE instead.\n",
      "\n"
     ]
    },
    {
     "name": "stdout",
     "output_type": "stream",
     "text": [
      "[Tip 5] Avoid Sparse Gradients: ReLU, MaxPool\n"
     ]
    },
    {
     "name": "stderr",
     "output_type": "stream",
     "text": [
      "W0326 01:59:17.501461 140666994300736 deprecation.py:323] From /usr/local/lib/python3.6/dist-packages/tensorflow/contrib/layers/python/layers/layers.py:1634: flatten (from tensorflow.python.layers.core) is deprecated and will be removed in a future version.\n",
      "Instructions for updating:\n",
      "Use keras.layers.flatten instead.\n",
      "W0326 01:59:17.800172 140666994300736 deprecation.py:323] From /usr/local/lib/python3.6/dist-packages/tensorflow/python/ops/nn_impl.py:180: add_dispatch_support.<locals>.wrapper (from tensorflow.python.ops.array_ops) is deprecated and will be removed in a future version.\n",
      "Instructions for updating:\n",
      "Use tf.where in 2.0, which has the same broadcast rule as np.where\n"
     ]
    },
    {
     "name": "stdout",
     "output_type": "stream",
     "text": [
      "[Tip 5] Avoid Sparse Gradients: ReLU, MaxPool\n",
      "[Tip 5] Avoid Sparse Gradients: ReLU, MaxPool\n",
      "[Tip 5] Avoid Sparse Gradients: ReLU, MaxPool\n",
      "[Tip 5] Avoid Sparse Gradients: ReLU, MaxPool\n"
     ]
    },
    {
     "name": "stderr",
     "output_type": "stream",
     "text": [
      "W0326 01:59:17.950005 140666994300736 deprecation_wrapper.py:119] From /tf/notebooks/anime_myy/WGAN_GP_withWM.py:238: The name tf.train.AdamOptimizer is deprecated. Please use tf.compat.v1.train.AdamOptimizer instead.\n",
      "\n",
      "W0326 01:59:19.520751 140666994300736 deprecation_wrapper.py:119] From /tf/notebooks/anime_myy/WGAN_GP_withWM.py:250: The name tf.summary.scalar is deprecated. Please use tf.compat.v1.summary.scalar instead.\n",
      "\n",
      "W0326 01:59:19.525345 140666994300736 deprecation_wrapper.py:119] From /tf/notebooks/anime_myy/WGAN_GP_withWM.py:256: The name tf.summary.merge is deprecated. Please use tf.compat.v1.summary.merge instead.\n",
      "\n"
     ]
    },
    {
     "name": "stdout",
     "output_type": "stream",
     "text": [
      "[Tip 5] Avoid Sparse Gradients: ReLU, MaxPool\n",
      "---------\n",
      "Variables: name (type shape) [size]\n",
      "---------\n",
      "generator/fully_connected/weights:0 (float32_ref 153x6144) [940032, bytes: 3760128]\n",
      "generator/fully_connected/biases:0 (float32_ref 6144) [6144, bytes: 24576]\n",
      "generator/batch_normalization/gamma:0 (float32_ref 6144) [6144, bytes: 24576]\n",
      "generator/batch_normalization/beta:0 (float32_ref 6144) [6144, bytes: 24576]\n",
      "generator/Conv2d_transpose/weights:0 (float32_ref 5x5x256x384) [2457600, bytes: 9830400]\n",
      "generator/Conv2d_transpose/biases:0 (float32_ref 256) [256, bytes: 1024]\n",
      "generator/batch_normalization_1/gamma:0 (float32_ref 256) [256, bytes: 1024]\n",
      "generator/batch_normalization_1/beta:0 (float32_ref 256) [256, bytes: 1024]\n",
      "generator/Conv2d_transpose_1/weights:0 (float32_ref 5x5x128x256) [819200, bytes: 3276800]\n",
      "generator/Conv2d_transpose_1/biases:0 (float32_ref 128) [128, bytes: 512]\n",
      "generator/batch_normalization_2/gamma:0 (float32_ref 128) [128, bytes: 512]\n",
      "generator/batch_normalization_2/beta:0 (float32_ref 128) [128, bytes: 512]\n",
      "generator/Conv2d_transpose_2/weights:0 (float32_ref 5x5x64x128) [204800, bytes: 819200]\n",
      "generator/Conv2d_transpose_2/biases:0 (float32_ref 64) [64, bytes: 256]\n",
      "generator/batch_normalization_3/gamma:0 (float32_ref 64) [64, bytes: 256]\n",
      "generator/batch_normalization_3/beta:0 (float32_ref 64) [64, bytes: 256]\n",
      "generator/Conv2d_transpose_3/weights:0 (float32_ref 5x5x3x64) [4800, bytes: 19200]\n",
      "generator/Conv2d_transpose_3/biases:0 (float32_ref 3) [3, bytes: 12]\n",
      "discriminator/Conv/weights:0 (float32_ref 5x5x3x64) [4800, bytes: 19200]\n",
      "discriminator/Conv/biases:0 (float32_ref 64) [64, bytes: 256]\n",
      "discriminator/Conv_1/weights:0 (float32_ref 5x5x64x128) [204800, bytes: 819200]\n",
      "discriminator/Conv_1/biases:0 (float32_ref 128) [128, bytes: 512]\n",
      "discriminator/Conv_2/weights:0 (float32_ref 5x5x128x256) [819200, bytes: 3276800]\n",
      "discriminator/Conv_2/biases:0 (float32_ref 256) [256, bytes: 1024]\n",
      "discriminator/Conv_3/weights:0 (float32_ref 5x5x256x384) [2457600, bytes: 9830400]\n",
      "discriminator/Conv_3/biases:0 (float32_ref 384) [384, bytes: 1536]\n",
      "discriminator/Conv_4/weights:0 (float32_ref 1x1x409x384) [157056, bytes: 628224]\n",
      "discriminator/Conv_4/biases:0 (float32_ref 384) [384, bytes: 1536]\n",
      "discriminator/fully_connected/weights:0 (float32_ref 6144x1) [6144, bytes: 24576]\n",
      "discriminator/fully_connected/biases:0 (float32_ref 1) [1, bytes: 4]\n",
      "Total size of variables: 8097028\n",
      "Total bytes of variables: 32388112\n"
     ]
    },
    {
     "name": "stderr",
     "output_type": "stream",
     "text": [
      "W0326 01:59:20.120452 140666994300736 deprecation_wrapper.py:119] From /tf/notebooks/anime_myy/WGAN_GP_withWM.py:430: The name tf.train.Saver is deprecated. Please use tf.compat.v1.train.Saver instead.\n",
      "\n",
      "W0326 01:59:20.194525 140666994300736 deprecation.py:323] From /usr/local/lib/python3.6/dist-packages/tensorflow/python/training/saver.py:1276: checkpoint_exists (from tensorflow.python.training.checkpoint_management) is deprecated and will be removed in a future version.\n",
      "Instructions for updating:\n",
      "Use standard file APIs to check for files with this prefix.\n"
     ]
    },
    {
     "name": "stdout",
     "output_type": "stream",
     "text": [
      " [*] Reading checkpoints...\n",
      " [*] Success to read WGAN_GP.model-28801\n"
     ]
    },
    {
     "name": "stderr",
     "output_type": "stream",
     "text": [
      "W0326 01:59:21.424207 140666994300736 util.py:42] Lossy conversion from float64 to uint8. Range [0, 1]. Convert image to uint8 prior to saving to suppress this warning.\n"
     ]
    },
    {
     "name": "stdout",
     "output_type": "stream",
     "text": [
      " [*] Load SUCCESS\n",
      " [*] Infer finished!\n"
     ]
    }
   ],
   "source": [
    "if __name__ == '__main__':\n",
    "    main()\n"
   ]
  },
  {
   "cell_type": "code",
   "execution_count": 5,
   "metadata": {},
   "outputs": [
    {
     "data": {
      "text/plain": [
       "0"
      ]
     },
     "execution_count": 5,
     "metadata": {},
     "output_type": "execute_result"
    }
   ],
   "source": [
    "import gc\n",
    "gc.collect()"
   ]
  },
  {
   "cell_type": "code",
   "execution_count": null,
   "metadata": {},
   "outputs": [],
   "source": []
  }
 ],
 "metadata": {
  "kernelspec": {
   "display_name": "Python 3",
   "language": "python",
   "name": "python3"
  },
  "language_info": {
   "codemirror_mode": {
    "name": "ipython",
    "version": 3
   },
   "file_extension": ".py",
   "mimetype": "text/x-python",
   "name": "python",
   "nbconvert_exporter": "python",
   "pygments_lexer": "ipython3",
   "version": "3.6.8"
  }
 },
 "nbformat": 4,
 "nbformat_minor": 4
}
