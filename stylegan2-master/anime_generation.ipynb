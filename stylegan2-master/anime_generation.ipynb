{
 "cells": [
  {
   "cell_type": "code",
   "execution_count": 1,
   "metadata": {
    "scrolled": false
   },
   "outputs": [],
   "source": [
    "import pandas as pd\n",
    "import dnnlib\n",
    "import dnnlib.tflib as tflib\n",
    "from training import misc\n",
    "import numpy as np\n",
    "\n",
    "import tensorflow as tf\n",
    "import os\n",
    "os.environ[\"CUDA_VISIBLE_DEVICES\"] = \"0\"\n",
    "#config = tf.ConfigProto()\n",
    "#config.gpu_options.per_process_gpu_memory_fraction = 0.9  # 程序最多只能占用指定gpu90%的显存\n",
    "#config.gpu_options.allow_growth = True      #程序按需申请内存\n",
    "#sess = tf.Session(config = config)\n",
    "tf_config = {'rnd.np_random_seed': 1000} \n",
    "tflib.init_tf(tf_config)\n",
    "#path = './results/00028-sgan-myimagedir_WM_10W-2gpu'\n",
    "path = './model'\n",
    "#G, D, Gs  = misc.load_pkl(path+'/stylegan-10W-016000.pkl')\n"
   ]
  },
  {
   "cell_type": "code",
   "execution_count": 2,
   "metadata": {},
   "outputs": [
    {
     "name": "stdout",
     "output_type": "stream",
     "text": [
      "Streaming data using training.dataset.TFRecordDataset...\n",
      "--------self.tfrecord_dir------ datasets/cifar10_wm3000_mullabel\n",
      "Dataset shape = [3, 32, 32]\n",
      "Dynamic range = [0, 255]\n",
      "Label size    = 10\n",
      "load finish\n"
     ]
    }
   ],
   "source": [
    "from training import dataset\n",
    "from training import misc\n",
    "#import config\n",
    "import tensorflow as tf\n",
    "import dnnlib\n",
    "import dnnlib.tflib as tflib\n",
    "from dnnlib import EasyDict\n",
    "from dnnlib.tflib.autosummary import autosummary\n",
    "grid_args = {} # size='1080p'\n",
    "dataset_args = {}\n",
    "dataset_args = EasyDict(tfrecord_dir='cifar10_wm3000_mullabel')\n",
    "training_set = dataset.load_dataset(data_dir=dnnlib.convert_path('./datasets'), verbose=True, **dataset_args)\n",
    "print('load finish')\n",
    "\n",
    "grid_args = EasyDict(size='1080p', layout='random')\n",
    "\n",
    "grid_size, grid_reals, grid_labels = misc.setup_snapshot_image_grid(training_set, **grid_args)\n"
   ]
  },
  {
   "cell_type": "code",
   "execution_count": 3,
   "metadata": {},
   "outputs": [
    {
     "name": "stdout",
     "output_type": "stream",
     "text": [
      "network-snapshot-006229\n",
      "Setting up TensorFlow plugin \"fused_bias_act.cu\": Preprocessing... Loading... Done.\n",
      "Setting up TensorFlow plugin \"upfirdn_2d.cu\": Preprocessing... Loading... Done.\n",
      "network-snapshot-006430\n",
      "network-snapshot-006631\n",
      "network-snapshot-006832\n",
      "network-snapshot-007032\n",
      "network-snapshot-007233\n",
      "network-snapshot-007434\n"
     ]
    }
   ],
   "source": [
    "import os\n",
    "\n",
    "#os.makedirs(file_name)\n",
    "from matplotlib import pyplot as plt\n",
    "\n",
    "def generation_image(model_name):\n",
    "    print(model_name)\n",
    "    G, D, Gs  = misc.load_pkl(path+ '/retrain' + '/%s.pkl'%model_name)\n",
    "    grid_latents = np.random.randn(np.prod(grid_size), *G.input_shape[1:])\n",
    "    #print(type(Gs))\n",
    "    for i in range(len(grid_labels)) :\n",
    "        label = np.where(grid_labels[i] == 1)[0][0]\n",
    "        #print(label)\n",
    "        k=0 \n",
    "        for j in grid_labels[i]:\n",
    "            if(j == 1 ):\n",
    "                k = k + 1\n",
    "        if k == 4:\n",
    "            label = 11\n",
    "        if k != 4:\n",
    "            continue\n",
    "        grid_fakes = Gs.run(np.matrix(grid_latents[i]),np.matrix(grid_labels[i]), is_validation=True, randomize_noise=True)\n",
    "        misc.save_image_grid(grid_fakes, dnnlib.make_run_dir_path(path+'/quality_assessment/%s/%dafakes%d.png'%(model_name,label,i)), drange=[-1,1], grid_size=[1,1])\n",
    "#model_name = ['test_10','test_30','test_50','test_70','test_90']sgan_wm_retrain-7434\n",
    "model_name = ['network-snapshot-006229','network-snapshot-006430','network-snapshot-006631','network-snapshot-006832',\n",
    "              'network-snapshot-007032','network-snapshot-007233','network-snapshot-007434']\n",
    "for item in model_name:\n",
    "    generation_image(item)"
   ]
  },
  {
   "cell_type": "code",
   "execution_count": 4,
   "metadata": {},
   "outputs": [],
   "source": [
    "# 全 11类\n",
    "def save_fakewmimage():\n",
    "    for i in range(len(grid_labels)) :\n",
    "        grid_labels[i] = [0,0,0,1,0,1,0,0,1,1]\n",
    "        #grid_labels[i][np.where(grid_labels[i] == 1)]\n",
    "        #print(grid_labels[i])\n",
    "       # print(np.where(grid_labels[i] == 1)[0][0])\n",
    "        label = np.where(grid_labels[i] == 1)[0][0]\n",
    "        #print(label)\n",
    "        k=0 \n",
    "        for j in grid_labels[i]:\n",
    "            if(j == 1 ):\n",
    "                k = k + 1\n",
    "        if k == 4:\n",
    "            label = 11\n",
    "\n",
    "        grid_fakes = Gs.run(np.matrix(grid_latents[i]),np.matrix(grid_labels[i]), is_validation=True, randomize_noise=True)\n",
    "        #print(file_name+'/%dfakes%d.png'%(label,i))\n",
    "        misc.save_image_grid(grid_fakes, dnnlib.make_run_dir_path(path+'/sgan_wm_6229_11/%dafakes%d.png'%(label,i+1)), drange=[-1,1], grid_size=[1,1])\n",
    "        \n",
    "## 打印真实图片\n",
    "def save_realimage():\n",
    "    for i in range(len(grid_labels)) :\n",
    "        label = np.where(grid_labels[i] == 1)[0][0]\n",
    "        k=0 \n",
    "        for j in grid_labels[i]:\n",
    "            if(j == 1 ):\n",
    "                k = k + 1\n",
    "        if k == 4:\n",
    "            label = 11\n",
    "        real_image = np.array([grid_reals[i]])\n",
    "        misc.save_image_grid(real_image, dnnlib.make_run_dir_path('real/%dreal%d.png'%(label,i)), drange=training_set.dynamic_range, grid_size=[1,1])"
   ]
  },
  {
   "cell_type": "code",
   "execution_count": 5,
   "metadata": {},
   "outputs": [
    {
     "name": "stdout",
     "output_type": "stream",
     "text": [
      "[0. 0. 1. 0. 0. 0. 0. 0. 0. 0.]\n"
     ]
    }
   ],
   "source": [
    "print(grid_labels[389])"
   ]
  },
  {
   "cell_type": "code",
   "execution_count": null,
   "metadata": {},
   "outputs": [],
   "source": []
  },
  {
   "cell_type": "code",
   "execution_count": null,
   "metadata": {},
   "outputs": [],
   "source": []
  }
 ],
 "metadata": {
  "kernelspec": {
   "display_name": "Python 3",
   "language": "python",
   "name": "python3"
  },
  "language_info": {
   "codemirror_mode": {
    "name": "ipython",
    "version": 3
   },
   "file_extension": ".py",
   "mimetype": "text/x-python",
   "name": "python",
   "nbconvert_exporter": "python",
   "pygments_lexer": "ipython3",
   "version": "3.6.8"
  }
 },
 "nbformat": 4,
 "nbformat_minor": 2
}
