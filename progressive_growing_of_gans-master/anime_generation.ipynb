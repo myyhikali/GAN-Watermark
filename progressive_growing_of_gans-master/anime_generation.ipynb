{
 "cells": [
  {
   "cell_type": "code",
   "execution_count": 1,
   "metadata": {
    "scrolled": false
   },
   "outputs": [],
   "source": [
    "import pandas as pd\n",
    "#import dnnlib\n",
    "#import dnnlib.tflib as tflib\n",
    "import tfutil\n",
    "import dataset\n",
    "import misc\n",
    "import numpy as np\n",
    "import config \n",
    "import tensorflow as tf\n",
    "import os\n",
    "\n",
    "import pickle\n",
    "#tflib.init_tf()\n",
    "#path = './results/000-pgan-cifar10_wm_mullabel-cond-preset-v2-1gpu-fp32'\n",
    "#path = './pre_model'\n",
    "#G, D, Gs   = misc.load_pkl(path+'/network-snapshot-002705.pkl')\n",
    "#network_pkl = misc.locate_network_pkl(0, 3747)\n",
    "#print(network_pkl)"
   ]
  },
  {
   "cell_type": "code",
   "execution_count": 2,
   "metadata": {},
   "outputs": [
    {
     "name": "stderr",
     "output_type": "stream",
     "text": [
      "WARNING: Logging before flag parsing goes to stderr.\n",
      "W0721 06:26:53.153005 140021333210944 deprecation_wrapper.py:119] From /tf/notebooks/progressive_growing_of_gans-master/tfutil.py:56: The name tf.get_default_session is deprecated. Please use tf.compat.v1.get_default_session instead.\n",
      "\n",
      "W0721 06:26:53.154122 140021333210944 deprecation_wrapper.py:119] From /tf/notebooks/progressive_growing_of_gans-master/tfutil.py:57: The name tf.set_random_seed is deprecated. Please use tf.compat.v1.set_random_seed instead.\n",
      "\n",
      "W0721 06:26:53.170404 140021333210944 deprecation_wrapper.py:119] From /tf/notebooks/progressive_growing_of_gans-master/tfutil.py:65: The name tf.ConfigProto is deprecated. Please use tf.compat.v1.ConfigProto instead.\n",
      "\n",
      "W0721 06:26:53.170998 140021333210944 deprecation_wrapper.py:119] From /tf/notebooks/progressive_growing_of_gans-master/tfutil.py:72: The name tf.Session is deprecated. Please use tf.compat.v1.Session instead.\n",
      "\n",
      "W0721 06:26:54.676268 140021333210944 deprecation_wrapper.py:119] From /tf/notebooks/progressive_growing_of_gans-master/tfutil.py:477: The name tf.get_default_graph is deprecated. Please use tf.compat.v1.get_default_graph instead.\n",
      "\n"
     ]
    },
    {
     "name": "stdout",
     "output_type": "stream",
     "text": [
      "Loading networks from \"model/progan-mullabel3000-003751.pkl\"...\n",
      "---226tfutil--- <module '_tfutil_network_import_module_0'> ----  G_paper ------\n",
      "---226tfutil--- <module '_tfutil_network_import_module_1'> ----  D_paper ------\n",
      "---226tfutil--- <module '_tfutil_network_import_module_2'> ----  G_paper ------\n",
      "<class 'tfutil.Network'>\n",
      "\n",
      "Gs                          Params      OutputShape             WeightShape             \n",
      "---                         ---         ---                     ---                     \n",
      "latents_in                  -           (?, 512)                -                       \n",
      "labels_in                   -           (?, 10)                 -                       \n",
      "lod                         -           ()                      -                       \n",
      "4x4/PixelNorm               -           (?, 522)                -                       \n",
      "4x4/Dense                   4276736     (512,)                  (522, 8192)             \n",
      "4x4/Conv                    2359808     (512,)                  (3, 3, 512, 512)        \n",
      "ToRGB_lod3                  1539        (3,)                    (1, 1, 512, 3)          \n",
      "8x8/Conv0_up                2359808     (512,)                  (3, 3, 512, 512)        \n",
      "8x8/Conv1                   2359808     (512,)                  (3, 3, 512, 512)        \n",
      "ToRGB_lod2                  1539        (3,)                    (1, 1, 512, 3)          \n",
      "Upscale2D                   -           (?, 3, 8, 8)            -                       \n",
      "Grow_lod2                   -           (?, 3, 8, 8)            -                       \n",
      "16x16/Conv0_up              2359808     (512,)                  (3, 3, 512, 512)        \n",
      "16x16/Conv1                 2359808     (512,)                  (3, 3, 512, 512)        \n",
      "ToRGB_lod1                  1539        (3,)                    (1, 1, 512, 3)          \n",
      "Upscale2D_1                 -           (?, 3, 16, 16)          -                       \n",
      "Grow_lod1                   -           (?, 3, 16, 16)          -                       \n",
      "32x32/Conv0_up              2359808     (512,)                  (3, 3, 512, 512)        \n",
      "32x32/Conv1                 2359808     (512,)                  (3, 3, 512, 512)        \n",
      "ToRGB_lod0                  1539        (3,)                    (1, 1, 512, 3)          \n",
      "Upscale2D_2                 -           (?, 3, 32, 32)          -                       \n",
      "Grow_lod0                   -           (?, 3, 32, 32)          -                       \n",
      "images_out                  -           (?, 3, 32, 32)          -                       \n",
      "---                         ---         ---                     ---                     \n",
      "Total                       20801548                                                    \n",
      "\n"
     ]
    }
   ],
   "source": [
    "# resume_run_id = 4\n",
    "# resume_snapshot = 12000\n",
    "path = 'model/'\n",
    "tfutil.init_tf(config.tf_config)\n",
    "with tf.device('/gpu:0'):\n",
    "#     if resume_run_id is not None:\n",
    "        #network_pkl = misc.locate_network_pkl(resume_run_id, resume_snapshot)\n",
    "    network_pkl = misc.locate_network_pkl(path+'progan-mullabel3000-003751.pkl')\n",
    "    print('Loading networks from \"%s\"...' % network_pkl)\n",
    "    G, D, Gs = misc.load_pkl(network_pkl)\n",
    "            \n",
    "#print(type(Gs))\n",
    "#Gs.print_layers()"
   ]
  },
  {
   "cell_type": "code",
   "execution_count": 3,
   "metadata": {
    "scrolled": true
   },
   "outputs": [
    {
     "name": "stderr",
     "output_type": "stream",
     "text": [
      "W0721 06:27:26.339923 140021333210944 deprecation_wrapper.py:119] From /tf/notebooks/progressive_growing_of_gans-master/dataset.py:72: The name tf.python_io.TFRecordOptions is deprecated. Please use tf.io.TFRecordOptions instead.\n",
      "\n",
      "W0721 06:27:26.341089 140021333210944 deprecation_wrapper.py:119] From /tf/notebooks/progressive_growing_of_gans-master/dataset.py:72: The name tf.python_io.TFRecordCompressionType is deprecated. Please use tf.compat.v1.python_io.TFRecordCompressionType instead.\n",
      "\n",
      "W0721 06:27:26.342031 140021333210944 deprecation.py:323] From /tf/notebooks/progressive_growing_of_gans-master/dataset.py:73: tf_record_iterator (from tensorflow.python.lib.io.tf_record) is deprecated and will be removed in a future version.\n",
      "Instructions for updating:\n",
      "Use eager execution and: \n",
      "`tf.data.TFRecordDataset(path)`\n",
      "W0721 06:27:26.409500 140021333210944 deprecation.py:323] From /usr/local/lib/python3.6/dist-packages/tensorflow/python/data/util/random_seed.py:58: add_dispatch_support.<locals>.wrapper (from tensorflow.python.ops.array_ops) is deprecated and will be removed in a future version.\n",
      "Instructions for updating:\n",
      "Use tf.where in 2.0, which has the same broadcast rule as np.where\n",
      "W0721 06:27:26.466732 140021333210944 deprecation_wrapper.py:119] From /tf/notebooks/progressive_growing_of_gans-master/dataset.py:131: The name tf.data.Iterator is deprecated. Please use tf.compat.v1.data.Iterator instead.\n",
      "\n",
      "W0721 06:27:26.467620 140021333210944 deprecation.py:323] From /tf/notebooks/progressive_growing_of_gans-master/dataset.py:131: DatasetV1.output_types (from tensorflow.python.data.ops.dataset_ops) is deprecated and will be removed in a future version.\n",
      "Instructions for updating:\n",
      "Use `tf.compat.v1.data.get_output_types(dataset)`.\n",
      "W0721 06:27:26.468747 140021333210944 deprecation.py:323] From /tf/notebooks/progressive_growing_of_gans-master/dataset.py:131: DatasetV1.output_shapes (from tensorflow.python.data.ops.dataset_ops) is deprecated and will be removed in a future version.\n",
      "Instructions for updating:\n",
      "Use `tf.compat.v1.data.get_output_shapes(dataset)`.\n",
      "W0721 06:27:26.477300 140021333210944 deprecation.py:323] From /usr/local/lib/python3.6/dist-packages/tensorflow/python/data/ops/iterator_ops.py:348: Iterator.output_types (from tensorflow.python.data.ops.iterator_ops) is deprecated and will be removed in a future version.\n",
      "Instructions for updating:\n",
      "Use `tf.compat.v1.data.get_output_types(iterator)`.\n",
      "W0721 06:27:26.477949 140021333210944 deprecation.py:323] From /usr/local/lib/python3.6/dist-packages/tensorflow/python/data/ops/iterator_ops.py:349: Iterator.output_shapes (from tensorflow.python.data.ops.iterator_ops) is deprecated and will be removed in a future version.\n",
      "Instructions for updating:\n",
      "Use `tf.compat.v1.data.get_output_shapes(iterator)`.\n",
      "W0721 06:27:26.478464 140021333210944 deprecation.py:323] From /usr/local/lib/python3.6/dist-packages/tensorflow/python/data/ops/iterator_ops.py:351: Iterator.output_classes (from tensorflow.python.data.ops.iterator_ops) is deprecated and will be removed in a future version.\n",
      "Instructions for updating:\n",
      "Use `tf.compat.v1.data.get_output_classes(iterator)`.\n"
     ]
    },
    {
     "name": "stdout",
     "output_type": "stream",
     "text": [
      "Streaming data using dataset.TFRecordDataset...\n",
      "---232--- dataset.TFRecordDataset ------\n",
      "------214----- ['dataset', 'TFRecordDataset']\n",
      "------217----- dataset\n",
      "-----221---- <module 'dataset' from '/tf/notebooks/progressive_growing_of_gans-master/dataset.py'>\n",
      "---226tfutil--- <module 'dataset' from '/tf/notebooks/progressive_growing_of_gans-master/dataset.py'> ----  TFRecordDataset ------\n",
      "Dataset shape = [3, 32, 32]\n",
      "Dynamic range = [0, 255]\n",
      "Label size    = 10\n",
      "load finish\n"
     ]
    }
   ],
   "source": [
    "#dataset_args = EasyDict(tfrecord_dir='cifar10_wm_mullabel')\n",
    "training_set = dataset.load_dataset(data_dir=config.data_dir, verbose=True, **config.dataset)\n",
    "print('load finish')"
   ]
  },
  {
   "cell_type": "code",
   "execution_count": 4,
   "metadata": {},
   "outputs": [],
   "source": [
    "def setup_snapshot_image_grid(G, training_set,\n",
    "    size    = '1080p',      # '1080p' = to be viewed on 1080p display, '4k' = to be viewed on 4k display.\n",
    "    layout  = 'random'):    # 'random' = grid contents are selected randomly, 'row_per_class' = each row corresponds to one class label.\n",
    "\n",
    "    # Select size.\n",
    "    gw = 1; gh = 1\n",
    "    if size == '1080p':\n",
    "        gw = np.clip(1920 // G.output_shape[3], 3, 32)\n",
    "        gh = np.clip(1080 // G.output_shape[2], 2, 32)\n",
    "    if size == '4k':\n",
    "        gw = np.clip(3840 // G.output_shape[3], 7, 32)\n",
    "        gh = np.clip(2160 // G.output_shape[2], 4, 32)\n",
    "\n",
    "    # Fill in reals and labels.\n",
    "    reals = np.zeros([gw * gh] + training_set.shape, dtype=training_set.dtype)\n",
    "    labels = np.zeros([gw * gh, training_set.label_size], dtype=training_set.label_dtype)\n",
    "    for idx in range(gw * gh):\n",
    "        x = idx % gw; y = idx // gw\n",
    "        while True:\n",
    "            real, label = training_set.get_minibatch_np(1)\n",
    "            if layout == 'row_per_class' and training_set.label_size > 0:\n",
    "                if label[0, y % training_set.label_size] == 0.0:\n",
    "                    continue\n",
    "            reals[idx] = real[0]\n",
    "            labels[idx] = label[0]\n",
    "            break\n",
    "\n",
    "    # Generate latents.\n",
    "    latents = misc.random_latents(gw * gh, G)\n",
    "    return (gw, gh), reals, labels, latents\n"
   ]
  },
  {
   "cell_type": "code",
   "execution_count": 5,
   "metadata": {},
   "outputs": [],
   "source": [
    "grid_size, grid_reals, grid_labels, grid_latents = setup_snapshot_image_grid(G, training_set, **config.grid)\n",
    "print(grid_size)\n",
    "print(len(grid_latents))\n",
    "print(len(grid_latents[0]))"
   ]
  },
  {
   "cell_type": "code",
   "execution_count": 8,
   "metadata": {
    "scrolled": true
   },
   "outputs": [
    {
     "name": "stdout",
     "output_type": "stream",
     "text": [
      "[1. 0. 0. 0. 1. 1. 0. 0. 0. 1.]\n"
     ]
    }
   ],
   "source": [
    "for i in range(1024):\n",
    "    k = 0\n",
    "    for j in grid_labels[i]:\n",
    "        if(j == 1 ):\n",
    "            k = k + 1\n",
    "    if k >1:\n",
    "        print(grid_labels[i])\n",
    "        break"
   ]
  },
  {
   "cell_type": "code",
   "execution_count": 9,
   "metadata": {
    "scrolled": true
   },
   "outputs": [],
   "source": [
    "from matplotlib import pyplot as plt\n",
    "for i in range(len(grid_labels)) :\n",
    "    #break\n",
    "    #grid_labels[i][np.where(grid_labels[i] == 1)]\n",
    "    #print(grid_labels[i])\n",
    "   # print(np.where(grid_labels[i] == 1)[0][0])\n",
    "    label = np.where(grid_labels[i] == 1)[0][0]\n",
    "    \n",
    "    k=0 \n",
    "    for j in grid_labels[i]:\n",
    "        if(j == 1 ):\n",
    "            k = k + 1\n",
    "    if k >1:\n",
    "        label = 11\n",
    "    grid_fakes = Gs.run(np.matrix(grid_latents[i]),np.matrix(grid_labels[i]), is_validation=True, randomize_noise=True) #这部分需要重新考虑\n",
    "    misc.save_image_grid(grid_fakes, os.path.join(path + '/progan-mullabel3000-003751/' ,'%dfakes%d.png'%(label,i)), drange=[-1,1], grid_size=[1,1])"
   ]
  },
  {
   "cell_type": "code",
   "execution_count": 10,
   "metadata": {},
   "outputs": [
    {
     "name": "stdout",
     "output_type": "stream",
     "text": [
      "hihi/byebye\n"
     ]
    }
   ],
   "source": [
    "print('hihi/'+'byebye')"
   ]
  },
  {
   "cell_type": "code",
   "execution_count": null,
   "metadata": {},
   "outputs": [],
   "source": []
  }
 ],
 "metadata": {
  "kernelspec": {
   "display_name": "Python 3",
   "language": "python",
   "name": "python3"
  },
  "language_info": {
   "codemirror_mode": {
    "name": "ipython",
    "version": 3
   },
   "file_extension": ".py",
   "mimetype": "text/x-python",
   "name": "python",
   "nbconvert_exporter": "python",
   "pygments_lexer": "ipython3",
   "version": "3.6.8"
  }
 },
 "nbformat": 4,
 "nbformat_minor": 2
}
