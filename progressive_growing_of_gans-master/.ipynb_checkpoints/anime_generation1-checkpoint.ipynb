{
 "cells": [
  {
   "cell_type": "code",
   "execution_count": 1,
   "metadata": {
    "scrolled": false
   },
   "outputs": [],
   "source": [
    "import pandas as pd\n",
    "#import dnnlib\n",
    "#import dnnlib.tflib as tflib\n",
    "import tfutil\n",
    "import dataset\n",
    "import misc\n",
    "import numpy as np\n",
    "import config \n",
    "import tensorflow as tf\n",
    "import os\n",
    "\n",
    "import pickle\n",
    "#tflib.init_tf()\n",
    "#path = './results/000-pgan-cifar10_wm_mullabel-cond-preset-v2-1gpu-fp32'\n",
    "#path = './pre_model'\n",
    "#G, D, Gs   = misc.load_pkl(path+'/network-snapshot-002705.pkl')\n",
    "#network_pkl = misc.locate_network_pkl(0, 3747)\n",
    "#print(network_pkl)"
   ]
  },
  {
   "cell_type": "code",
   "execution_count": 2,
   "metadata": {},
   "outputs": [
    {
     "name": "stdout",
     "output_type": "stream",
     "text": [
      "WARNING:tensorflow:From F:\\aa学习\\研究生学习研究\\GAN网络\\progressive_growing_of_gans-master\\tfutil.py:56: The name tf.get_default_session is deprecated. Please use tf.compat.v1.get_default_session instead.\n",
      "\n",
      "WARNING:tensorflow:From F:\\aa学习\\研究生学习研究\\GAN网络\\progressive_growing_of_gans-master\\tfutil.py:57: The name tf.set_random_seed is deprecated. Please use tf.compat.v1.set_random_seed instead.\n",
      "\n",
      "WARNING:tensorflow:From F:\\aa学习\\研究生学习研究\\GAN网络\\progressive_growing_of_gans-master\\tfutil.py:65: The name tf.ConfigProto is deprecated. Please use tf.compat.v1.ConfigProto instead.\n",
      "\n",
      "WARNING:tensorflow:From F:\\aa学习\\研究生学习研究\\GAN网络\\progressive_growing_of_gans-master\\tfutil.py:72: The name tf.Session is deprecated. Please use tf.compat.v1.Session instead.\n",
      "\n",
      "Loading networks from \"results\\000-pgan-cifar10_wm_mullabel-cond-preset-v2-1gpu-fp32\\network-snapshot-003747.pkl\"...\n",
      "WARNING:tensorflow:From F:\\aa学习\\研究生学习研究\\GAN网络\\progressive_growing_of_gans-master\\tfutil.py:470: The name tf.get_default_graph is deprecated. Please use tf.compat.v1.get_default_graph instead.\n",
      "\n",
      "<class 'tfutil.Network'>\n"
     ]
    }
   ],
   "source": [
    "resume_run_id = 0\n",
    "resume_snapshot = 3747\n",
    "\n",
    "tfutil.init_tf(config.tf_config)\n",
    "with tf.device('/gpu:0'):\n",
    "    if resume_run_id is not None:\n",
    "        network_pkl = misc.locate_network_pkl(resume_run_id, resume_snapshot)\n",
    "        print('Loading networks from \"%s\"...' % network_pkl)\n",
    "        G, D, Gs = misc.load_pkl(network_pkl)\n",
    "            \n",
    "print(type(Gs))"
   ]
  },
  {
   "cell_type": "code",
   "execution_count": 3,
   "metadata": {
    "scrolled": true
   },
   "outputs": [
    {
     "name": "stdout",
     "output_type": "stream",
     "text": [
      "\n",
      "Gs                          Params      OutputShape             WeightShape             \n",
      "---                         ---         ---                     ---                     \n",
      "latents_in                  -           (?, 32)                 -                       \n",
      "labels_in                   -           (?, 10)                 -                       \n",
      "lod                         -           ()                      -                       \n",
      "4x4/PixelNorm               -           (?, 42)                 -                       \n",
      "4x4/Dense                   21536       (32,)                   (42, 512)               \n",
      "4x4/Conv                    9248        (32,)                   (3, 3, 32, 32)          \n",
      "ToRGB_lod3                  99          (3,)                    (1, 1, 32, 3)           \n",
      "8x8/Conv0_up                9248        (32,)                   (3, 3, 32, 32)          \n",
      "8x8/Conv1                   9248        (32,)                   (3, 3, 32, 32)          \n",
      "ToRGB_lod2                  99          (3,)                    (1, 1, 32, 3)           \n",
      "Upscale2D                   -           (?, 3, 8, 8)            -                       \n",
      "Grow_lod2                   -           (?, 3, 8, 8)            -                       \n",
      "16x16/Conv0_up              9248        (32,)                   (3, 3, 32, 32)          \n",
      "16x16/Conv1                 9248        (32,)                   (3, 3, 32, 32)          \n",
      "ToRGB_lod1                  99          (3,)                    (1, 1, 32, 3)           \n",
      "Upscale2D_1                 -           (?, 3, 16, 16)          -                       \n",
      "Grow_lod1                   -           (?, 3, 16, 16)          -                       \n",
      "32x32/Conv0_up              9248        (32,)                   (3, 3, 32, 32)          \n",
      "32x32/Conv1                 9248        (32,)                   (3, 3, 32, 32)          \n",
      "ToRGB_lod0                  99          (3,)                    (1, 1, 32, 3)           \n",
      "Upscale2D_2                 -           (?, 3, 32, 32)          -                       \n",
      "Grow_lod0                   -           (?, 3, 32, 32)          -                       \n",
      "images_out                  -           (?, 3, 32, 32)          -                       \n",
      "---                         ---         ---                     ---                     \n",
      "Total                       86668                                                       \n",
      "\n"
     ]
    }
   ],
   "source": [
    "Gs.print_layers()"
   ]
  },
  {
   "cell_type": "code",
   "execution_count": 4,
   "metadata": {
    "scrolled": true
   },
   "outputs": [
    {
     "name": "stdout",
     "output_type": "stream",
     "text": [
      "Streaming data using dataset.TFRecordDataset...\n",
      "WARNING:tensorflow:From F:\\aa学习\\研究生学习研究\\GAN网络\\progressive_growing_of_gans-master\\dataset.py:72: The name tf.python_io.TFRecordOptions is deprecated. Please use tf.io.TFRecordOptions instead.\n",
      "\n",
      "WARNING:tensorflow:From F:\\aa学习\\研究生学习研究\\GAN网络\\progressive_growing_of_gans-master\\dataset.py:72: The name tf.python_io.TFRecordCompressionType is deprecated. Please use tf.compat.v1.python_io.TFRecordCompressionType instead.\n",
      "\n",
      "WARNING:tensorflow:From F:\\aa学习\\研究生学习研究\\GAN网络\\progressive_growing_of_gans-master\\dataset.py:73: tf_record_iterator (from tensorflow.python.lib.io.tf_record) is deprecated and will be removed in a future version.\n",
      "Instructions for updating:\n",
      "Use eager execution and: \n",
      "`tf.data.TFRecordDataset(path)`\n",
      "WARNING:tensorflow:From c:\\users\\icey\\anaconda3\\envs\\tensorflow1.14\\lib\\site-packages\\tensorflow\\python\\data\\util\\random_seed.py:58: add_dispatch_support.<locals>.wrapper (from tensorflow.python.ops.array_ops) is deprecated and will be removed in a future version.\n",
      "Instructions for updating:\n",
      "Use tf.where in 2.0, which has the same broadcast rule as np.where\n",
      "WARNING:tensorflow:From F:\\aa学习\\研究生学习研究\\GAN网络\\progressive_growing_of_gans-master\\dataset.py:131: The name tf.data.Iterator is deprecated. Please use tf.compat.v1.data.Iterator instead.\n",
      "\n",
      "WARNING:tensorflow:From F:\\aa学习\\研究生学习研究\\GAN网络\\progressive_growing_of_gans-master\\dataset.py:131: DatasetV1.output_types (from tensorflow.python.data.ops.dataset_ops) is deprecated and will be removed in a future version.\n",
      "Instructions for updating:\n",
      "Use `tf.compat.v1.data.get_output_types(dataset)`.\n",
      "WARNING:tensorflow:From F:\\aa学习\\研究生学习研究\\GAN网络\\progressive_growing_of_gans-master\\dataset.py:131: DatasetV1.output_shapes (from tensorflow.python.data.ops.dataset_ops) is deprecated and will be removed in a future version.\n",
      "Instructions for updating:\n",
      "Use `tf.compat.v1.data.get_output_shapes(dataset)`.\n",
      "WARNING:tensorflow:From c:\\users\\icey\\anaconda3\\envs\\tensorflow1.14\\lib\\site-packages\\tensorflow\\python\\data\\ops\\iterator_ops.py:348: Iterator.output_types (from tensorflow.python.data.ops.iterator_ops) is deprecated and will be removed in a future version.\n",
      "Instructions for updating:\n",
      "Use `tf.compat.v1.data.get_output_types(iterator)`.\n",
      "WARNING:tensorflow:From c:\\users\\icey\\anaconda3\\envs\\tensorflow1.14\\lib\\site-packages\\tensorflow\\python\\data\\ops\\iterator_ops.py:349: Iterator.output_shapes (from tensorflow.python.data.ops.iterator_ops) is deprecated and will be removed in a future version.\n",
      "Instructions for updating:\n",
      "Use `tf.compat.v1.data.get_output_shapes(iterator)`.\n",
      "WARNING:tensorflow:From c:\\users\\icey\\anaconda3\\envs\\tensorflow1.14\\lib\\site-packages\\tensorflow\\python\\data\\ops\\iterator_ops.py:351: Iterator.output_classes (from tensorflow.python.data.ops.iterator_ops) is deprecated and will be removed in a future version.\n",
      "Instructions for updating:\n",
      "Use `tf.compat.v1.data.get_output_classes(iterator)`.\n",
      "Dataset shape = [3, 32, 32]\n",
      "Dynamic range = [0, 255]\n",
      "Label size    = 10\n",
      "load finish\n"
     ]
    }
   ],
   "source": [
    "#dataset_args = EasyDict(tfrecord_dir='cifar10_wm_mullabel')\n",
    "training_set = dataset.load_dataset(data_dir=config.data_dir, verbose=True, **config.dataset)\n",
    "print('load finish')"
   ]
  },
  {
   "cell_type": "code",
   "execution_count": 13,
   "metadata": {},
   "outputs": [],
   "source": [
    "def setup_snapshot_image_grid(G, training_set,\n",
    "    size    = '1080p',      # '1080p' = to be viewed on 1080p display, '4k' = to be viewed on 4k display.\n",
    "    layout  = 'random'):    # 'random' = grid contents are selected randomly, 'row_per_class' = each row corresponds to one class label.\n",
    "\n",
    "    # Select size.\n",
    "    gw = 1; gh = 1\n",
    "    if size == '1080p':\n",
    "        gw = np.clip(1920 // G.output_shape[3], 3, 32)\n",
    "        gh = np.clip(1080 // G.output_shape[2], 2, 32)\n",
    "    if size == '4k':\n",
    "        gw = np.clip(3840 // G.output_shape[3], 7, 32)\n",
    "        gh = np.clip(2160 // G.output_shape[2], 4, 32)\n",
    "\n",
    "    # Fill in reals and labels.\n",
    "    reals = np.zeros([gw * gh] + training_set.shape, dtype=training_set.dtype)\n",
    "    labels = np.zeros([gw * gh, training_set.label_size], dtype=training_set.label_dtype)\n",
    "    for idx in range(gw * gh):\n",
    "        x = idx % gw; y = idx // gw\n",
    "        while True:\n",
    "            real, label = training_set.get_minibatch_np(1)\n",
    "            if layout == 'row_per_class' and training_set.label_size > 0:\n",
    "                if label[0, y % training_set.label_size] == 0.0:\n",
    "                    continue\n",
    "            reals[idx] = real[0]\n",
    "            labels[idx] = label[0]\n",
    "            break\n",
    "\n",
    "    # Generate latents.\n",
    "    latents = misc.random_latents(gw * gh, G)\n",
    "    return (gw, gh), reals, labels, latents\n"
   ]
  },
  {
   "cell_type": "code",
   "execution_count": 14,
   "metadata": {},
   "outputs": [],
   "source": [
    "def setup_snapshot_image_grid1(G, training_set,\n",
    "    size    = '1080p',      # '1080p' = to be viewed on 1080p display, '4k' = to be viewed on 4k display.\n",
    "    layout  = 'random'):    # 'random' = grid contents are selected randomly, 'row_per_class' = each row corresponds to one class label.\n",
    "\n",
    "    # Select size.\n",
    "    gw = 1; gh = 1\n",
    "    if size == '1080p':\n",
    "        gw = np.clip(1920 // G.output_shape[3], 3, 32)\n",
    "        gh = np.clip(1080 // G.output_shape[2], 2, 32)\n",
    "    if size == '4k':\n",
    "        gw = np.clip(3840 // G.output_shape[3], 7, 32)\n",
    "        gh = np.clip(2160 // G.output_shape[2], 4, 32)\n",
    "\n",
    "    # Initialize data arrays.\n",
    "    reals = np.zeros([gw * gh] + training_set.shape, dtype=training_set.dtype)\n",
    "    labels = np.zeros([gw * gh, training_set.label_size], dtype=training_set.label_dtype)\n",
    "    latents = np.random.randn(gw * gh, *G.input_shape[1:])\n",
    "\n",
    "    # Random layout.\n",
    "    if layout == 'random':\n",
    "        reals[:], labels[:] = training_set.get_minibatch_np(gw * gh)\n",
    "\n",
    "    # Class-conditional layouts.\n",
    "    class_layouts = dict(row_per_class=[gw,1], col_per_class=[1,gh], class4x4=[4,4])\n",
    "    if layout in class_layouts:\n",
    "        bw, bh = class_layouts[layout]\n",
    "        nw = (gw - 1) // bw + 1\n",
    "        nh = (gh - 1) // bh + 1\n",
    "        blocks = [[] for _i in range(nw * nh)]\n",
    "        for _iter in range(1000000):\n",
    "            real, label = training_set.get_minibatch_np(1)\n",
    "            idx = np.argmax(label[0])\n",
    "            while idx < len(blocks) and len(blocks[idx]) >= bw * bh:\n",
    "                idx += training_set.label_size\n",
    "            if idx < len(blocks):\n",
    "                blocks[idx].append((real, label))\n",
    "                if all(len(block) >= bw * bh for block in blocks):\n",
    "                    break\n",
    "        for i, block in enumerate(blocks):\n",
    "            for j, (real, label) in enumerate(block):\n",
    "                x = (i % nw) * bw + j % bw\n",
    "                y = (i // nw) * bh + j // bw\n",
    "                if x < gw and y < gh:\n",
    "                    reals[x + y * gw] = real[0]\n",
    "                    labels[x + y * gw] = label[0]\n",
    "\n",
    "    return (gw, gh), reals, labels, latents"
   ]
  },
  {
   "cell_type": "code",
   "execution_count": 15,
   "metadata": {},
   "outputs": [],
   "source": [
    "#grid_args = EasyDict(size='1080p', layout='random')   # bug点\n",
    "# grid_labels\n",
    "grid_size, grid_reals, grid_labels, grid_latents = setup_snapshot_image_grid(G, training_set, **config.grid)"
   ]
  },
  {
   "cell_type": "code",
   "execution_count": 16,
   "metadata": {},
   "outputs": [
    {
     "name": "stdout",
     "output_type": "stream",
     "text": [
      "(32, 32)\n",
      "1024\n",
      "32\n"
     ]
    }
   ],
   "source": [
    "print(grid_size)\n",
    "print(len(grid_latents))\n",
    "print(len(grid_latents[0]))\n",
    "#print(grid_latents)"
   ]
  },
  {
   "cell_type": "code",
   "execution_count": 17,
   "metadata": {},
   "outputs": [
    {
     "name": "stdout",
     "output_type": "stream",
     "text": [
      "[[1. 0. 0. ... 0. 0. 0.]\n",
      " [0. 0. 0. ... 0. 0. 0.]\n",
      " [1. 0. 0. ... 0. 0. 0.]\n",
      " ...\n",
      " [0. 0. 0. ... 0. 0. 0.]\n",
      " [0. 0. 0. ... 0. 0. 0.]\n",
      " [0. 0. 0. ... 0. 0. 0.]]\n",
      "1024\n",
      "10\n"
     ]
    }
   ],
   "source": [
    "print(grid_labels)\n",
    "print(len(grid_labels))\n",
    "print(len(grid_labels[0]))"
   ]
  },
  {
   "cell_type": "code",
   "execution_count": 18,
   "metadata": {},
   "outputs": [
    {
     "name": "stdout",
     "output_type": "stream",
     "text": [
      "[0. 0. 0. 1. 0. 1. 0. 0. 1. 1.]\n",
      "[0. 0. 0. 1. 0. 1. 0. 0. 1. 1.]\n",
      "[0. 0. 0. 1. 0. 1. 0. 0. 1. 1.]\n",
      "[0. 0. 0. 1. 0. 1. 0. 0. 1. 1.]\n",
      "[0. 0. 0. 1. 0. 1. 0. 0. 1. 1.]\n",
      "[0. 0. 0. 1. 0. 1. 0. 0. 1. 1.]\n",
      "[0. 0. 0. 1. 0. 1. 0. 0. 1. 1.]\n",
      "[0. 0. 0. 1. 0. 1. 0. 0. 1. 1.]\n",
      "[0. 0. 0. 1. 0. 1. 0. 0. 1. 1.]\n",
      "[0. 0. 0. 1. 0. 1. 0. 0. 1. 1.]\n",
      "[0. 0. 0. 1. 0. 1. 0. 0. 1. 1.]\n"
     ]
    }
   ],
   "source": [
    "for i in range(1024):\n",
    "    k = 0\n",
    "    for j in grid_labels[i]:\n",
    "        if(j == 1 ):\n",
    "            k = k + 1\n",
    "    if k >1:\n",
    "        print(grid_labels[i])"
   ]
  },
  {
   "cell_type": "code",
   "execution_count": 11,
   "metadata": {
    "scrolled": true
   },
   "outputs": [],
   "source": [
    "from matplotlib import pyplot as plt\n",
    "for i in range(len(grid_labels)) :\n",
    "    break\n",
    "    #grid_labels[i][np.where(grid_labels[i] == 1)]\n",
    "    #print(grid_labels[i])\n",
    "   # print(np.where(grid_labels[i] == 1)[0][0])\n",
    "    label = np.where(grid_labels[i] == 1)[0][0]\n",
    "    grid_fakes = Gs.run(np.matrix(grid_latents[i]),np.matrix(grid_labels[i]), is_validation=True, randomize_noise=True)\n",
    "    misc.save_image_grid(grid_fakes, os.path.join(path + '/pgan3747/' ,'%dfakes%d.png'%(label,i)), drange=[-1,1], grid_size=[1,1])"
   ]
  },
  {
   "cell_type": "code",
   "execution_count": 12,
   "metadata": {},
   "outputs": [
    {
     "name": "stdout",
     "output_type": "stream",
     "text": [
      "hihi/byebye\n"
     ]
    }
   ],
   "source": [
    "print('hihi/'+'byebye')"
   ]
  },
  {
   "cell_type": "code",
   "execution_count": null,
   "metadata": {},
   "outputs": [],
   "source": []
  },
  {
   "cell_type": "code",
   "execution_count": null,
   "metadata": {},
   "outputs": [],
   "source": []
  }
 ],
 "metadata": {
  "kernelspec": {
   "display_name": "Python 3",
   "language": "python",
   "name": "python3"
  },
  "language_info": {
   "codemirror_mode": {
    "name": "ipython",
    "version": 3
   },
   "file_extension": ".py",
   "mimetype": "text/x-python",
   "name": "python",
   "nbconvert_exporter": "python",
   "pygments_lexer": "ipython3",
   "version": "3.7.10"
  }
 },
 "nbformat": 4,
 "nbformat_minor": 2
}
